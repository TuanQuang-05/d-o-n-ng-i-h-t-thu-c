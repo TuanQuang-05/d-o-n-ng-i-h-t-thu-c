{
 "cells": [
  {
   "cell_type": "markdown",
   "metadata": {
    "id": "evZRM1iIK-PG"
   },
   "source": [
    "###1. Khai báo thư viện"
   ]
  },
  {
   "cell_type": "code",
   "execution_count": 13,
   "metadata": {
    "executionInfo": {
     "elapsed": 13865,
     "status": "ok",
     "timestamp": 1731901869297,
     "user": {
      "displayName": "Tuấn Quàng Lê Trần",
      "userId": "02554655782233207157"
     },
     "user_tz": -420
    },
    "id": "9zfVxAPUA72E"
   },
   "outputs": [],
   "source": [
    "# Importing Basic Library\n",
    "import pandas as pd\n",
    "import numpy as np\n",
    "import matplotlib.pyplot as plt\n",
    "import seaborn as sns\n",
    "import random as rd\n",
    "import warnings\n",
    "import plotly.express as px\n",
    "import plotly.io as pio\n",
    "warnings.filterwarnings('ignore')\n",
    "\n",
    "# Importing Machine Learning Library\n",
    "from sklearn.metrics import classification_report, accuracy_score, confusion_matrix\n",
    "from sklearn.preprocessing import StandardScaler\n",
    "from sklearn.feature_selection import SelectKBest, f_classif\n",
    "from sklearn.model_selection import train_test_split, GridSearchCV\n",
    "from sklearn.neighbors import KNeighborsClassifier\n",
    "from imblearn.over_sampling import RandomOverSampler\n",
    "from sklearn.preprocessing import MinMaxScaler"
   ]
  },
  {
   "cell_type": "code",
   "execution_count": 14,
   "metadata": {
    "colab": {
     "base_uri": "https://localhost:8080/"
    },
    "executionInfo": {
     "elapsed": 18935,
     "status": "ok",
     "timestamp": 1731902353974,
     "user": {
      "displayName": "Tuấn Quàng Lê Trần",
      "userId": "02554655782233207157"
     },
     "user_tz": -420
    },
    "id": "THLHZVTCCl_Y",
    "outputId": "6897946e-6160-48cb-b23b-9095226b16ce"
   },
   "outputs": [],
   "source": [
    "#tạo quyền truy cập và lấy dữ liệu từ google drive\n",
    "#from google.colab import drive\n",
    "#rive.mount('/content/drive')\n",
    "#đọc dữ liệu\n",
    "dataset=pd.read_csv('smoking.csv')"
   ]
  },
  {
   "cell_type": "markdown",
   "metadata": {
    "id": "cMzJjqxxP4S0"
   },
   "source": [
    "###2. Đọc dữ liệu"
   ]
  },
  {
   "cell_type": "code",
   "execution_count": 15,
   "metadata": {
    "colab": {
     "base_uri": "https://localhost:8080/"
    },
    "executionInfo": {
     "elapsed": 340,
     "status": "ok",
     "timestamp": 1731902358246,
     "user": {
      "displayName": "Tuấn Quàng Lê Trần",
      "userId": "02554655782233207157"
     },
     "user_tz": -420
    },
    "id": "RBru4_URD2gs",
    "outputId": "fc514327-7856-4731-ca8f-7058b6a475be"
   },
   "outputs": [
    {
     "data": {
      "text/plain": [
       "(1691, 13)"
      ]
     },
     "execution_count": 15,
     "metadata": {},
     "output_type": "execute_result"
    }
   ],
   "source": [
    "dataset.shape"
   ]
  },
  {
   "cell_type": "code",
   "execution_count": 16,
   "metadata": {
    "colab": {
     "base_uri": "https://localhost:8080/",
     "height": 269
    },
    "executionInfo": {
     "elapsed": 409,
     "status": "ok",
     "timestamp": 1731902360892,
     "user": {
      "displayName": "Tuấn Quàng Lê Trần",
      "userId": "02554655782233207157"
     },
     "user_tz": -420
    },
    "id": "mYGjigCnE1_7",
    "outputId": "80eeea83-e1b6-495d-827c-4622f3741ce6"
   },
   "outputs": [
    {
     "data": {
      "text/html": [
       "<div>\n",
       "<style scoped>\n",
       "    .dataframe tbody tr th:only-of-type {\n",
       "        vertical-align: middle;\n",
       "    }\n",
       "\n",
       "    .dataframe tbody tr th {\n",
       "        vertical-align: top;\n",
       "    }\n",
       "\n",
       "    .dataframe thead th {\n",
       "        text-align: right;\n",
       "    }\n",
       "</style>\n",
       "<table border=\"1\" class=\"dataframe\">\n",
       "  <thead>\n",
       "    <tr style=\"text-align: right;\">\n",
       "      <th></th>\n",
       "      <th>Unnamed: 0</th>\n",
       "      <th>gender</th>\n",
       "      <th>age</th>\n",
       "      <th>marital_status</th>\n",
       "      <th>highest_qualification</th>\n",
       "      <th>nationality</th>\n",
       "      <th>ethnicity</th>\n",
       "      <th>gross_income</th>\n",
       "      <th>region</th>\n",
       "      <th>smoke</th>\n",
       "      <th>amt_weekends</th>\n",
       "      <th>amt_weekdays</th>\n",
       "      <th>type</th>\n",
       "    </tr>\n",
       "  </thead>\n",
       "  <tbody>\n",
       "    <tr>\n",
       "      <th>0</th>\n",
       "      <td>1</td>\n",
       "      <td>Male</td>\n",
       "      <td>38</td>\n",
       "      <td>Divorced</td>\n",
       "      <td>No Qualification</td>\n",
       "      <td>British</td>\n",
       "      <td>White</td>\n",
       "      <td>2,600 to 5,200</td>\n",
       "      <td>The North</td>\n",
       "      <td>No</td>\n",
       "      <td>NaN</td>\n",
       "      <td>NaN</td>\n",
       "      <td>NaN</td>\n",
       "    </tr>\n",
       "    <tr>\n",
       "      <th>1</th>\n",
       "      <td>2</td>\n",
       "      <td>Female</td>\n",
       "      <td>42</td>\n",
       "      <td>Single</td>\n",
       "      <td>No Qualification</td>\n",
       "      <td>British</td>\n",
       "      <td>White</td>\n",
       "      <td>Under 2,600</td>\n",
       "      <td>The North</td>\n",
       "      <td>Yes</td>\n",
       "      <td>12.0</td>\n",
       "      <td>12.0</td>\n",
       "      <td>Packets</td>\n",
       "    </tr>\n",
       "    <tr>\n",
       "      <th>2</th>\n",
       "      <td>3</td>\n",
       "      <td>Male</td>\n",
       "      <td>40</td>\n",
       "      <td>Married</td>\n",
       "      <td>Degree</td>\n",
       "      <td>English</td>\n",
       "      <td>White</td>\n",
       "      <td>28,600 to 36,400</td>\n",
       "      <td>The North</td>\n",
       "      <td>No</td>\n",
       "      <td>NaN</td>\n",
       "      <td>NaN</td>\n",
       "      <td>NaN</td>\n",
       "    </tr>\n",
       "    <tr>\n",
       "      <th>3</th>\n",
       "      <td>4</td>\n",
       "      <td>Female</td>\n",
       "      <td>40</td>\n",
       "      <td>Married</td>\n",
       "      <td>Degree</td>\n",
       "      <td>English</td>\n",
       "      <td>White</td>\n",
       "      <td>10,400 to 15,600</td>\n",
       "      <td>The North</td>\n",
       "      <td>No</td>\n",
       "      <td>NaN</td>\n",
       "      <td>NaN</td>\n",
       "      <td>NaN</td>\n",
       "    </tr>\n",
       "    <tr>\n",
       "      <th>4</th>\n",
       "      <td>5</td>\n",
       "      <td>Female</td>\n",
       "      <td>39</td>\n",
       "      <td>Married</td>\n",
       "      <td>GCSE/O Level</td>\n",
       "      <td>British</td>\n",
       "      <td>White</td>\n",
       "      <td>2,600 to 5,200</td>\n",
       "      <td>The North</td>\n",
       "      <td>No</td>\n",
       "      <td>NaN</td>\n",
       "      <td>NaN</td>\n",
       "      <td>NaN</td>\n",
       "    </tr>\n",
       "    <tr>\n",
       "      <th>5</th>\n",
       "      <td>6</td>\n",
       "      <td>Female</td>\n",
       "      <td>37</td>\n",
       "      <td>Married</td>\n",
       "      <td>GCSE/O Level</td>\n",
       "      <td>British</td>\n",
       "      <td>White</td>\n",
       "      <td>15,600 to 20,800</td>\n",
       "      <td>The North</td>\n",
       "      <td>No</td>\n",
       "      <td>NaN</td>\n",
       "      <td>NaN</td>\n",
       "      <td>NaN</td>\n",
       "    </tr>\n",
       "    <tr>\n",
       "      <th>6</th>\n",
       "      <td>7</td>\n",
       "      <td>Male</td>\n",
       "      <td>53</td>\n",
       "      <td>Married</td>\n",
       "      <td>Degree</td>\n",
       "      <td>British</td>\n",
       "      <td>White</td>\n",
       "      <td>Above 36,400</td>\n",
       "      <td>The North</td>\n",
       "      <td>Yes</td>\n",
       "      <td>6.0</td>\n",
       "      <td>6.0</td>\n",
       "      <td>Packets</td>\n",
       "    </tr>\n",
       "  </tbody>\n",
       "</table>\n",
       "</div>"
      ],
      "text/plain": [
       "   Unnamed: 0  gender  age marital_status highest_qualification nationality  \\\n",
       "0           1    Male   38       Divorced      No Qualification     British   \n",
       "1           2  Female   42         Single      No Qualification     British   \n",
       "2           3    Male   40        Married                Degree     English   \n",
       "3           4  Female   40        Married                Degree     English   \n",
       "4           5  Female   39        Married          GCSE/O Level     British   \n",
       "5           6  Female   37        Married          GCSE/O Level     British   \n",
       "6           7    Male   53        Married                Degree     British   \n",
       "\n",
       "  ethnicity      gross_income     region smoke  amt_weekends  amt_weekdays  \\\n",
       "0     White    2,600 to 5,200  The North    No           NaN           NaN   \n",
       "1     White       Under 2,600  The North   Yes          12.0          12.0   \n",
       "2     White  28,600 to 36,400  The North    No           NaN           NaN   \n",
       "3     White  10,400 to 15,600  The North    No           NaN           NaN   \n",
       "4     White    2,600 to 5,200  The North    No           NaN           NaN   \n",
       "5     White  15,600 to 20,800  The North    No           NaN           NaN   \n",
       "6     White      Above 36,400  The North   Yes           6.0           6.0   \n",
       "\n",
       "      type  \n",
       "0      NaN  \n",
       "1  Packets  \n",
       "2      NaN  \n",
       "3      NaN  \n",
       "4      NaN  \n",
       "5      NaN  \n",
       "6  Packets  "
      ]
     },
     "execution_count": 16,
     "metadata": {},
     "output_type": "execute_result"
    }
   ],
   "source": [
    "dataset.head(7)"
   ]
  },
  {
   "cell_type": "markdown",
   "metadata": {
    "id": "dlbSTU9ULKLX"
   },
   "source": [
    "#### Giải thích các cột dữ liệu\n",
    "\n",
    "*   Unnamed : STT trong dánh sách\n",
    "*   gender: Giới tính (Male/Female)\n",
    "*   age: Độ tuổi\n",
    "*   marital_status: Tình trạng hôn nhân (Divorced, Married, Separated, Single and Widowed)\n",
    "*   highest_qualification: Trình độ học vấn (A Levels, Degree, GCSE/CSE, GCSE/O Level, Higher/Sub Degree, No Qualification, ONC/BTEC and Other/Sub Degree )\n",
    "*   nationally: Quốc gia (British, English, Irish, Scottish, Welsh, Other, Refused and Unknown)\n",
    "* ethnicity: Dân tộc (Asian, Black, Chinese, Mixed, White and Refused Unknown)\n",
    "* gross_income: Thu nhập (Under 2,600; 2,600 - 5,200; 5,200 - 10,400; 10,400 - 15,600; 15,600 - 20,800; 20,800 - 28,600; 28,600 - 36,400, Above 36,400; Refused and Unknown)\n",
    "* region: Khu vực (London, Midlands And East Anglia, Scotland, South East, South West, The North and Wales)\n",
    "* smoke: Tình trạng hút thuốc (Yes/No)\n",
    "* amt_weekends: Số điếu hút vào ngày cuối tuần\n",
    "* amt_weekdays: Số điêu hút vào các ngày trong tuần\n",
    "* type: Loại thuốc hút (Packets, Hand-Rolled, Both/Mainly Packets and Both/Mainly -Hand-Rolled)\n",
    "\n"
   ]
  },
  {
   "cell_type": "code",
   "execution_count": 17,
   "metadata": {
    "colab": {
     "base_uri": "https://localhost:8080/"
    },
    "executionInfo": {
     "elapsed": 380,
     "status": "ok",
     "timestamp": 1731902366018,
     "user": {
      "displayName": "Tuấn Quàng Lê Trần",
      "userId": "02554655782233207157"
     },
     "user_tz": -420
    },
    "id": "qC7TTLAkE_jw",
    "outputId": "d8185bd0-ef39-439a-fd4c-15ba81ea7d4c"
   },
   "outputs": [
    {
     "name": "stdout",
     "output_type": "stream",
     "text": [
      "<class 'pandas.core.frame.DataFrame'>\n",
      "RangeIndex: 1691 entries, 0 to 1690\n",
      "Data columns (total 13 columns):\n",
      " #   Column                 Non-Null Count  Dtype  \n",
      "---  ------                 --------------  -----  \n",
      " 0   Unnamed: 0             1691 non-null   int64  \n",
      " 1   gender                 1691 non-null   object \n",
      " 2   age                    1691 non-null   int64  \n",
      " 3   marital_status         1691 non-null   object \n",
      " 4   highest_qualification  1691 non-null   object \n",
      " 5   nationality            1691 non-null   object \n",
      " 6   ethnicity              1691 non-null   object \n",
      " 7   gross_income           1691 non-null   object \n",
      " 8   region                 1691 non-null   object \n",
      " 9   smoke                  1691 non-null   object \n",
      " 10  amt_weekends           421 non-null    float64\n",
      " 11  amt_weekdays           421 non-null    float64\n",
      " 12  type                   421 non-null    object \n",
      "dtypes: float64(2), int64(2), object(9)\n",
      "memory usage: 171.9+ KB\n"
     ]
    }
   ],
   "source": [
    "dataset.info()"
   ]
  },
  {
   "cell_type": "markdown",
   "metadata": {
    "id": "IRjd7kJuSr6p"
   },
   "source": [
    "###3. Làm sạch dữ liệu"
   ]
  },
  {
   "cell_type": "markdown",
   "metadata": {
    "id": "2k_Er35VUUUH"
   },
   "source": [
    "####3.1. Xóa bỏ cột không không cần thiết"
   ]
  },
  {
   "cell_type": "code",
   "execution_count": 18,
   "metadata": {
    "executionInfo": {
     "elapsed": 550,
     "status": "ok",
     "timestamp": 1731902369580,
     "user": {
      "displayName": "Tuấn Quàng Lê Trần",
      "userId": "02554655782233207157"
     },
     "user_tz": -420
    },
    "id": "8ODp29r6FPwF"
   },
   "outputs": [],
   "source": [
    "dataset.drop('Unnamed: 0',axis=1,inplace=True)"
   ]
  },
  {
   "cell_type": "markdown",
   "metadata": {
    "id": "_BrDU7m-duKb"
   },
   "source": [
    "#### 3.2. Xử lý dữ liệu bị trùng lặp"
   ]
  },
  {
   "cell_type": "code",
   "execution_count": 19,
   "metadata": {
    "colab": {
     "base_uri": "https://localhost:8080/"
    },
    "executionInfo": {
     "elapsed": 378,
     "status": "ok",
     "timestamp": 1731902373105,
     "user": {
      "displayName": "Tuấn Quàng Lê Trần",
      "userId": "02554655782233207157"
     },
     "user_tz": -420
    },
    "id": "kc-rzZY4dz8d",
    "outputId": "83863696-3757-41df-b7b1-134d051e92e3"
   },
   "outputs": [
    {
     "data": {
      "text/plain": [
       "21"
      ]
     },
     "execution_count": 19,
     "metadata": {},
     "output_type": "execute_result"
    }
   ],
   "source": [
    "dataset.duplicated().sum()"
   ]
  },
  {
   "cell_type": "code",
   "execution_count": 20,
   "metadata": {
    "executionInfo": {
     "elapsed": 3,
     "status": "ok",
     "timestamp": 1731902374527,
     "user": {
      "displayName": "Tuấn Quàng Lê Trần",
      "userId": "02554655782233207157"
     },
     "user_tz": -420
    },
    "id": "WV0V2Bfod2Y-"
   },
   "outputs": [],
   "source": [
    "dataset.drop_duplicates(inplace=True)"
   ]
  },
  {
   "cell_type": "code",
   "execution_count": 21,
   "metadata": {
    "colab": {
     "base_uri": "https://localhost:8080/"
    },
    "executionInfo": {
     "elapsed": 5,
     "status": "ok",
     "timestamp": 1731902376026,
     "user": {
      "displayName": "Tuấn Quàng Lê Trần",
      "userId": "02554655782233207157"
     },
     "user_tz": -420
    },
    "id": "KZMHsDbJd7x4",
    "outputId": "92c3c0d6-0774-4150-fa12-f83f24b2ab49"
   },
   "outputs": [
    {
     "data": {
      "text/plain": [
       "0"
      ]
     },
     "execution_count": 21,
     "metadata": {},
     "output_type": "execute_result"
    }
   ],
   "source": [
    "dataset.duplicated().sum()"
   ]
  },
  {
   "cell_type": "markdown",
   "metadata": {
    "id": "xbik9AddWm6F"
   },
   "source": [
    "#### 3.3. Xử lý các dữ liệu bị thiếu"
   ]
  },
  {
   "cell_type": "code",
   "execution_count": 22,
   "metadata": {
    "colab": {
     "base_uri": "https://localhost:8080/",
     "height": 460
    },
    "executionInfo": {
     "elapsed": 340,
     "status": "ok",
     "timestamp": 1731902383027,
     "user": {
      "displayName": "Tuấn Quàng Lê Trần",
      "userId": "02554655782233207157"
     },
     "user_tz": -420
    },
    "id": "YKBR4fvAWu3P",
    "outputId": "bb493544-9053-4e0e-b2fc-a1fa155f8d1f"
   },
   "outputs": [
    {
     "data": {
      "text/plain": [
       "gender                      0\n",
       "age                         0\n",
       "marital_status              0\n",
       "highest_qualification       0\n",
       "nationality                 0\n",
       "ethnicity                   0\n",
       "gross_income                0\n",
       "region                      0\n",
       "smoke                       0\n",
       "amt_weekends             1249\n",
       "amt_weekdays             1249\n",
       "type                     1249\n",
       "dtype: int64"
      ]
     },
     "execution_count": 22,
     "metadata": {},
     "output_type": "execute_result"
    }
   ],
   "source": [
    "dataset.isnull().sum()"
   ]
  },
  {
   "cell_type": "markdown",
   "metadata": {
    "id": "Gcgj1k8ebop4"
   },
   "source": [
    "* Xử lý các giá trị null ở cột 'amt_weekends', 'amt_weekdays' bằng cách chọn những hàng 'smoke' = 0 và đặt các giá trị null của hai cột trên thành 0 cho các hàng đó."
   ]
  },
  {
   "cell_type": "code",
   "execution_count": 23,
   "metadata": {
    "executionInfo": {
     "elapsed": 338,
     "status": "ok",
     "timestamp": 1731902386938,
     "user": {
      "displayName": "Tuấn Quàng Lê Trần",
      "userId": "02554655782233207157"
     },
     "user_tz": -420
    },
    "id": "PBYi9_lFauJa"
   },
   "outputs": [],
   "source": [
    "no_smoke_rows = dataset.loc[dataset['smoke'] == 'No']\n",
    "dataset.loc[no_smoke_rows.index, ['amt_weekends', 'amt_weekdays']] = 0"
   ]
  },
  {
   "cell_type": "markdown",
   "metadata": {
    "id": "OtNR0MhhcaHq"
   },
   "source": [
    "* Xử lý các giá trị null ở cột 'type' bằng cách chọn những hàng 'smoke' = 0 và đặt các giá trị null của cột này thành 0 cho các hàng đó."
   ]
  },
  {
   "cell_type": "code",
   "execution_count": 24,
   "metadata": {
    "executionInfo": {
     "elapsed": 436,
     "status": "ok",
     "timestamp": 1731902388827,
     "user": {
      "displayName": "Tuấn Quàng Lê Trần",
      "userId": "02554655782233207157"
     },
     "user_tz": -420
    },
    "id": "BAY7TUHGbYTd"
   },
   "outputs": [],
   "source": [
    "no_smoke_rows = dataset.loc[dataset['smoke'] == 'No']\n",
    "dataset.loc[no_smoke_rows.index, 'type'] = 'Non-Smoker'"
   ]
  },
  {
   "cell_type": "code",
   "execution_count": 25,
   "metadata": {
    "colab": {
     "base_uri": "https://localhost:8080/"
    },
    "executionInfo": {
     "elapsed": 3,
     "status": "ok",
     "timestamp": 1731902389995,
     "user": {
      "displayName": "Tuấn Quàng Lê Trần",
      "userId": "02554655782233207157"
     },
     "user_tz": -420
    },
    "id": "BsD7_HcRbBvT",
    "outputId": "72aa4fe0-db6e-4149-e804-57a480e1dd88"
   },
   "outputs": [
    {
     "name": "stdout",
     "output_type": "stream",
     "text": [
      "<class 'pandas.core.frame.DataFrame'>\n",
      "Index: 1670 entries, 0 to 1690\n",
      "Data columns (total 12 columns):\n",
      " #   Column                 Non-Null Count  Dtype  \n",
      "---  ------                 --------------  -----  \n",
      " 0   gender                 1670 non-null   object \n",
      " 1   age                    1670 non-null   int64  \n",
      " 2   marital_status         1670 non-null   object \n",
      " 3   highest_qualification  1670 non-null   object \n",
      " 4   nationality            1670 non-null   object \n",
      " 5   ethnicity              1670 non-null   object \n",
      " 6   gross_income           1670 non-null   object \n",
      " 7   region                 1670 non-null   object \n",
      " 8   smoke                  1670 non-null   object \n",
      " 9   amt_weekends           1670 non-null   float64\n",
      " 10  amt_weekdays           1670 non-null   float64\n",
      " 11  type                   1670 non-null   object \n",
      "dtypes: float64(2), int64(1), object(9)\n",
      "memory usage: 234.1+ KB\n"
     ]
    }
   ],
   "source": [
    "dataset.info()"
   ]
  },
  {
   "cell_type": "code",
   "execution_count": 26,
   "metadata": {
    "colab": {
     "base_uri": "https://localhost:8080/",
     "height": 269
    },
    "executionInfo": {
     "elapsed": 361,
     "status": "ok",
     "timestamp": 1731902392517,
     "user": {
      "displayName": "Tuấn Quàng Lê Trần",
      "userId": "02554655782233207157"
     },
     "user_tz": -420
    },
    "id": "0Ng9Hj4ocsmj",
    "outputId": "8d0bef2a-2116-4272-99d4-efc21575fa07"
   },
   "outputs": [
    {
     "data": {
      "text/html": [
       "<div>\n",
       "<style scoped>\n",
       "    .dataframe tbody tr th:only-of-type {\n",
       "        vertical-align: middle;\n",
       "    }\n",
       "\n",
       "    .dataframe tbody tr th {\n",
       "        vertical-align: top;\n",
       "    }\n",
       "\n",
       "    .dataframe thead th {\n",
       "        text-align: right;\n",
       "    }\n",
       "</style>\n",
       "<table border=\"1\" class=\"dataframe\">\n",
       "  <thead>\n",
       "    <tr style=\"text-align: right;\">\n",
       "      <th></th>\n",
       "      <th>gender</th>\n",
       "      <th>age</th>\n",
       "      <th>marital_status</th>\n",
       "      <th>highest_qualification</th>\n",
       "      <th>nationality</th>\n",
       "      <th>ethnicity</th>\n",
       "      <th>gross_income</th>\n",
       "      <th>region</th>\n",
       "      <th>smoke</th>\n",
       "      <th>amt_weekends</th>\n",
       "      <th>amt_weekdays</th>\n",
       "      <th>type</th>\n",
       "    </tr>\n",
       "  </thead>\n",
       "  <tbody>\n",
       "    <tr>\n",
       "      <th>0</th>\n",
       "      <td>Male</td>\n",
       "      <td>38</td>\n",
       "      <td>Divorced</td>\n",
       "      <td>No Qualification</td>\n",
       "      <td>British</td>\n",
       "      <td>White</td>\n",
       "      <td>2,600 to 5,200</td>\n",
       "      <td>The North</td>\n",
       "      <td>No</td>\n",
       "      <td>0.0</td>\n",
       "      <td>0.0</td>\n",
       "      <td>Non-Smoker</td>\n",
       "    </tr>\n",
       "    <tr>\n",
       "      <th>1</th>\n",
       "      <td>Female</td>\n",
       "      <td>42</td>\n",
       "      <td>Single</td>\n",
       "      <td>No Qualification</td>\n",
       "      <td>British</td>\n",
       "      <td>White</td>\n",
       "      <td>Under 2,600</td>\n",
       "      <td>The North</td>\n",
       "      <td>Yes</td>\n",
       "      <td>12.0</td>\n",
       "      <td>12.0</td>\n",
       "      <td>Packets</td>\n",
       "    </tr>\n",
       "    <tr>\n",
       "      <th>2</th>\n",
       "      <td>Male</td>\n",
       "      <td>40</td>\n",
       "      <td>Married</td>\n",
       "      <td>Degree</td>\n",
       "      <td>English</td>\n",
       "      <td>White</td>\n",
       "      <td>28,600 to 36,400</td>\n",
       "      <td>The North</td>\n",
       "      <td>No</td>\n",
       "      <td>0.0</td>\n",
       "      <td>0.0</td>\n",
       "      <td>Non-Smoker</td>\n",
       "    </tr>\n",
       "    <tr>\n",
       "      <th>3</th>\n",
       "      <td>Female</td>\n",
       "      <td>40</td>\n",
       "      <td>Married</td>\n",
       "      <td>Degree</td>\n",
       "      <td>English</td>\n",
       "      <td>White</td>\n",
       "      <td>10,400 to 15,600</td>\n",
       "      <td>The North</td>\n",
       "      <td>No</td>\n",
       "      <td>0.0</td>\n",
       "      <td>0.0</td>\n",
       "      <td>Non-Smoker</td>\n",
       "    </tr>\n",
       "    <tr>\n",
       "      <th>4</th>\n",
       "      <td>Female</td>\n",
       "      <td>39</td>\n",
       "      <td>Married</td>\n",
       "      <td>GCSE/O Level</td>\n",
       "      <td>British</td>\n",
       "      <td>White</td>\n",
       "      <td>2,600 to 5,200</td>\n",
       "      <td>The North</td>\n",
       "      <td>No</td>\n",
       "      <td>0.0</td>\n",
       "      <td>0.0</td>\n",
       "      <td>Non-Smoker</td>\n",
       "    </tr>\n",
       "    <tr>\n",
       "      <th>5</th>\n",
       "      <td>Female</td>\n",
       "      <td>37</td>\n",
       "      <td>Married</td>\n",
       "      <td>GCSE/O Level</td>\n",
       "      <td>British</td>\n",
       "      <td>White</td>\n",
       "      <td>15,600 to 20,800</td>\n",
       "      <td>The North</td>\n",
       "      <td>No</td>\n",
       "      <td>0.0</td>\n",
       "      <td>0.0</td>\n",
       "      <td>Non-Smoker</td>\n",
       "    </tr>\n",
       "    <tr>\n",
       "      <th>6</th>\n",
       "      <td>Male</td>\n",
       "      <td>53</td>\n",
       "      <td>Married</td>\n",
       "      <td>Degree</td>\n",
       "      <td>British</td>\n",
       "      <td>White</td>\n",
       "      <td>Above 36,400</td>\n",
       "      <td>The North</td>\n",
       "      <td>Yes</td>\n",
       "      <td>6.0</td>\n",
       "      <td>6.0</td>\n",
       "      <td>Packets</td>\n",
       "    </tr>\n",
       "  </tbody>\n",
       "</table>\n",
       "</div>"
      ],
      "text/plain": [
       "   gender  age marital_status highest_qualification nationality ethnicity  \\\n",
       "0    Male   38       Divorced      No Qualification     British     White   \n",
       "1  Female   42         Single      No Qualification     British     White   \n",
       "2    Male   40        Married                Degree     English     White   \n",
       "3  Female   40        Married                Degree     English     White   \n",
       "4  Female   39        Married          GCSE/O Level     British     White   \n",
       "5  Female   37        Married          GCSE/O Level     British     White   \n",
       "6    Male   53        Married                Degree     British     White   \n",
       "\n",
       "       gross_income     region smoke  amt_weekends  amt_weekdays        type  \n",
       "0    2,600 to 5,200  The North    No           0.0           0.0  Non-Smoker  \n",
       "1       Under 2,600  The North   Yes          12.0          12.0     Packets  \n",
       "2  28,600 to 36,400  The North    No           0.0           0.0  Non-Smoker  \n",
       "3  10,400 to 15,600  The North    No           0.0           0.0  Non-Smoker  \n",
       "4    2,600 to 5,200  The North    No           0.0           0.0  Non-Smoker  \n",
       "5  15,600 to 20,800  The North    No           0.0           0.0  Non-Smoker  \n",
       "6      Above 36,400  The North   Yes           6.0           6.0     Packets  "
      ]
     },
     "execution_count": 26,
     "metadata": {},
     "output_type": "execute_result"
    }
   ],
   "source": [
    "dataset.head(7)"
   ]
  },
  {
   "cell_type": "markdown",
   "metadata": {
    "id": "N8RrPM0eTP3D"
   },
   "source": [
    "####3.4. Thay đổi kiểu dữ liệu"
   ]
  },
  {
   "cell_type": "markdown",
   "metadata": {
    "id": "s24KLuAqlo8P"
   },
   "source": [
    "* Đổi các biến object thành các biến category (phân loại)"
   ]
  },
  {
   "cell_type": "code",
   "execution_count": 27,
   "metadata": {
    "colab": {
     "base_uri": "https://localhost:8080/",
     "height": 81
    },
    "executionInfo": {
     "elapsed": 315,
     "status": "ok",
     "timestamp": 1731902396016,
     "user": {
      "displayName": "Tuấn Quàng Lê Trần",
      "userId": "02554655782233207157"
     },
     "user_tz": -420
    },
    "id": "BUBAAF4lFbZQ",
    "outputId": "3f51d477-4a48-4b4f-e97c-a99b4a28e478"
   },
   "outputs": [
    {
     "data": {
      "text/html": [
       "<div>\n",
       "<style scoped>\n",
       "    .dataframe tbody tr th:only-of-type {\n",
       "        vertical-align: middle;\n",
       "    }\n",
       "\n",
       "    .dataframe tbody tr th {\n",
       "        vertical-align: top;\n",
       "    }\n",
       "\n",
       "    .dataframe thead th {\n",
       "        text-align: right;\n",
       "    }\n",
       "</style>\n",
       "<table border=\"1\" class=\"dataframe\">\n",
       "  <thead>\n",
       "    <tr style=\"text-align: right;\">\n",
       "      <th></th>\n",
       "      <th>gender</th>\n",
       "      <th>age</th>\n",
       "      <th>marital_status</th>\n",
       "      <th>highest_qualification</th>\n",
       "      <th>nationality</th>\n",
       "      <th>ethnicity</th>\n",
       "      <th>gross_income</th>\n",
       "      <th>region</th>\n",
       "      <th>smoke</th>\n",
       "      <th>amt_weekends</th>\n",
       "      <th>amt_weekdays</th>\n",
       "      <th>type</th>\n",
       "    </tr>\n",
       "  </thead>\n",
       "  <tbody>\n",
       "    <tr>\n",
       "      <th>0</th>\n",
       "      <td>category</td>\n",
       "      <td>int64</td>\n",
       "      <td>category</td>\n",
       "      <td>category</td>\n",
       "      <td>category</td>\n",
       "      <td>category</td>\n",
       "      <td>category</td>\n",
       "      <td>category</td>\n",
       "      <td>category</td>\n",
       "      <td>float64</td>\n",
       "      <td>float64</td>\n",
       "      <td>object</td>\n",
       "    </tr>\n",
       "  </tbody>\n",
       "</table>\n",
       "</div>"
      ],
      "text/plain": [
       "     gender    age marital_status highest_qualification nationality ethnicity  \\\n",
       "0  category  int64       category              category    category  category   \n",
       "\n",
       "  gross_income    region     smoke amt_weekends amt_weekdays    type  \n",
       "0     category  category  category      float64      float64  object  "
      ]
     },
     "execution_count": 27,
     "metadata": {},
     "output_type": "execute_result"
    }
   ],
   "source": [
    "cols = [\"gender\", \"marital_status\", \"highest_qualification\",'nationality','ethnicity', 'gross_income','region','smoke']\n",
    "dataset[cols] = dataset[cols].astype('category')\n",
    "pd.DataFrame(dataset.dtypes).T"
   ]
  },
  {
   "cell_type": "markdown",
   "metadata": {
    "id": "-nfY4BV2j09Y"
   },
   "source": [
    "### 4. Trực quan hóa dữ liệu"
   ]
  },
  {
   "cell_type": "markdown",
   "metadata": {
    "id": "w9RkfZfhoDK0"
   },
   "source": [
    "#### 4.1. Phân tích đơn biến\n",
    "##### 4.1.1 Biến phân loại\n"
   ]
  },
  {
   "cell_type": "markdown",
   "metadata": {
    "id": "XBdUAMgRqERe"
   },
   "source": [
    "* Gender"
   ]
  },
  {
   "cell_type": "code",
   "execution_count": 28,
   "metadata": {
    "colab": {
     "base_uri": "https://localhost:8080/",
     "height": 455
    },
    "executionInfo": {
     "elapsed": 406,
     "status": "ok",
     "timestamp": 1731902400837,
     "user": {
      "displayName": "Tuấn Quàng Lê Trần",
      "userId": "02554655782233207157"
     },
     "user_tz": -420
    },
    "id": "KKy0PHINqPq1",
    "outputId": "64b95558-8197-49e8-da9f-c023457d06ef"
   },
   "outputs": [
    {
     "data": {
      "image/png": "[encoded data removed]",
      "text/plain": [
       "<Figure size 640x480 with 1 Axes>"
      ]
     },
     "metadata": {},
     "output_type": "display_data"
    }
   ],
   "source": [
    "sns.countplot(x ='gender', data = dataset, palette='Set2')\n",
    "plt.show()"
   ]
  },
  {
   "cell_type": "markdown",
   "metadata": {
    "id": "iVnjb0M3qLI0"
   },
   "source": [
    "* Marital Status"
   ]
  },
  {
   "cell_type": "code",
   "execution_count": 29,
   "metadata": {
    "colab": {
     "base_uri": "https://localhost:8080/",
     "height": 450
    },
    "executionInfo": {
     "elapsed": 391,
     "status": "ok",
     "timestamp": 1731902404441,
     "user": {
      "displayName": "Tuấn Quàng Lê Trần",
      "userId": "02554655782233207157"
     },
     "user_tz": -420
    },
    "id": "jXQqow4-rHI7",
    "outputId": "931821be-c643-4552-9a19-367bc8267aa2"
   },
   "outputs": [
    {
     "data": {
      "image/png": "[encoded data removed]",
      "text/plain": [
       "<Figure size 640x480 with 1 Axes>"
      ]
     },
     "metadata": {},
     "output_type": "display_data"
    }
   ],
   "source": [
    "sns.countplot(x='marital_status', data = dataset, palette='Set2')\n",
    "plt.show()"
   ]
  },
  {
   "cell_type": "markdown",
   "metadata": {
    "id": "Fg_UyYUisTvF"
   },
   "source": [
    "* Highest Qualification"
   ]
  },
  {
   "cell_type": "code",
   "execution_count": 30,
   "metadata": {
    "colab": {
     "base_uri": "https://localhost:8080/",
     "height": 635
    },
    "executionInfo": {
     "elapsed": 1020,
     "status": "ok",
     "timestamp": 1731902407736,
     "user": {
      "displayName": "Tuấn Quàng Lê Trần",
      "userId": "02554655782233207157"
     },
     "user_tz": -420
    },
    "id": "oR3cl-FwscwY",
    "outputId": "434bee39-2cf1-4ae3-bf93-337507414fe1"
   },
   "outputs": [
    {
     "data": {
      "image/png": "[encoded data removed]",
      "text/plain": [
       "<Figure size 1000x600 with 1 Axes>"
      ]
     },
     "metadata": {},
     "output_type": "display_data"
    }
   ],
   "source": [
    "plt.figure(figsize=(10,6))\n",
    "sns.countplot(x='highest_qualification', data=dataset, palette='Set2')\n",
    "plt.xticks(rotation=45)\n",
    "plt.show()"
   ]
  },
  {
   "cell_type": "markdown",
   "metadata": {
    "id": "W0DoxojisrSq"
   },
   "source": [
    "* Nationality"
   ]
  },
  {
   "cell_type": "code",
   "execution_count": 31,
   "metadata": {
    "colab": {
     "base_uri": "https://localhost:8080/",
     "height": 449
    },
    "executionInfo": {
     "elapsed": 414,
     "status": "ok",
     "timestamp": 1731902409866,
     "user": {
      "displayName": "Tuấn Quàng Lê Trần",
      "userId": "02554655782233207157"
     },
     "user_tz": -420
    },
    "id": "yTLQHKsvsp3P",
    "outputId": "981ffa49-c7d3-4820-d4e6-82cd557f775f"
   },
   "outputs": [
    {
     "data": {
      "image/png": "[encoded data removed]",
      "text/plain": [
       "<Figure size 640x480 with 1 Axes>"
      ]
     },
     "metadata": {},
     "output_type": "display_data"
    }
   ],
   "source": [
    "sns.countplot(x='nationality', data = dataset, palette='Set2')\n",
    "plt.show()"
   ]
  },
  {
   "cell_type": "markdown",
   "metadata": {
    "id": "679p8jhXs9Fb"
   },
   "source": [
    "* Ethnicity"
   ]
  },
  {
   "cell_type": "code",
   "execution_count": 32,
   "metadata": {
    "colab": {
     "base_uri": "https://localhost:8080/",
     "height": 451
    },
    "executionInfo": {
     "elapsed": 418,
     "status": "ok",
     "timestamp": 1731902411938,
     "user": {
      "displayName": "Tuấn Quàng Lê Trần",
      "userId": "02554655782233207157"
     },
     "user_tz": -420
    },
    "id": "C4cVZWNis8dB",
    "outputId": "442a3037-19a9-47ce-f91b-14bef0131fc5"
   },
   "outputs": [
    {
     "data": {
      "image/png": "[encoded data removed]",
      "text/plain": [
       "<Figure size 640x480 with 1 Axes>"
      ]
     },
     "metadata": {},
     "output_type": "display_data"
    }
   ],
   "source": [
    "sns.countplot(x='ethnicity', data=dataset, palette='Set2' )\n",
    "plt.show()"
   ]
  },
  {
   "cell_type": "markdown",
   "metadata": {
    "id": "EbNoNCIItRhg"
   },
   "source": [
    "* Region"
   ]
  },
  {
   "cell_type": "code",
   "execution_count": 33,
   "metadata": {
    "colab": {
     "base_uri": "https://localhost:8080/",
     "height": 650
    },
    "executionInfo": {
     "elapsed": 513,
     "status": "ok",
     "timestamp": 1731902414225,
     "user": {
      "displayName": "Tuấn Quàng Lê Trần",
      "userId": "02554655782233207157"
     },
     "user_tz": -420
    },
    "id": "mHNd8SxntHAJ",
    "outputId": "222f60e9-e7d9-4e92-df9d-e224c7838ccb"
   },
   "outputs": [
    {
     "data": {
      "image/png": "[encoded data removed]",
      "text/plain": [
       "<Figure size 1000x600 with 1 Axes>"
      ]
     },
     "metadata": {},
     "output_type": "display_data"
    }
   ],
   "source": [
    "plt.figure(figsize=(10,6))\n",
    "sns.countplot(x='region', data=dataset, palette='Set2')\n",
    "plt.xticks(rotation=45)\n",
    "plt.show()"
   ]
  },
  {
   "cell_type": "markdown",
   "metadata": {
    "id": "Y60KIceDtk0M"
   },
   "source": [
    "* Smoke"
   ]
  },
  {
   "cell_type": "code",
   "execution_count": 34,
   "metadata": {
    "colab": {
     "base_uri": "https://localhost:8080/",
     "height": 449
    },
    "executionInfo": {
     "elapsed": 370,
     "status": "ok",
     "timestamp": 1731902416103,
     "user": {
      "displayName": "Tuấn Quàng Lê Trần",
      "userId": "02554655782233207157"
     },
     "user_tz": -420
    },
    "id": "XoZ4sQj4tkah",
    "outputId": "4661555e-6b3b-4dac-831f-c943e265c2a3"
   },
   "outputs": [
    {
     "data": {
      "image/png": "[encoded data removed]",
      "text/plain": [
       "<Figure size 640x480 with 1 Axes>"
      ]
     },
     "metadata": {},
     "output_type": "display_data"
    }
   ],
   "source": [
    "sns.countplot(x='smoke', data = dataset, palette='Set2')\n",
    "plt.show()"
   ]
  },
  {
   "cell_type": "markdown",
   "metadata": {
    "id": "aa-RTDATuAPU"
   },
   "source": [
    "* Type"
   ]
  },
  {
   "cell_type": "code",
   "execution_count": 35,
   "metadata": {
    "colab": {
     "base_uri": "https://localhost:8080/",
     "height": 659
    },
    "executionInfo": {
     "elapsed": 525,
     "status": "ok",
     "timestamp": 1731902418014,
     "user": {
      "displayName": "Tuấn Quàng Lê Trần",
      "userId": "02554655782233207157"
     },
     "user_tz": -420
    },
    "id": "Y-6Gt0Tkt_zm",
    "outputId": "d54fd639-56cc-4b0f-ecc3-b16daf180889"
   },
   "outputs": [
    {
     "data": {
      "image/png": "[encoded data removed]",
      "text/plain": [
       "<Figure size 1000x600 with 1 Axes>"
      ]
     },
     "metadata": {},
     "output_type": "display_data"
    }
   ],
   "source": [
    "plt.figure(figsize=(10,6))\n",
    "sns.countplot(x='type', data=dataset, palette='Set2')\n",
    "plt.xticks(rotation=45)\n",
    "plt.show()"
   ]
  },
  {
   "cell_type": "markdown",
   "metadata": {
    "id": "GkzgHxi0uj_N"
   },
   "source": [
    "* Gross Income"
   ]
  },
  {
   "cell_type": "code",
   "execution_count": 36,
   "metadata": {
    "colab": {
     "base_uri": "https://localhost:8080/",
     "height": 622
    },
    "executionInfo": {
     "elapsed": 1053,
     "status": "ok",
     "timestamp": 1731902420824,
     "user": {
      "displayName": "Tuấn Quàng Lê Trần",
      "userId": "02554655782233207157"
     },
     "user_tz": -420
    },
    "id": "s_Zg1tV2ubsw",
    "outputId": "16c199ce-c933-4cce-a9b8-cb4c3e165594"
   },
   "outputs": [
    {
     "data": {
      "image/png": "[encoded data removed]",
      "text/plain": [
       "<Figure size 1000x600 with 1 Axes>"
      ]
     },
     "metadata": {},
     "output_type": "display_data"
    }
   ],
   "source": [
    "plt.figure(figsize=(10,6))\n",
    "sns.countplot(x='gross_income', data=dataset, palette='Set2')\n",
    "plt.xticks(rotation=45)\n",
    "plt.show()"
   ]
  },
  {
   "cell_type": "markdown",
   "metadata": {
    "id": "dLfTik7Q3dM1"
   },
   "source": [
    "\n",
    "Nhận xét:\n",
    "1. Giới tính: Nữ giới chiếm tỷ lệ cao hơn nam giới\n",
    "2. Tình trạng hôn nhân: Kết hôn chiếm đại đa số\n",
    "3. Trình độ học vấn: Người không có trình độ học vấn chiếm số đông\n",
    "4. Quốc tịch: English chiếm số đông\n",
    "5. Dân tộc: Người da trắng nhiều hơn\n",
    "6. Thu nhập: Người có thu nhập 5,200 - 10,400 có số lượng cao nhất, sau đó là từ 10,400 - 15,600. Vậy bộ dữ liệu cho thấy có nhiều người có thu nhập thấp hơn\n",
    "7. Khu vực: \"Midlands & East Anglia\" và \"The North\" có số lượng đông nhất. Cho thấy bộ dữ liệu tập trung ở một số khu vực nhất định ở UK\n",
    "8. Tình trạng hút thuốc: Phần lớn người tra lười không hút thuốc cao hơn người hút thuốc"
   ]
  },
  {
   "cell_type": "markdown",
   "metadata": {
    "id": "zFY-8-k0zRLj"
   },
   "source": [
    "##### 4.1.2. Biến số"
   ]
  },
  {
   "cell_type": "markdown",
   "metadata": {
    "id": "3jwaXA743d-C"
   },
   "source": []
  },
  {
   "cell_type": "markdown",
   "metadata": {
    "id": "8Pch48SezRC-"
   },
   "source": [
    "* Age"
   ]
  },
  {
   "cell_type": "code",
   "execution_count": 39,
   "metadata": {
    "colab": {
     "base_uri": "https://localhost:8080/",
     "height": 542
    },
    "executionInfo": {
     "elapsed": 2316,
     "status": "ok",
     "timestamp": 1731902425166,
     "user": {
      "displayName": "Tuấn Quàng Lê Trần",
      "userId": "02554655782233207157"
     },
     "user_tz": -420
    },
    "id": "m6oUO9ldzQsl",
    "outputId": "04dc0724-49aa-47d4-f31a-40e788de7908"
   },
   "outputs": [
    {
     "ename": "ValueError",
     "evalue": "Mime type rendering requires nbformat>=4.2.0 but it is not installed",
     "output_type": "error",
     "traceback": [
      "\u001b[1;31m---------------------------------------------------------------------------\u001b[0m",
      "\u001b[1;31mValueError\u001b[0m                                Traceback (most recent call last)",
      "File \u001b[1;32m~\\AppData\\Roaming\\Python\\Python312\\site-packages\\IPython\\core\\formatters.py:925\u001b[0m, in \u001b[0;36mIPythonDisplayFormatter.__call__\u001b[1;34m(self, obj)\u001b[0m\n\u001b[0;32m    923\u001b[0m method \u001b[38;5;241m=\u001b[39m get_real_method(obj, \u001b[38;5;28mself\u001b[39m\u001b[38;5;241m.\u001b[39mprint_method)\n\u001b[0;32m    924\u001b[0m \u001b[38;5;28;01mif\u001b[39;00m method \u001b[38;5;129;01mis\u001b[39;00m \u001b[38;5;129;01mnot\u001b[39;00m \u001b[38;5;28;01mNone\u001b[39;00m:\n\u001b[1;32m--> 925\u001b[0m     \u001b[43mmethod\u001b[49m\u001b[43m(\u001b[49m\u001b[43m)\u001b[49m\n\u001b[0;32m    926\u001b[0m     \u001b[38;5;28;01mreturn\u001b[39;00m \u001b[38;5;28;01mTrue\u001b[39;00m\n",
      "File \u001b[1;32mc:\\Users\\Admin\\AppData\\Local\\Programs\\Python\\Python312\\Lib\\site-packages\\plotly\\basedatatypes.py:832\u001b[0m, in \u001b[0;36mBaseFigure._ipython_display_\u001b[1;34m(self)\u001b[0m\n\u001b[0;32m    829\u001b[0m \u001b[38;5;28;01mimport\u001b[39;00m \u001b[38;5;21;01mplotly\u001b[39;00m\u001b[38;5;21;01m.\u001b[39;00m\u001b[38;5;21;01mio\u001b[39;00m \u001b[38;5;28;01mas\u001b[39;00m \u001b[38;5;21;01mpio\u001b[39;00m\n\u001b[0;32m    831\u001b[0m \u001b[38;5;28;01mif\u001b[39;00m pio\u001b[38;5;241m.\u001b[39mrenderers\u001b[38;5;241m.\u001b[39mrender_on_display \u001b[38;5;129;01mand\u001b[39;00m pio\u001b[38;5;241m.\u001b[39mrenderers\u001b[38;5;241m.\u001b[39mdefault:\n\u001b[1;32m--> 832\u001b[0m     \u001b[43mpio\u001b[49m\u001b[38;5;241;43m.\u001b[39;49m\u001b[43mshow\u001b[49m\u001b[43m(\u001b[49m\u001b[38;5;28;43mself\u001b[39;49m\u001b[43m)\u001b[49m\n\u001b[0;32m    833\u001b[0m \u001b[38;5;28;01melse\u001b[39;00m:\n\u001b[0;32m    834\u001b[0m     \u001b[38;5;28mprint\u001b[39m(\u001b[38;5;28mrepr\u001b[39m(\u001b[38;5;28mself\u001b[39m))\n",
      "File \u001b[1;32mc:\\Users\\Admin\\AppData\\Local\\Programs\\Python\\Python312\\Lib\\site-packages\\plotly\\io\\_renderers.py:394\u001b[0m, in \u001b[0;36mshow\u001b[1;34m(fig, renderer, validate, **kwargs)\u001b[0m\n\u001b[0;32m    389\u001b[0m         \u001b[38;5;28;01mraise\u001b[39;00m \u001b[38;5;167;01mValueError\u001b[39;00m(\n\u001b[0;32m    390\u001b[0m             \u001b[38;5;124m\"\u001b[39m\u001b[38;5;124mMime type rendering requires ipython but it is not installed\u001b[39m\u001b[38;5;124m\"\u001b[39m\n\u001b[0;32m    391\u001b[0m         )\n\u001b[0;32m    393\u001b[0m     \u001b[38;5;28;01mif\u001b[39;00m \u001b[38;5;129;01mnot\u001b[39;00m nbformat \u001b[38;5;129;01mor\u001b[39;00m Version(nbformat\u001b[38;5;241m.\u001b[39m__version__) \u001b[38;5;241m<\u001b[39m Version(\u001b[38;5;124m\"\u001b[39m\u001b[38;5;124m4.2.0\u001b[39m\u001b[38;5;124m\"\u001b[39m):\n\u001b[1;32m--> 394\u001b[0m         \u001b[38;5;28;01mraise\u001b[39;00m \u001b[38;5;167;01mValueError\u001b[39;00m(\n\u001b[0;32m    395\u001b[0m             \u001b[38;5;124m\"\u001b[39m\u001b[38;5;124mMime type rendering requires nbformat>=4.2.0 but it is not installed\u001b[39m\u001b[38;5;124m\"\u001b[39m\n\u001b[0;32m    396\u001b[0m         )\n\u001b[0;32m    398\u001b[0m     ipython_display\u001b[38;5;241m.\u001b[39mdisplay(bundle, raw\u001b[38;5;241m=\u001b[39m\u001b[38;5;28;01mTrue\u001b[39;00m)\n\u001b[0;32m    400\u001b[0m \u001b[38;5;66;03m# external renderers\u001b[39;00m\n",
      "\u001b[1;31mValueError\u001b[0m: Mime type rendering requires nbformat>=4.2.0 but it is not installed"
     ]
    },
    {
     "data": {
      "application/vnd.plotly.v1+json": {
       "config": {
        "plotlyServerURL": "https://plot.ly"
       },
       "data": [
        {
         "alignmentgroup": "True",
         "bingroup": "x",
         "hovertemplate": "age=%{x}<br>count=%{y}<extra></extra>",
         "legendgroup": "",
         "marker": {
          "color": "orange",
          "pattern": {
           "shape": ""
          }
         },
         "name": "",
         "offsetgroup": "",
         "opacity": 0.7,
         "orientation": "v",
         "showlegend": false,
         "type": "histogram",
         "x": [
          38,
          42,
          40,
          40,
          39,
          37,
          53,
          44,
          40,
          41,
          72,
          49,
          29,
          79,
          25,
          27,
          30,
          47,
          69,
          55,
          34,
          36,
          56,
          71,
          38,
          79,
          58,
          69,
          83,
          73,
          42,
          31,
          26,
          27,
          57,
          30,
          22,
          78,
          49,
          74,
          85,
          75,
          80,
          37,
          33,
          41,
          81,
          76,
          58,
          59,
          40,
          54,
          49,
          79,
          28,
          44,
          42,
          36,
          89,
          64,
          76,
          61,
          81,
          20,
          82,
          23,
          41,
          31,
          44,
          42,
          67,
          53,
          76,
          40,
          44,
          31,
          43,
          36,
          34,
          18,
          56,
          73,
          22,
          33,
          27,
          33,
          63,
          64,
          54,
          34,
          78,
          54,
          56,
          78,
          37,
          54,
          40,
          64,
          42,
          34,
          64,
          50,
          31,
          37,
          81,
          57,
          59,
          66,
          57,
          78,
          49,
          62,
          17,
          36,
          31,
          61,
          71,
          75,
          43,
          68,
          65,
          85,
          35,
          52,
          28,
          52,
          67,
          35,
          68,
          34,
          57,
          37,
          37,
          43,
          59,
          28,
          60,
          16,
          37,
          34,
          73,
          24,
          36,
          39,
          74,
          32,
          30,
          68,
          49,
          47,
          30,
          60,
          72,
          73,
          48,
          53,
          17,
          58,
          34,
          44,
          23,
          49,
          30,
          61,
          38,
          30,
          44,
          91,
          40,
          63,
          61,
          40,
          57,
          41,
          32,
          76,
          35,
          70,
          75,
          74,
          49,
          56,
          60,
          72,
          17,
          23,
          79,
          65,
          57,
          79,
          71,
          87,
          59,
          21,
          66,
          58,
          38,
          61,
          37,
          38,
          34,
          34,
          20,
          77,
          31,
          28,
          36,
          16,
          42,
          47,
          42,
          67,
          72,
          40,
          34,
          75,
          35,
          40,
          46,
          23,
          42,
          63,
          33,
          31,
          54,
          33,
          24,
          80,
          77,
          51,
          16,
          27,
          75,
          24,
          78,
          20,
          18,
          25,
          55,
          29,
          67,
          44,
          47,
          41,
          31,
          32,
          84,
          67,
          49,
          69,
          64,
          62,
          52,
          45,
          28,
          36,
          73,
          48,
          67,
          38,
          40,
          43,
          30,
          70,
          82,
          21,
          67,
          21,
          68,
          41,
          33,
          28,
          75,
          21,
          69,
          33,
          47,
          44,
          74,
          29,
          23,
          72,
          31,
          48,
          29,
          72,
          52,
          68,
          48,
          55,
          23,
          66,
          37,
          42,
          46,
          57,
          36,
          51,
          18,
          69,
          30,
          51,
          63,
          31,
          58,
          50,
          67,
          20,
          45,
          26,
          30,
          43,
          73,
          52,
          18,
          52,
          33,
          56,
          65,
          30,
          40,
          26,
          74,
          44,
          80,
          67,
          59,
          28,
          31,
          25,
          68,
          61,
          50,
          43,
          19,
          21,
          51,
          65,
          50,
          38,
          74,
          22,
          66,
          48,
          59,
          69,
          76,
          21,
          47,
          77,
          25,
          71,
          24,
          90,
          41,
          69,
          35,
          32,
          48,
          34,
          28,
          66,
          56,
          51,
          63,
          44,
          45,
          55,
          55,
          55,
          57,
          76,
          59,
          46,
          56,
          67,
          73,
          82,
          75,
          41,
          40,
          37,
          53,
          35,
          39,
          31,
          38,
          34,
          36,
          31,
          31,
          35,
          42,
          30,
          39,
          47,
          38,
          29,
          75,
          47,
          55,
          42,
          39,
          64,
          84,
          49,
          24,
          38,
          45,
          47,
          37,
          59,
          25,
          56,
          71,
          81,
          55,
          42,
          73,
          43,
          57,
          47,
          29,
          30,
          58,
          58,
          70,
          18,
          45,
          37,
          44,
          46,
          29,
          50,
          51,
          80,
          85,
          49,
          52,
          58,
          49,
          39,
          53,
          71,
          29,
          66,
          75,
          45,
          69,
          49,
          63,
          61,
          55,
          57,
          60,
          58,
          76,
          29,
          50,
          40,
          34,
          77,
          47,
          68,
          31,
          41,
          55,
          66,
          80,
          45,
          63,
          62,
          49,
          33,
          16,
          58,
          33,
          65,
          39,
          57,
          31,
          79,
          16,
          54,
          37,
          87,
          32,
          72,
          20,
          77,
          63,
          56,
          34,
          24,
          42,
          71,
          48,
          38,
          55,
          50,
          30,
          72,
          59,
          68,
          48,
          42,
          72,
          54,
          53,
          86,
          57,
          30,
          35,
          25,
          67,
          33,
          51,
          54,
          86,
          69,
          23,
          33,
          79,
          21,
          37,
          40,
          79,
          34,
          28,
          44,
          64,
          51,
          21,
          40,
          42,
          47,
          73,
          18,
          24,
          69,
          61,
          83,
          80,
          80,
          26,
          34,
          34,
          39,
          33,
          36,
          39,
          35,
          89,
          23,
          32,
          32,
          35,
          18,
          44,
          75,
          65,
          54,
          32,
          57,
          50,
          58,
          30,
          57,
          60,
          78,
          44,
          32,
          56,
          51,
          71,
          74,
          56,
          80,
          51,
          53,
          80,
          42,
          82,
          58,
          78,
          61,
          49,
          51,
          48,
          37,
          51,
          55,
          48,
          82,
          56,
          71,
          30,
          73,
          35,
          75,
          49,
          74,
          33,
          81,
          63,
          78,
          68,
          73,
          34,
          36,
          16,
          72,
          66,
          41,
          49,
          42,
          54,
          70,
          29,
          43,
          19,
          44,
          27,
          68,
          80,
          85,
          65,
          88,
          76,
          81,
          44,
          34,
          77,
          33,
          82,
          77,
          19,
          70,
          74,
          57,
          44,
          38,
          43,
          57,
          54,
          17,
          60,
          50,
          24,
          78,
          60,
          85,
          59,
          65,
          55,
          32,
          41,
          31,
          45,
          30,
          19,
          76,
          73,
          19,
          34,
          59,
          22,
          27,
          45,
          69,
          76,
          54,
          72,
          89,
          78,
          60,
          39,
          28,
          23,
          26,
          52,
          54,
          20,
          59,
          30,
          41,
          26,
          27,
          49,
          29,
          36,
          43,
          34,
          81,
          30,
          25,
          59,
          44,
          64,
          35,
          40,
          65,
          17,
          72,
          29,
          39,
          46,
          59,
          77,
          42,
          41,
          49,
          67,
          65,
          40,
          49,
          34,
          64,
          44,
          72,
          32,
          53,
          50,
          63,
          57,
          40,
          88,
          57,
          54,
          58,
          77,
          45,
          31,
          31,
          80,
          67,
          40,
          70,
          28,
          30,
          70,
          76,
          81,
          30,
          39,
          73,
          39,
          76,
          62,
          66,
          53,
          60,
          36,
          40,
          57,
          16,
          25,
          58,
          49,
          48,
          76,
          88,
          35,
          43,
          69,
          64,
          40,
          78,
          34,
          46,
          65,
          34,
          40,
          79,
          36,
          39,
          24,
          28,
          26,
          45,
          24,
          77,
          78,
          25,
          36,
          17,
          55,
          70,
          43,
          59,
          32,
          34,
          58,
          44,
          64,
          34,
          32,
          38,
          28,
          42,
          34,
          23,
          55,
          65,
          62,
          66,
          73,
          34,
          33,
          76,
          55,
          39,
          26,
          61,
          78,
          42,
          72,
          62,
          46,
          24,
          27,
          64,
          86,
          46,
          20,
          35,
          46,
          39,
          28,
          33,
          39,
          45,
          37,
          29,
          26,
          47,
          72,
          72,
          65,
          61,
          63,
          16,
          61,
          18,
          76,
          65,
          52,
          64,
          42,
          40,
          28,
          40,
          48,
          35,
          30,
          26,
          81,
          77,
          25,
          66,
          18,
          43,
          49,
          29,
          20,
          75,
          40,
          64,
          66,
          34,
          76,
          30,
          55,
          49,
          38,
          23,
          77,
          46,
          26,
          26,
          45,
          45,
          61,
          47,
          75,
          36,
          26,
          71,
          69,
          38,
          21,
          26,
          83,
          56,
          34,
          66,
          32,
          77,
          70,
          24,
          81,
          37,
          90,
          29,
          24,
          81,
          38,
          22,
          31,
          77,
          61,
          54,
          72,
          66,
          47,
          76,
          41,
          80,
          63,
          29,
          40,
          54,
          66,
          69,
          51,
          70,
          36,
          73,
          72,
          18,
          57,
          21,
          64,
          39,
          37,
          36,
          37,
          79,
          49,
          30,
          27,
          16,
          40,
          45,
          78,
          59,
          93,
          33,
          57,
          53,
          54,
          33,
          52,
          31,
          54,
          41,
          23,
          81,
          17,
          73,
          62,
          73,
          22,
          18,
          86,
          54,
          55,
          22,
          30,
          25,
          54,
          36,
          40,
          51,
          44,
          26,
          73,
          36,
          69,
          41,
          82,
          27,
          35,
          35,
          33,
          41,
          26,
          55,
          18,
          68,
          43,
          58,
          39,
          54,
          62,
          40,
          59,
          57,
          42,
          48,
          45,
          24,
          66,
          63,
          28,
          59,
          50,
          41,
          76,
          24,
          25,
          33,
          31,
          33,
          37,
          81,
          36,
          64,
          51,
          19,
          18,
          31,
          24,
          18,
          22,
          26,
          33,
          17,
          37,
          60,
          80,
          68,
          65,
          42,
          48,
          46,
          44,
          29,
          38,
          52,
          48,
          65,
          27,
          37,
          42,
          53,
          66,
          20,
          62,
          18,
          69,
          63,
          41,
          74,
          20,
          18,
          28,
          49,
          64,
          69,
          33,
          22,
          63,
          93,
          65,
          33,
          38,
          29,
          59,
          37,
          51,
          33,
          80,
          49,
          38,
          45,
          58,
          63,
          69,
          86,
          66,
          61,
          62,
          89,
          72,
          64,
          58,
          80,
          61,
          34,
          36,
          34,
          40,
          53,
          31,
          86,
          46,
          34,
          44,
          69,
          56,
          79,
          41,
          34,
          47,
          46,
          30,
          19,
          45,
          24,
          42,
          32,
          32,
          28,
          78,
          42,
          27,
          57,
          24,
          71,
          51,
          66,
          73,
          18,
          50,
          79,
          22,
          45,
          53,
          77,
          64,
          39,
          54,
          17,
          78,
          50,
          41,
          48,
          25,
          18,
          58,
          79,
          62,
          36,
          38,
          19,
          45,
          54,
          69,
          65,
          31,
          31,
          46,
          37,
          72,
          59,
          82,
          81,
          65,
          48,
          49,
          35,
          73,
          80,
          55,
          78,
          45,
          39,
          75,
          65,
          79,
          75,
          69,
          57,
          29,
          54,
          29,
          42,
          28,
          65,
          37,
          35,
          33,
          52,
          57,
          31,
          73,
          43,
          38,
          43,
          55,
          59,
          33,
          41,
          46,
          57,
          40,
          57,
          39,
          67,
          46,
          39,
          55,
          50,
          70,
          44,
          33,
          69,
          70,
          62,
          31,
          70,
          32,
          75,
          47,
          57,
          86,
          32,
          46,
          51,
          69,
          73,
          32,
          75,
          54,
          51,
          35,
          38,
          72,
          66,
          59,
          70,
          44,
          67,
          35,
          33,
          17,
          45,
          57,
          18,
          68,
          27,
          40,
          77,
          77,
          75,
          39,
          21,
          59,
          27,
          67,
          50,
          64,
          79,
          31,
          19,
          42,
          36,
          36,
          64,
          53,
          39,
          39,
          28,
          81,
          79,
          72,
          18,
          76,
          68,
          28,
          42,
          26,
          19,
          41,
          82,
          36,
          47,
          77,
          66,
          50,
          55,
          36,
          79,
          67,
          42,
          76,
          44,
          75,
          24,
          78,
          38,
          22,
          62,
          40,
          35,
          45,
          66,
          53,
          43,
          72,
          72,
          67,
          37,
          38,
          39,
          64,
          72,
          54,
          59,
          50,
          33,
          45,
          73,
          68,
          33,
          21,
          32,
          37,
          48,
          25,
          61,
          86,
          45,
          60,
          40,
          55,
          53,
          41,
          17,
          42,
          44,
          43,
          39,
          67,
          73,
          16,
          73,
          52,
          72,
          79,
          90,
          27,
          32,
          38,
          21,
          40,
          28,
          47,
          45,
          95,
          18,
          89,
          82,
          65,
          87,
          30,
          77,
          55,
          33,
          56,
          68,
          73,
          66,
          73,
          42,
          41,
          35,
          53,
          74,
          46,
          22,
          27,
          71,
          78,
          38,
          31,
          54,
          31,
          53,
          36,
          41,
          78,
          54,
          72,
          28,
          41,
          78,
          71,
          57,
          31,
          64,
          65,
          61,
          33,
          60,
          40,
          68,
          36,
          35,
          22,
          43,
          84,
          24,
          68,
          35,
          51,
          45,
          45,
          71,
          47,
          39,
          62,
          37,
          71,
          49,
          22,
          61,
          34,
          40,
          27,
          28,
          28,
          36,
          34,
          19,
          31,
          49,
          42,
          38,
          16,
          73,
          36,
          81,
          97,
          38,
          46,
          79,
          76,
          54,
          59,
          52,
          58,
          69,
          67,
          76,
          33,
          61,
          82,
          62,
          66,
          69,
          25,
          29,
          28,
          52,
          81,
          44,
          62,
          45,
          71,
          72,
          69,
          72,
          61,
          29,
          37,
          29,
          57,
          60,
          38,
          74,
          38,
          51,
          68,
          67,
          32,
          25,
          53,
          52,
          21,
          71,
          30,
          23,
          28,
          37,
          84,
          61,
          18,
          55,
          52,
          46,
          46,
          23,
          58,
          16,
          71,
          47,
          34,
          55,
          78,
          35,
          68,
          76,
          28,
          36,
          57,
          29,
          27,
          64,
          89,
          26,
          27,
          66,
          84,
          41,
          27,
          40,
          79,
          49,
          79,
          54,
          25,
          45,
          24,
          54,
          78,
          50,
          42,
          32,
          75,
          25,
          50,
          24,
          35,
          52,
          42,
          44,
          67,
          69,
          91,
          61,
          50,
          37,
          35,
          24,
          39,
          79,
          40,
          60,
          42,
          64,
          55,
          54,
          61,
          62,
          59,
          79,
          37,
          55,
          88,
          39,
          34,
          42,
          45,
          59,
          58,
          74,
          45,
          64,
          53,
          40,
          30,
          70,
          28,
          78,
          41,
          69,
          54,
          59,
          23,
          40,
          17,
          54,
          49,
          55,
          51,
          73,
          41,
          70,
          44,
          51,
          68,
          75,
          60,
          56,
          64,
          27,
          73,
          34,
          47,
          32,
          63,
          23,
          63,
          46,
          48,
          68,
          52,
          29,
          16,
          41,
          48,
          24,
          72,
          45,
          28,
          20,
          69,
          70,
          50,
          63,
          44,
          83,
          17,
          61,
          47,
          57,
          44,
          52,
          82,
          63,
          72,
          39,
          16,
          35,
          39,
          56,
          31,
          61,
          23,
          34,
          24,
          82,
          27,
          62,
          39,
          44,
          43,
          31,
          77,
          20,
          81,
          31,
          78,
          35,
          67,
          65,
          61,
          24,
          53,
          63,
          35,
          78,
          31,
          22,
          49,
          45,
          51,
          31
         ],
         "xaxis": "x",
         "yaxis": "y"
        }
       ],
       "layout": {
        "barmode": "relative",
        "legend": {
         "tracegroupgap": 0
        },
        "template": {
         "data": {
          "bar": [
           {
            "error_x": {
             "color": "#2a3f5f"
            },
            "error_y": {
             "color": "#2a3f5f"
            },
            "marker": {
             "line": {
              "color": "#E5ECF6",
              "width": 0.5
             },
             "pattern": {
              "fillmode": "overlay",
              "size": 10,
              "solidity": 0.2
             }
            },
            "type": "bar"
           }
          ],
          "barpolar": [
           {
            "marker": {
             "line": {
              "color": "#E5ECF6",
              "width": 0.5
             },
             "pattern": {
              "fillmode": "overlay",
              "size": 10,
              "solidity": 0.2
             }
            },
            "type": "barpolar"
           }
          ],
          "carpet": [
           {
            "aaxis": {
             "endlinecolor": "#2a3f5f",
             "gridcolor": "white",
             "linecolor": "white",
             "minorgridcolor": "white",
             "startlinecolor": "#2a3f5f"
            },
            "baxis": {
             "endlinecolor": "#2a3f5f",
             "gridcolor": "white",
             "linecolor": "white",
             "minorgridcolor": "white",
             "startlinecolor": "#2a3f5f"
            },
            "type": "carpet"
           }
          ],
          "choropleth": [
           {
            "colorbar": {
             "outlinewidth": 0,
             "ticks": ""
            },
            "type": "choropleth"
           }
          ],
          "contour": [
           {
            "colorbar": {
             "outlinewidth": 0,
             "ticks": ""
            },
            "colorscale": [
             [
              0,
              "#0d0887"
             ],
             [
              0.1111111111111111,
              "#46039f"
             ],
             [
              0.2222222222222222,
              "#7201a8"
             ],
             [
              0.3333333333333333,
              "#9c179e"
             ],
             [
              0.4444444444444444,
              "#bd3786"
             ],
             [
              0.5555555555555556,
              "#d8576b"
             ],
             [
              0.6666666666666666,
              "#ed7953"
             ],
             [
              0.7777777777777778,
              "#fb9f3a"
             ],
             [
              0.8888888888888888,
              "#fdca26"
             ],
             [
              1,
              "#f0f921"
             ]
            ],
            "type": "contour"
           }
          ],
          "contourcarpet": [
           {
            "colorbar": {
             "outlinewidth": 0,
             "ticks": ""
            },
            "type": "contourcarpet"
           }
          ],
          "heatmap": [
           {
            "colorbar": {
             "outlinewidth": 0,
             "ticks": ""
            },
            "colorscale": [
             [
              0,
              "#0d0887"
             ],
             [
              0.1111111111111111,
              "#46039f"
             ],
             [
              0.2222222222222222,
              "#7201a8"
             ],
             [
              0.3333333333333333,
              "#9c179e"
             ],
             [
              0.4444444444444444,
              "#bd3786"
             ],
             [
              0.5555555555555556,
              "#d8576b"
             ],
             [
              0.6666666666666666,
              "#ed7953"
             ],
             [
              0.7777777777777778,
              "#fb9f3a"
             ],
             [
              0.8888888888888888,
              "#fdca26"
             ],
             [
              1,
              "#f0f921"
             ]
            ],
            "type": "heatmap"
           }
          ],
          "heatmapgl": [
           {
            "colorbar": {
             "outlinewidth": 0,
             "ticks": ""
            },
            "colorscale": [
             [
              0,
              "#0d0887"
             ],
             [
              0.1111111111111111,
              "#46039f"
             ],
             [
              0.2222222222222222,
              "#7201a8"
             ],
             [
              0.3333333333333333,
              "#9c179e"
             ],
             [
              0.4444444444444444,
              "#bd3786"
             ],
             [
              0.5555555555555556,
              "#d8576b"
             ],
             [
              0.6666666666666666,
              "#ed7953"
             ],
             [
              0.7777777777777778,
              "#fb9f3a"
             ],
             [
              0.8888888888888888,
              "#fdca26"
             ],
             [
              1,
              "#f0f921"
             ]
            ],
            "type": "heatmapgl"
           }
          ],
          "histogram": [
           {
            "marker": {
             "pattern": {
              "fillmode": "overlay",
              "size": 10,
              "solidity": 0.2
             }
            },
            "type": "histogram"
           }
          ],
          "histogram2d": [
           {
            "colorbar": {
             "outlinewidth": 0,
             "ticks": ""
            },
            "colorscale": [
             [
              0,
              "#0d0887"
             ],
             [
              0.1111111111111111,
              "#46039f"
             ],
             [
              0.2222222222222222,
              "#7201a8"
             ],
             [
              0.3333333333333333,
              "#9c179e"
             ],
             [
              0.4444444444444444,
              "#bd3786"
             ],
             [
              0.5555555555555556,
              "#d8576b"
             ],
             [
              0.6666666666666666,
              "#ed7953"
             ],
             [
              0.7777777777777778,
              "#fb9f3a"
             ],
             [
              0.8888888888888888,
              "#fdca26"
             ],
             [
              1,
              "#f0f921"
             ]
            ],
            "type": "histogram2d"
           }
          ],
          "histogram2dcontour": [
           {
            "colorbar": {
             "outlinewidth": 0,
             "ticks": ""
            },
            "colorscale": [
             [
              0,
              "#0d0887"
             ],
             [
              0.1111111111111111,
              "#46039f"
             ],
             [
              0.2222222222222222,
              "#7201a8"
             ],
             [
              0.3333333333333333,
              "#9c179e"
             ],
             [
              0.4444444444444444,
              "#bd3786"
             ],
             [
              0.5555555555555556,
              "#d8576b"
             ],
             [
              0.6666666666666666,
              "#ed7953"
             ],
             [
              0.7777777777777778,
              "#fb9f3a"
             ],
             [
              0.8888888888888888,
              "#fdca26"
             ],
             [
              1,
              "#f0f921"
             ]
            ],
            "type": "histogram2dcontour"
           }
          ],
          "mesh3d": [
           {
            "colorbar": {
             "outlinewidth": 0,
             "ticks": ""
            },
            "type": "mesh3d"
           }
          ],
          "parcoords": [
           {
            "line": {
             "colorbar": {
              "outlinewidth": 0,
              "ticks": ""
             }
            },
            "type": "parcoords"
           }
          ],
          "pie": [
           {
            "automargin": true,
            "type": "pie"
           }
          ],
          "scatter": [
           {
            "fillpattern": {
             "fillmode": "overlay",
             "size": 10,
             "solidity": 0.2
            },
            "type": "scatter"
           }
          ],
          "scatter3d": [
           {
            "line": {
             "colorbar": {
              "outlinewidth": 0,
              "ticks": ""
             }
            },
            "marker": {
             "colorbar": {
              "outlinewidth": 0,
              "ticks": ""
             }
            },
            "type": "scatter3d"
           }
          ],
          "scattercarpet": [
           {
            "marker": {
             "colorbar": {
              "outlinewidth": 0,
              "ticks": ""
             }
            },
            "type": "scattercarpet"
           }
          ],
          "scattergeo": [
           {
            "marker": {
             "colorbar": {
              "outlinewidth": 0,
              "ticks": ""
             }
            },
            "type": "scattergeo"
           }
          ],
          "scattergl": [
           {
            "marker": {
             "colorbar": {
              "outlinewidth": 0,
              "ticks": ""
             }
            },
            "type": "scattergl"
           }
          ],
          "scattermapbox": [
           {
            "marker": {
             "colorbar": {
              "outlinewidth": 0,
              "ticks": ""
             }
            },
            "type": "scattermapbox"
           }
          ],
          "scatterpolar": [
           {
            "marker": {
             "colorbar": {
              "outlinewidth": 0,
              "ticks": ""
             }
            },
            "type": "scatterpolar"
           }
          ],
          "scatterpolargl": [
           {
            "marker": {
             "colorbar": {
              "outlinewidth": 0,
              "ticks": ""
             }
            },
            "type": "scatterpolargl"
           }
          ],
          "scatterternary": [
           {
            "marker": {
             "colorbar": {
              "outlinewidth": 0,
              "ticks": ""
             }
            },
            "type": "scatterternary"
           }
          ],
          "surface": [
           {
            "colorbar": {
             "outlinewidth": 0,
             "ticks": ""
            },
            "colorscale": [
             [
              0,
              "#0d0887"
             ],
             [
              0.1111111111111111,
              "#46039f"
             ],
             [
              0.2222222222222222,
              "#7201a8"
             ],
             [
              0.3333333333333333,
              "#9c179e"
             ],
             [
              0.4444444444444444,
              "#bd3786"
             ],
             [
              0.5555555555555556,
              "#d8576b"
             ],
             [
              0.6666666666666666,
              "#ed7953"
             ],
             [
              0.7777777777777778,
              "#fb9f3a"
             ],
             [
              0.8888888888888888,
              "#fdca26"
             ],
             [
              1,
              "#f0f921"
             ]
            ],
            "type": "surface"
           }
          ],
          "table": [
           {
            "cells": {
             "fill": {
              "color": "#EBF0F8"
             },
             "line": {
              "color": "white"
             }
            },
            "header": {
             "fill": {
              "color": "#C8D4E3"
             },
             "line": {
              "color": "white"
             }
            },
            "type": "table"
           }
          ]
         },
         "layout": {
          "annotationdefaults": {
           "arrowcolor": "#2a3f5f",
           "arrowhead": 0,
           "arrowwidth": 1
          },
          "autotypenumbers": "strict",
          "coloraxis": {
           "colorbar": {
            "outlinewidth": 0,
            "ticks": ""
           }
          },
          "colorscale": {
           "diverging": [
            [
             0,
             "#8e0152"
            ],
            [
             0.1,
             "#c51b7d"
            ],
            [
             0.2,
             "#de77ae"
            ],
            [
             0.3,
             "#f1b6da"
            ],
            [
             0.4,
             "#fde0ef"
            ],
            [
             0.5,
             "#f7f7f7"
            ],
            [
             0.6,
             "#e6f5d0"
            ],
            [
             0.7,
             "#b8e186"
            ],
            [
             0.8,
             "#7fbc41"
            ],
            [
             0.9,
             "#4d9221"
            ],
            [
             1,
             "#276419"
            ]
           ],
           "sequential": [
            [
             0,
             "#0d0887"
            ],
            [
             0.1111111111111111,
             "#46039f"
            ],
            [
             0.2222222222222222,
             "#7201a8"
            ],
            [
             0.3333333333333333,
             "#9c179e"
            ],
            [
             0.4444444444444444,
             "#bd3786"
            ],
            [
             0.5555555555555556,
             "#d8576b"
            ],
            [
             0.6666666666666666,
             "#ed7953"
            ],
            [
             0.7777777777777778,
             "#fb9f3a"
            ],
            [
             0.8888888888888888,
             "#fdca26"
            ],
            [
             1,
             "#f0f921"
            ]
           ],
           "sequentialminus": [
            [
             0,
             "#0d0887"
            ],
            [
             0.1111111111111111,
             "#46039f"
            ],
            [
             0.2222222222222222,
             "#7201a8"
            ],
            [
             0.3333333333333333,
             "#9c179e"
            ],
            [
             0.4444444444444444,
             "#bd3786"
            ],
            [
             0.5555555555555556,
             "#d8576b"
            ],
            [
             0.6666666666666666,
             "#ed7953"
            ],
            [
             0.7777777777777778,
             "#fb9f3a"
            ],
            [
             0.8888888888888888,
             "#fdca26"
            ],
            [
             1,
             "#f0f921"
            ]
           ]
          },
          "colorway": [
           "#636efa",
           "#EF553B",
           "#00cc96",
           "#ab63fa",
           "#FFA15A",
           "#19d3f3",
           "#FF6692",
           "#B6E880",
           "#FF97FF",
           "#FECB52"
          ],
          "font": {
           "color": "#2a3f5f"
          },
          "geo": {
           "bgcolor": "white",
           "lakecolor": "white",
           "landcolor": "#E5ECF6",
           "showlakes": true,
           "showland": true,
           "subunitcolor": "white"
          },
          "hoverlabel": {
           "align": "left"
          },
          "hovermode": "closest",
          "mapbox": {
           "style": "light"
          },
          "paper_bgcolor": "white",
          "plot_bgcolor": "#E5ECF6",
          "polar": {
           "angularaxis": {
            "gridcolor": "white",
            "linecolor": "white",
            "ticks": ""
           },
           "bgcolor": "#E5ECF6",
           "radialaxis": {
            "gridcolor": "white",
            "linecolor": "white",
            "ticks": ""
           }
          },
          "scene": {
           "xaxis": {
            "backgroundcolor": "#E5ECF6",
            "gridcolor": "white",
            "gridwidth": 2,
            "linecolor": "white",
            "showbackground": true,
            "ticks": "",
            "zerolinecolor": "white"
           },
           "yaxis": {
            "backgroundcolor": "#E5ECF6",
            "gridcolor": "white",
            "gridwidth": 2,
            "linecolor": "white",
            "showbackground": true,
            "ticks": "",
            "zerolinecolor": "white"
           },
           "zaxis": {
            "backgroundcolor": "#E5ECF6",
            "gridcolor": "white",
            "gridwidth": 2,
            "linecolor": "white",
            "showbackground": true,
            "ticks": "",
            "zerolinecolor": "white"
           }
          },
          "shapedefaults": {
           "line": {
            "color": "#2a3f5f"
           }
          },
          "ternary": {
           "aaxis": {
            "gridcolor": "white",
            "linecolor": "white",
            "ticks": ""
           },
           "baxis": {
            "gridcolor": "white",
            "linecolor": "white",
            "ticks": ""
           },
           "bgcolor": "#E5ECF6",
           "caxis": {
            "gridcolor": "white",
            "linecolor": "white",
            "ticks": ""
           }
          },
          "title": {
           "x": 0.05
          },
          "xaxis": {
           "automargin": true,
           "gridcolor": "white",
           "linecolor": "white",
           "ticks": "",
           "title": {
            "standoff": 15
           },
           "zerolinecolor": "white",
           "zerolinewidth": 2
          },
          "yaxis": {
           "automargin": true,
           "gridcolor": "white",
           "linecolor": "white",
           "ticks": "",
           "title": {
            "standoff": 15
           },
           "zerolinecolor": "white",
           "zerolinewidth": 2
          }
         }
        },
        "title": {
         "text": "Agewise Distribution"
        },
        "xaxis": {
         "anchor": "y",
         "domain": [
          0,
          1
         ],
         "title": {
          "text": "age"
         }
        },
        "yaxis": {
         "anchor": "x",
         "domain": [
          0,
          1
         ],
         "title": {
          "text": "count"
         }
        }
       }
      },
      "text/html": [
       "<div>                        <script type=\"text/javascript\">window.PlotlyConfig = {MathJaxConfig: 'local'};</script>\n",
       "        <script charset=\"utf-8\" src=\"https://cdn.plot.ly/plotly-2.35.2.min.js\"></script>                <div id=\"4a4b62f1-6809-4b5d-9425-fa4bd11524e7\" class=\"plotly-graph-div\" style=\"height:100%; width:100%;\"></div>            <script type=\"text/javascript\">                                    window.PLOTLYENV=window.PLOTLYENV || {};                                    if (document.getElementById(\"4a4b62f1-6809-4b5d-9425-fa4bd11524e7\")) {                    Plotly.newPlot(                        \"4a4b62f1-6809-4b5d-9425-fa4bd11524e7\",                        [{\"alignmentgroup\":\"True\",\"bingroup\":\"x\",\"hovertemplate\":\"age=%{x}\\u003cbr\\u003ecount=%{y}\\u003cextra\\u003e\\u003c\\u002fextra\\u003e\",\"legendgroup\":\"\",\"marker\":{\"color\":\"orange\",\"pattern\":{\"shape\":\"\"}},\"name\":\"\",\"offsetgroup\":\"\",\"orientation\":\"v\",\"showlegend\":false,\"x\":[38,42,40,40,39,37,53,44,40,41,72,49,29,79,25,27,30,47,69,55,34,36,56,71,38,79,58,69,83,73,42,31,26,27,57,30,22,78,49,74,85,75,80,37,33,41,81,76,58,59,40,54,49,79,28,44,42,36,89,64,76,61,81,20,82,23,41,31,44,42,67,53,76,40,44,31,43,36,34,18,56,73,22,33,27,33,63,64,54,34,78,54,56,78,37,54,40,64,42,34,64,50,31,37,81,57,59,66,57,78,49,62,17,36,31,61,71,75,43,68,65,85,35,52,28,52,67,35,68,34,57,37,37,43,59,28,60,16,37,34,73,24,36,39,74,32,30,68,49,47,30,60,72,73,48,53,17,58,34,44,23,49,30,61,38,30,44,91,40,63,61,40,57,41,32,76,35,70,75,74,49,56,60,72,17,23,79,65,57,79,71,87,59,21,66,58,38,61,37,38,34,34,20,77,31,28,36,16,42,47,42,67,72,40,34,75,35,40,46,23,42,63,33,31,54,33,24,80,77,51,16,27,75,24,78,20,18,25,55,29,67,44,47,41,31,32,84,67,49,69,64,62,52,45,28,36,73,48,67,38,40,43,30,70,82,21,67,21,68,41,33,28,75,21,69,33,47,44,74,29,23,72,31,48,29,72,52,68,48,55,23,66,37,42,46,57,36,51,18,69,30,51,63,31,58,50,67,20,45,26,30,43,73,52,18,52,33,56,65,30,40,26,74,44,80,67,59,28,31,25,68,61,50,43,19,21,51,65,50,38,74,22,66,48,59,69,76,21,47,77,25,71,24,90,41,69,35,32,48,34,28,66,56,51,63,44,45,55,55,55,57,76,59,46,56,67,73,82,75,41,40,37,53,35,39,31,38,34,36,31,31,35,42,30,39,47,38,29,75,47,55,42,39,64,84,49,24,38,45,47,37,59,25,56,71,81,55,42,73,43,57,47,29,30,58,58,70,18,45,37,44,46,29,50,51,80,85,49,52,58,49,39,53,71,29,66,75,45,69,49,63,61,55,57,60,58,76,29,50,40,34,77,47,68,31,41,55,66,80,45,63,62,49,33,16,58,33,65,39,57,31,79,16,54,37,87,32,72,20,77,63,56,34,24,42,71,48,38,55,50,30,72,59,68,48,42,72,54,53,86,57,30,35,25,67,33,51,54,86,69,23,33,79,21,37,40,79,34,28,44,64,51,21,40,42,47,73,18,24,69,61,83,80,80,26,34,34,39,33,36,39,35,89,23,32,32,35,18,44,75,65,54,32,57,50,58,30,57,60,78,44,32,56,51,71,74,56,80,51,53,80,42,82,58,78,61,49,51,48,37,51,55,48,82,56,71,30,73,35,75,49,74,33,81,63,78,68,73,34,36,16,72,66,41,49,42,54,70,29,43,19,44,27,68,80,85,65,88,76,81,44,34,77,33,82,77,19,70,74,57,44,38,43,57,54,17,60,50,24,78,60,85,59,65,55,32,41,31,45,30,19,76,73,19,34,59,22,27,45,69,76,54,72,89,78,60,39,28,23,26,52,54,20,59,30,41,26,27,49,29,36,43,34,81,30,25,59,44,64,35,40,65,17,72,29,39,46,59,77,42,41,49,67,65,40,49,34,64,44,72,32,53,50,63,57,40,88,57,54,58,77,45,31,31,80,67,40,70,28,30,70,76,81,30,39,73,39,76,62,66,53,60,36,40,57,16,25,58,49,48,76,88,35,43,69,64,40,78,34,46,65,34,40,79,36,39,24,28,26,45,24,77,78,25,36,17,55,70,43,59,32,34,58,44,64,34,32,38,28,42,34,23,55,65,62,66,73,34,33,76,55,39,26,61,78,42,72,62,46,24,27,64,86,46,20,35,46,39,28,33,39,45,37,29,26,47,72,72,65,61,63,16,61,18,76,65,52,64,42,40,28,40,48,35,30,26,81,77,25,66,18,43,49,29,20,75,40,64,66,34,76,30,55,49,38,23,77,46,26,26,45,45,61,47,75,36,26,71,69,38,21,26,83,56,34,66,32,77,70,24,81,37,90,29,24,81,38,22,31,77,61,54,72,66,47,76,41,80,63,29,40,54,66,69,51,70,36,73,72,18,57,21,64,39,37,36,37,79,49,30,27,16,40,45,78,59,93,33,57,53,54,33,52,31,54,41,23,81,17,73,62,73,22,18,86,54,55,22,30,25,54,36,40,51,44,26,73,36,69,41,82,27,35,35,33,41,26,55,18,68,43,58,39,54,62,40,59,57,42,48,45,24,66,63,28,59,50,41,76,24,25,33,31,33,37,81,36,64,51,19,18,31,24,18,22,26,33,17,37,60,80,68,65,42,48,46,44,29,38,52,48,65,27,37,42,53,66,20,62,18,69,63,41,74,20,18,28,49,64,69,33,22,63,93,65,33,38,29,59,37,51,33,80,49,38,45,58,63,69,86,66,61,62,89,72,64,58,80,61,34,36,34,40,53,31,86,46,34,44,69,56,79,41,34,47,46,30,19,45,24,42,32,32,28,78,42,27,57,24,71,51,66,73,18,50,79,22,45,53,77,64,39,54,17,78,50,41,48,25,18,58,79,62,36,38,19,45,54,69,65,31,31,46,37,72,59,82,81,65,48,49,35,73,80,55,78,45,39,75,65,79,75,69,57,29,54,29,42,28,65,37,35,33,52,57,31,73,43,38,43,55,59,33,41,46,57,40,57,39,67,46,39,55,50,70,44,33,69,70,62,31,70,32,75,47,57,86,32,46,51,69,73,32,75,54,51,35,38,72,66,59,70,44,67,35,33,17,45,57,18,68,27,40,77,77,75,39,21,59,27,67,50,64,79,31,19,42,36,36,64,53,39,39,28,81,79,72,18,76,68,28,42,26,19,41,82,36,47,77,66,50,55,36,79,67,42,76,44,75,24,78,38,22,62,40,35,45,66,53,43,72,72,67,37,38,39,64,72,54,59,50,33,45,73,68,33,21,32,37,48,25,61,86,45,60,40,55,53,41,17,42,44,43,39,67,73,16,73,52,72,79,90,27,32,38,21,40,28,47,45,95,18,89,82,65,87,30,77,55,33,56,68,73,66,73,42,41,35,53,74,46,22,27,71,78,38,31,54,31,53,36,41,78,54,72,28,41,78,71,57,31,64,65,61,33,60,40,68,36,35,22,43,84,24,68,35,51,45,45,71,47,39,62,37,71,49,22,61,34,40,27,28,28,36,34,19,31,49,42,38,16,73,36,81,97,38,46,79,76,54,59,52,58,69,67,76,33,61,82,62,66,69,25,29,28,52,81,44,62,45,71,72,69,72,61,29,37,29,57,60,38,74,38,51,68,67,32,25,53,52,21,71,30,23,28,37,84,61,18,55,52,46,46,23,58,16,71,47,34,55,78,35,68,76,28,36,57,29,27,64,89,26,27,66,84,41,27,40,79,49,79,54,25,45,24,54,78,50,42,32,75,25,50,24,35,52,42,44,67,69,91,61,50,37,35,24,39,79,40,60,42,64,55,54,61,62,59,79,37,55,88,39,34,42,45,59,58,74,45,64,53,40,30,70,28,78,41,69,54,59,23,40,17,54,49,55,51,73,41,70,44,51,68,75,60,56,64,27,73,34,47,32,63,23,63,46,48,68,52,29,16,41,48,24,72,45,28,20,69,70,50,63,44,83,17,61,47,57,44,52,82,63,72,39,16,35,39,56,31,61,23,34,24,82,27,62,39,44,43,31,77,20,81,31,78,35,67,65,61,24,53,63,35,78,31,22,49,45,51,31],\"xaxis\":\"x\",\"yaxis\":\"y\",\"type\":\"histogram\",\"opacity\":0.7}],                        {\"template\":{\"data\":{\"histogram2dcontour\":[{\"type\":\"histogram2dcontour\",\"colorbar\":{\"outlinewidth\":0,\"ticks\":\"\"},\"colorscale\":[[0.0,\"#0d0887\"],[0.1111111111111111,\"#46039f\"],[0.2222222222222222,\"#7201a8\"],[0.3333333333333333,\"#9c179e\"],[0.4444444444444444,\"#bd3786\"],[0.5555555555555556,\"#d8576b\"],[0.6666666666666666,\"#ed7953\"],[0.7777777777777778,\"#fb9f3a\"],[0.8888888888888888,\"#fdca26\"],[1.0,\"#f0f921\"]]}],\"choropleth\":[{\"type\":\"choropleth\",\"colorbar\":{\"outlinewidth\":0,\"ticks\":\"\"}}],\"histogram2d\":[{\"type\":\"histogram2d\",\"colorbar\":{\"outlinewidth\":0,\"ticks\":\"\"},\"colorscale\":[[0.0,\"#0d0887\"],[0.1111111111111111,\"#46039f\"],[0.2222222222222222,\"#7201a8\"],[0.3333333333333333,\"#9c179e\"],[0.4444444444444444,\"#bd3786\"],[0.5555555555555556,\"#d8576b\"],[0.6666666666666666,\"#ed7953\"],[0.7777777777777778,\"#fb9f3a\"],[0.8888888888888888,\"#fdca26\"],[1.0,\"#f0f921\"]]}],\"heatmap\":[{\"type\":\"heatmap\",\"colorbar\":{\"outlinewidth\":0,\"ticks\":\"\"},\"colorscale\":[[0.0,\"#0d0887\"],[0.1111111111111111,\"#46039f\"],[0.2222222222222222,\"#7201a8\"],[0.3333333333333333,\"#9c179e\"],[0.4444444444444444,\"#bd3786\"],[0.5555555555555556,\"#d8576b\"],[0.6666666666666666,\"#ed7953\"],[0.7777777777777778,\"#fb9f3a\"],[0.8888888888888888,\"#fdca26\"],[1.0,\"#f0f921\"]]}],\"heatmapgl\":[{\"type\":\"heatmapgl\",\"colorbar\":{\"outlinewidth\":0,\"ticks\":\"\"},\"colorscale\":[[0.0,\"#0d0887\"],[0.1111111111111111,\"#46039f\"],[0.2222222222222222,\"#7201a8\"],[0.3333333333333333,\"#9c179e\"],[0.4444444444444444,\"#bd3786\"],[0.5555555555555556,\"#d8576b\"],[0.6666666666666666,\"#ed7953\"],[0.7777777777777778,\"#fb9f3a\"],[0.8888888888888888,\"#fdca26\"],[1.0,\"#f0f921\"]]}],\"contourcarpet\":[{\"type\":\"contourcarpet\",\"colorbar\":{\"outlinewidth\":0,\"ticks\":\"\"}}],\"contour\":[{\"type\":\"contour\",\"colorbar\":{\"outlinewidth\":0,\"ticks\":\"\"},\"colorscale\":[[0.0,\"#0d0887\"],[0.1111111111111111,\"#46039f\"],[0.2222222222222222,\"#7201a8\"],[0.3333333333333333,\"#9c179e\"],[0.4444444444444444,\"#bd3786\"],[0.5555555555555556,\"#d8576b\"],[0.6666666666666666,\"#ed7953\"],[0.7777777777777778,\"#fb9f3a\"],[0.8888888888888888,\"#fdca26\"],[1.0,\"#f0f921\"]]}],\"surface\":[{\"type\":\"surface\",\"colorbar\":{\"outlinewidth\":0,\"ticks\":\"\"},\"colorscale\":[[0.0,\"#0d0887\"],[0.1111111111111111,\"#46039f\"],[0.2222222222222222,\"#7201a8\"],[0.3333333333333333,\"#9c179e\"],[0.4444444444444444,\"#bd3786\"],[0.5555555555555556,\"#d8576b\"],[0.6666666666666666,\"#ed7953\"],[0.7777777777777778,\"#fb9f3a\"],[0.8888888888888888,\"#fdca26\"],[1.0,\"#f0f921\"]]}],\"mesh3d\":[{\"type\":\"mesh3d\",\"colorbar\":{\"outlinewidth\":0,\"ticks\":\"\"}}],\"scatter\":[{\"fillpattern\":{\"fillmode\":\"overlay\",\"size\":10,\"solidity\":0.2},\"type\":\"scatter\"}],\"parcoords\":[{\"type\":\"parcoords\",\"line\":{\"colorbar\":{\"outlinewidth\":0,\"ticks\":\"\"}}}],\"scatterpolargl\":[{\"type\":\"scatterpolargl\",\"marker\":{\"colorbar\":{\"outlinewidth\":0,\"ticks\":\"\"}}}],\"bar\":[{\"error_x\":{\"color\":\"#2a3f5f\"},\"error_y\":{\"color\":\"#2a3f5f\"},\"marker\":{\"line\":{\"color\":\"#E5ECF6\",\"width\":0.5},\"pattern\":{\"fillmode\":\"overlay\",\"size\":10,\"solidity\":0.2}},\"type\":\"bar\"}],\"scattergeo\":[{\"type\":\"scattergeo\",\"marker\":{\"colorbar\":{\"outlinewidth\":0,\"ticks\":\"\"}}}],\"scatterpolar\":[{\"type\":\"scatterpolar\",\"marker\":{\"colorbar\":{\"outlinewidth\":0,\"ticks\":\"\"}}}],\"histogram\":[{\"marker\":{\"pattern\":{\"fillmode\":\"overlay\",\"size\":10,\"solidity\":0.2}},\"type\":\"histogram\"}],\"scattergl\":[{\"type\":\"scattergl\",\"marker\":{\"colorbar\":{\"outlinewidth\":0,\"ticks\":\"\"}}}],\"scatter3d\":[{\"type\":\"scatter3d\",\"line\":{\"colorbar\":{\"outlinewidth\":0,\"ticks\":\"\"}},\"marker\":{\"colorbar\":{\"outlinewidth\":0,\"ticks\":\"\"}}}],\"scattermapbox\":[{\"type\":\"scattermapbox\",\"marker\":{\"colorbar\":{\"outlinewidth\":0,\"ticks\":\"\"}}}],\"scatterternary\":[{\"type\":\"scatterternary\",\"marker\":{\"colorbar\":{\"outlinewidth\":0,\"ticks\":\"\"}}}],\"scattercarpet\":[{\"type\":\"scattercarpet\",\"marker\":{\"colorbar\":{\"outlinewidth\":0,\"ticks\":\"\"}}}],\"carpet\":[{\"aaxis\":{\"endlinecolor\":\"#2a3f5f\",\"gridcolor\":\"white\",\"linecolor\":\"white\",\"minorgridcolor\":\"white\",\"startlinecolor\":\"#2a3f5f\"},\"baxis\":{\"endlinecolor\":\"#2a3f5f\",\"gridcolor\":\"white\",\"linecolor\":\"white\",\"minorgridcolor\":\"white\",\"startlinecolor\":\"#2a3f5f\"},\"type\":\"carpet\"}],\"table\":[{\"cells\":{\"fill\":{\"color\":\"#EBF0F8\"},\"line\":{\"color\":\"white\"}},\"header\":{\"fill\":{\"color\":\"#C8D4E3\"},\"line\":{\"color\":\"white\"}},\"type\":\"table\"}],\"barpolar\":[{\"marker\":{\"line\":{\"color\":\"#E5ECF6\",\"width\":0.5},\"pattern\":{\"fillmode\":\"overlay\",\"size\":10,\"solidity\":0.2}},\"type\":\"barpolar\"}],\"pie\":[{\"automargin\":true,\"type\":\"pie\"}]},\"layout\":{\"autotypenumbers\":\"strict\",\"colorway\":[\"#636efa\",\"#EF553B\",\"#00cc96\",\"#ab63fa\",\"#FFA15A\",\"#19d3f3\",\"#FF6692\",\"#B6E880\",\"#FF97FF\",\"#FECB52\"],\"font\":{\"color\":\"#2a3f5f\"},\"hovermode\":\"closest\",\"hoverlabel\":{\"align\":\"left\"},\"paper_bgcolor\":\"white\",\"plot_bgcolor\":\"#E5ECF6\",\"polar\":{\"bgcolor\":\"#E5ECF6\",\"angularaxis\":{\"gridcolor\":\"white\",\"linecolor\":\"white\",\"ticks\":\"\"},\"radialaxis\":{\"gridcolor\":\"white\",\"linecolor\":\"white\",\"ticks\":\"\"}},\"ternary\":{\"bgcolor\":\"#E5ECF6\",\"aaxis\":{\"gridcolor\":\"white\",\"linecolor\":\"white\",\"ticks\":\"\"},\"baxis\":{\"gridcolor\":\"white\",\"linecolor\":\"white\",\"ticks\":\"\"},\"caxis\":{\"gridcolor\":\"white\",\"linecolor\":\"white\",\"ticks\":\"\"}},\"coloraxis\":{\"colorbar\":{\"outlinewidth\":0,\"ticks\":\"\"}},\"colorscale\":{\"sequential\":[[0.0,\"#0d0887\"],[0.1111111111111111,\"#46039f\"],[0.2222222222222222,\"#7201a8\"],[0.3333333333333333,\"#9c179e\"],[0.4444444444444444,\"#bd3786\"],[0.5555555555555556,\"#d8576b\"],[0.6666666666666666,\"#ed7953\"],[0.7777777777777778,\"#fb9f3a\"],[0.8888888888888888,\"#fdca26\"],[1.0,\"#f0f921\"]],\"sequentialminus\":[[0.0,\"#0d0887\"],[0.1111111111111111,\"#46039f\"],[0.2222222222222222,\"#7201a8\"],[0.3333333333333333,\"#9c179e\"],[0.4444444444444444,\"#bd3786\"],[0.5555555555555556,\"#d8576b\"],[0.6666666666666666,\"#ed7953\"],[0.7777777777777778,\"#fb9f3a\"],[0.8888888888888888,\"#fdca26\"],[1.0,\"#f0f921\"]],\"diverging\":[[0,\"#8e0152\"],[0.1,\"#c51b7d\"],[0.2,\"#de77ae\"],[0.3,\"#f1b6da\"],[0.4,\"#fde0ef\"],[0.5,\"#f7f7f7\"],[0.6,\"#e6f5d0\"],[0.7,\"#b8e186\"],[0.8,\"#7fbc41\"],[0.9,\"#4d9221\"],[1,\"#276419\"]]},\"xaxis\":{\"gridcolor\":\"white\",\"linecolor\":\"white\",\"ticks\":\"\",\"title\":{\"standoff\":15},\"zerolinecolor\":\"white\",\"automargin\":true,\"zerolinewidth\":2},\"yaxis\":{\"gridcolor\":\"white\",\"linecolor\":\"white\",\"ticks\":\"\",\"title\":{\"standoff\":15},\"zerolinecolor\":\"white\",\"automargin\":true,\"zerolinewidth\":2},\"scene\":{\"xaxis\":{\"backgroundcolor\":\"#E5ECF6\",\"gridcolor\":\"white\",\"linecolor\":\"white\",\"showbackground\":true,\"ticks\":\"\",\"zerolinecolor\":\"white\",\"gridwidth\":2},\"yaxis\":{\"backgroundcolor\":\"#E5ECF6\",\"gridcolor\":\"white\",\"linecolor\":\"white\",\"showbackground\":true,\"ticks\":\"\",\"zerolinecolor\":\"white\",\"gridwidth\":2},\"zaxis\":{\"backgroundcolor\":\"#E5ECF6\",\"gridcolor\":\"white\",\"linecolor\":\"white\",\"showbackground\":true,\"ticks\":\"\",\"zerolinecolor\":\"white\",\"gridwidth\":2}},\"shapedefaults\":{\"line\":{\"color\":\"#2a3f5f\"}},\"annotationdefaults\":{\"arrowcolor\":\"#2a3f5f\",\"arrowhead\":0,\"arrowwidth\":1},\"geo\":{\"bgcolor\":\"white\",\"landcolor\":\"#E5ECF6\",\"subunitcolor\":\"white\",\"showland\":true,\"showlakes\":true,\"lakecolor\":\"white\"},\"title\":{\"x\":0.05},\"mapbox\":{\"style\":\"light\"}}},\"xaxis\":{\"anchor\":\"y\",\"domain\":[0.0,1.0],\"title\":{\"text\":\"age\"}},\"yaxis\":{\"anchor\":\"x\",\"domain\":[0.0,1.0],\"title\":{\"text\":\"count\"}},\"legend\":{\"tracegroupgap\":0},\"title\":{\"text\":\"Agewise Distribution\"},\"barmode\":\"relative\"},                        {\"responsive\": true}                    )                };                            </script>        </div>"
      ],
      "text/plain": [
       "Figure({\n",
       "    'data': [{'alignmentgroup': 'True',\n",
       "              'bingroup': 'x',\n",
       "              'hovertemplate': 'age=%{x}<br>count=%{y}<extra></extra>',\n",
       "              'legendgroup': '',\n",
       "              'marker': {'color': 'orange', 'pattern': {'shape': ''}},\n",
       "              'name': '',\n",
       "              'offsetgroup': '',\n",
       "              'opacity': 0.7,\n",
       "              'orientation': 'v',\n",
       "              'showlegend': False,\n",
       "              'type': 'histogram',\n",
       "              'x': array([38, 42, 40, ..., 45, 51, 31], dtype=int64),\n",
       "              'xaxis': 'x',\n",
       "              'yaxis': 'y'}],\n",
       "    'layout': {'barmode': 'relative',\n",
       "               'legend': {'tracegroupgap': 0},\n",
       "               'template': '...',\n",
       "               'title': {'text': 'Agewise Distribution'},\n",
       "               'xaxis': {'anchor': 'y', 'domain': [0.0, 1.0], 'title': {'text': 'age'}},\n",
       "               'yaxis': {'anchor': 'x', 'domain': [0.0, 1.0], 'title': {'text': 'count'}}}\n",
       "})"
      ]
     },
     "execution_count": 39,
     "metadata": {},
     "output_type": "execute_result"
    }
   ],
   "source": [
    "hist_fig= px.histogram(dataset, x='age', title='Agewise Distribution')\n",
    "hist_fig.update_traces(marker_color='orange', opacity=0.7)"
   ]
  },
  {
   "cell_type": "markdown",
   "metadata": {
    "id": "dBYBFgobzb0V"
   },
   "source": [
    "* Amount consumed over weekends"
   ]
  },
  {
   "cell_type": "code",
   "execution_count": 38,
   "metadata": {
    "colab": {
     "base_uri": "https://localhost:8080/",
     "height": 542
    },
    "executionInfo": {
     "elapsed": 17,
     "status": "ok",
     "timestamp": 1731902426155,
     "user": {
      "displayName": "Tuấn Quàng Lê Trần",
      "userId": "02554655782233207157"
     },
     "user_tz": -420
    },
    "id": "ptxsJM9Q5Vkx",
    "outputId": "ba422679-e714-4a31-fb6c-5796583f8031"
   },
   "outputs": [
    {
     "ename": "ValueError",
     "evalue": "Mime type rendering requires nbformat>=4.2.0 but it is not installed",
     "output_type": "error",
     "traceback": [
      "\u001b[1;31m---------------------------------------------------------------------------\u001b[0m",
      "\u001b[1;31mValueError\u001b[0m                                Traceback (most recent call last)",
      "File \u001b[1;32m~\\AppData\\Roaming\\Python\\Python312\\site-packages\\IPython\\core\\formatters.py:925\u001b[0m, in \u001b[0;36mIPythonDisplayFormatter.__call__\u001b[1;34m(self, obj)\u001b[0m\n\u001b[0;32m    923\u001b[0m method \u001b[38;5;241m=\u001b[39m get_real_method(obj, \u001b[38;5;28mself\u001b[39m\u001b[38;5;241m.\u001b[39mprint_method)\n\u001b[0;32m    924\u001b[0m \u001b[38;5;28;01mif\u001b[39;00m method \u001b[38;5;129;01mis\u001b[39;00m \u001b[38;5;129;01mnot\u001b[39;00m \u001b[38;5;28;01mNone\u001b[39;00m:\n\u001b[1;32m--> 925\u001b[0m     \u001b[43mmethod\u001b[49m\u001b[43m(\u001b[49m\u001b[43m)\u001b[49m\n\u001b[0;32m    926\u001b[0m     \u001b[38;5;28;01mreturn\u001b[39;00m \u001b[38;5;28;01mTrue\u001b[39;00m\n",
      "File \u001b[1;32mc:\\Users\\Admin\\AppData\\Local\\Programs\\Python\\Python312\\Lib\\site-packages\\plotly\\basedatatypes.py:832\u001b[0m, in \u001b[0;36mBaseFigure._ipython_display_\u001b[1;34m(self)\u001b[0m\n\u001b[0;32m    829\u001b[0m \u001b[38;5;28;01mimport\u001b[39;00m \u001b[38;5;21;01mplotly\u001b[39;00m\u001b[38;5;21;01m.\u001b[39;00m\u001b[38;5;21;01mio\u001b[39;00m \u001b[38;5;28;01mas\u001b[39;00m \u001b[38;5;21;01mpio\u001b[39;00m\n\u001b[0;32m    831\u001b[0m \u001b[38;5;28;01mif\u001b[39;00m pio\u001b[38;5;241m.\u001b[39mrenderers\u001b[38;5;241m.\u001b[39mrender_on_display \u001b[38;5;129;01mand\u001b[39;00m pio\u001b[38;5;241m.\u001b[39mrenderers\u001b[38;5;241m.\u001b[39mdefault:\n\u001b[1;32m--> 832\u001b[0m     \u001b[43mpio\u001b[49m\u001b[38;5;241;43m.\u001b[39;49m\u001b[43mshow\u001b[49m\u001b[43m(\u001b[49m\u001b[38;5;28;43mself\u001b[39;49m\u001b[43m)\u001b[49m\n\u001b[0;32m    833\u001b[0m \u001b[38;5;28;01melse\u001b[39;00m:\n\u001b[0;32m    834\u001b[0m     \u001b[38;5;28mprint\u001b[39m(\u001b[38;5;28mrepr\u001b[39m(\u001b[38;5;28mself\u001b[39m))\n",
      "File \u001b[1;32mc:\\Users\\Admin\\AppData\\Local\\Programs\\Python\\Python312\\Lib\\site-packages\\plotly\\io\\_renderers.py:394\u001b[0m, in \u001b[0;36mshow\u001b[1;34m(fig, renderer, validate, **kwargs)\u001b[0m\n\u001b[0;32m    389\u001b[0m         \u001b[38;5;28;01mraise\u001b[39;00m \u001b[38;5;167;01mValueError\u001b[39;00m(\n\u001b[0;32m    390\u001b[0m             \u001b[38;5;124m\"\u001b[39m\u001b[38;5;124mMime type rendering requires ipython but it is not installed\u001b[39m\u001b[38;5;124m\"\u001b[39m\n\u001b[0;32m    391\u001b[0m         )\n\u001b[0;32m    393\u001b[0m     \u001b[38;5;28;01mif\u001b[39;00m \u001b[38;5;129;01mnot\u001b[39;00m nbformat \u001b[38;5;129;01mor\u001b[39;00m Version(nbformat\u001b[38;5;241m.\u001b[39m__version__) \u001b[38;5;241m<\u001b[39m Version(\u001b[38;5;124m\"\u001b[39m\u001b[38;5;124m4.2.0\u001b[39m\u001b[38;5;124m\"\u001b[39m):\n\u001b[1;32m--> 394\u001b[0m         \u001b[38;5;28;01mraise\u001b[39;00m \u001b[38;5;167;01mValueError\u001b[39;00m(\n\u001b[0;32m    395\u001b[0m             \u001b[38;5;124m\"\u001b[39m\u001b[38;5;124mMime type rendering requires nbformat>=4.2.0 but it is not installed\u001b[39m\u001b[38;5;124m\"\u001b[39m\n\u001b[0;32m    396\u001b[0m         )\n\u001b[0;32m    398\u001b[0m     ipython_display\u001b[38;5;241m.\u001b[39mdisplay(bundle, raw\u001b[38;5;241m=\u001b[39m\u001b[38;5;28;01mTrue\u001b[39;00m)\n\u001b[0;32m    400\u001b[0m \u001b[38;5;66;03m# external renderers\u001b[39;00m\n",
      "\u001b[1;31mValueError\u001b[0m: Mime type rendering requires nbformat>=4.2.0 but it is not installed"
     ]
    },
    {
     "data": {
      "application/vnd.plotly.v1+json": {
       "config": {
        "plotlyServerURL": "https://plot.ly"
       },
       "data": [
        {
         "alignmentgroup": "True",
         "bingroup": "x",
         "hovertemplate": "amt_weekends=%{x}<br>count=%{y}<extra></extra>",
         "legendgroup": "",
         "marker": {
          "color": "orange",
          "pattern": {
           "shape": ""
          }
         },
         "name": "",
         "offsetgroup": "",
         "opacity": 0.7,
         "orientation": "v",
         "showlegend": false,
         "type": "histogram",
         "x": [
          0,
          12,
          0,
          0,
          0,
          0,
          6,
          0,
          8,
          15,
          0,
          0,
          0,
          0,
          0,
          0,
          0,
          0,
          0,
          0,
          6,
          5,
          20,
          0,
          0,
          0,
          25,
          0,
          0,
          0,
          40,
          15,
          0,
          0,
          0,
          0,
          0,
          20,
          0,
          0,
          0,
          0,
          0,
          0,
          0,
          0,
          0,
          6,
          0,
          25,
          4,
          0,
          0,
          0,
          20,
          0,
          0,
          0,
          0,
          0,
          0,
          0,
          0,
          20,
          0,
          20,
          0,
          0,
          5,
          0,
          20,
          0,
          0,
          30,
          0,
          20,
          20,
          0,
          0,
          10,
          0,
          0,
          20,
          0,
          10,
          0,
          0,
          0,
          0,
          0,
          0,
          0,
          0,
          0,
          0,
          0,
          15,
          0,
          0,
          0,
          0,
          0,
          0,
          0,
          0,
          10,
          0,
          0,
          0,
          0,
          0,
          0,
          0,
          0,
          7,
          25,
          40,
          12,
          0,
          0,
          0,
          0,
          20,
          0,
          15,
          0,
          25,
          30,
          0,
          0,
          20,
          8,
          15,
          15,
          0,
          0,
          0,
          0,
          40,
          0,
          0,
          0,
          0,
          20,
          0,
          15,
          0,
          0,
          0,
          0,
          30,
          15,
          0,
          0,
          20,
          0,
          0,
          0,
          0,
          0,
          0,
          0,
          0,
          0,
          9,
          0,
          0,
          0,
          0,
          0,
          30,
          0,
          15,
          0,
          7,
          0,
          2,
          0,
          0,
          0,
          0,
          0,
          0,
          0,
          0,
          0,
          0,
          0,
          0,
          0,
          0,
          0,
          40,
          20,
          0,
          0,
          30,
          0,
          0,
          0,
          0,
          0,
          0,
          20,
          20,
          2,
          0,
          12,
          0,
          0,
          0,
          0,
          0,
          25,
          0,
          0,
          0,
          10,
          0,
          0,
          0,
          0,
          0,
          0,
          0,
          0,
          12,
          0,
          0,
          0,
          0,
          15,
          0,
          0,
          50,
          0,
          0,
          0,
          10,
          10,
          0,
          0,
          0,
          0,
          5,
          0,
          0,
          0,
          0,
          6,
          16,
          0,
          0,
          0,
          15,
          0,
          0,
          0,
          10,
          0,
          5,
          0,
          0,
          0,
          0,
          20,
          0,
          40,
          8,
          20,
          0,
          0,
          5,
          5,
          0,
          10,
          0,
          35,
          0,
          0,
          0,
          0,
          10,
          0,
          0,
          0,
          0,
          0,
          40,
          0,
          7,
          0,
          10,
          0,
          20,
          0,
          0,
          0,
          8,
          0,
          0,
          0,
          0,
          0,
          0,
          15,
          20,
          0,
          0,
          0,
          0,
          0,
          0,
          0,
          15,
          0,
          0,
          0,
          0,
          0,
          10,
          20,
          0,
          0,
          0,
          0,
          0,
          15,
          0,
          0,
          0,
          0,
          0,
          0,
          0,
          0,
          0,
          0,
          0,
          0,
          0,
          0,
          0,
          0,
          0,
          0,
          20,
          0,
          0,
          0,
          10,
          0,
          10,
          0,
          10,
          0,
          0,
          12,
          0,
          0,
          10,
          0,
          0,
          0,
          0,
          0,
          0,
          20,
          0,
          0,
          0,
          0,
          0,
          0,
          0,
          0,
          0,
          0,
          0,
          0,
          0,
          0,
          0,
          0,
          0,
          0,
          0,
          25,
          20,
          0,
          10,
          0,
          0,
          0,
          0,
          0,
          0,
          0,
          0,
          0,
          0,
          0,
          0,
          0,
          0,
          0,
          0,
          30,
          0,
          0,
          0,
          0,
          0,
          0,
          0,
          0,
          0,
          0,
          0,
          0,
          15,
          0,
          15,
          0,
          30,
          0,
          0,
          0,
          0,
          15,
          0,
          0,
          0,
          0,
          0,
          0,
          0,
          0,
          0,
          0,
          0,
          0,
          15,
          0,
          0,
          0,
          0,
          0,
          0,
          0,
          0,
          0,
          0,
          0,
          0,
          0,
          10,
          20,
          0,
          0,
          0,
          0,
          0,
          0,
          0,
          0,
          25,
          0,
          0,
          0,
          0,
          0,
          0,
          0,
          0,
          0,
          0,
          0,
          0,
          6,
          0,
          0,
          2,
          0,
          12,
          0,
          0,
          0,
          30,
          0,
          0,
          0,
          10,
          0,
          10,
          0,
          0,
          0,
          0,
          0,
          0,
          0,
          0,
          0,
          0,
          0,
          0,
          0,
          7,
          0,
          20,
          0,
          20,
          20,
          0,
          0,
          15,
          0,
          0,
          0,
          0,
          18,
          0,
          0,
          0,
          20,
          0,
          10,
          10,
          15,
          0,
          0,
          20,
          1,
          0,
          0,
          0,
          15,
          0,
          0,
          0,
          0,
          0,
          0,
          0,
          0,
          0,
          10,
          40,
          0,
          0,
          10,
          0,
          10,
          0,
          10,
          5,
          0,
          0,
          0,
          0,
          0,
          0,
          0,
          20,
          0,
          0,
          0,
          15,
          0,
          20,
          20,
          0,
          0,
          0,
          0,
          35,
          0,
          0,
          0,
          0,
          0,
          0,
          0,
          0,
          20,
          20,
          0,
          0,
          0,
          5,
          0,
          0,
          0,
          0,
          0,
          0,
          0,
          10,
          2,
          0,
          0,
          0,
          0,
          0,
          0,
          18,
          0,
          0,
          15,
          0,
          0,
          0,
          0,
          20,
          0,
          0,
          0,
          0,
          5,
          0,
          0,
          10,
          0,
          0,
          0,
          0,
          0,
          0,
          0,
          1,
          0,
          0,
          0,
          0,
          0,
          0,
          0,
          0,
          0,
          0,
          0,
          0,
          0,
          20,
          0,
          0,
          0,
          8,
          0,
          0,
          6,
          0,
          0,
          0,
          0,
          0,
          0,
          20,
          0,
          0,
          0,
          0,
          5,
          0,
          0,
          40,
          0,
          0,
          0,
          0,
          0,
          0,
          0,
          6,
          0,
          0,
          5,
          30,
          0,
          0,
          0,
          10,
          0,
          0,
          0,
          0,
          0,
          20,
          0,
          0,
          0,
          15,
          0,
          5,
          20,
          35,
          0,
          0,
          0,
          0,
          0,
          0,
          0,
          0,
          0,
          0,
          0,
          0,
          20,
          0,
          20,
          0,
          0,
          0,
          0,
          0,
          0,
          0,
          0,
          20,
          0,
          0,
          0,
          0,
          0,
          0,
          0,
          0,
          0,
          0,
          0,
          0,
          0,
          0,
          30,
          20,
          0,
          30,
          0,
          0,
          0,
          0,
          0,
          0,
          15,
          0,
          0,
          0,
          0,
          0,
          0,
          0,
          0,
          15,
          25,
          0,
          0,
          0,
          0,
          0,
          0,
          0,
          0,
          0,
          20,
          20,
          0,
          3,
          0,
          0,
          20,
          0,
          0,
          0,
          0,
          0,
          20,
          0,
          0,
          18,
          0,
          0,
          0,
          0,
          0,
          0,
          0,
          15,
          0,
          0,
          0,
          0,
          0,
          0,
          0,
          0,
          0,
          0,
          0,
          0,
          15,
          0,
          0,
          0,
          0,
          0,
          0,
          0,
          0,
          1,
          0,
          0,
          25,
          0,
          0,
          0,
          30,
          20,
          0,
          6,
          0,
          0,
          0,
          20,
          0,
          30,
          0,
          0,
          0,
          0,
          0,
          0,
          10,
          0,
          20,
          0,
          0,
          0,
          0,
          0,
          0,
          0,
          0,
          0,
          0,
          0,
          0,
          0,
          0,
          0,
          0,
          0,
          0,
          3,
          0,
          0,
          0,
          0,
          0,
          15,
          0,
          20,
          0,
          0,
          25,
          0,
          0,
          0,
          0,
          0,
          1,
          0,
          0,
          0,
          10,
          0,
          8,
          0,
          10,
          7,
          0,
          0,
          0,
          10,
          30,
          0,
          25,
          10,
          10,
          0,
          0,
          0,
          0,
          20,
          0,
          3,
          0,
          0,
          10,
          0,
          0,
          0,
          6,
          0,
          0,
          0,
          0,
          0,
          0,
          5,
          0,
          0,
          30,
          0,
          0,
          0,
          0,
          0,
          0,
          0,
          0,
          5,
          0,
          0,
          0,
          10,
          0,
          0,
          0,
          0,
          0,
          0,
          0,
          0,
          5,
          0,
          0,
          0,
          0,
          0,
          0,
          0,
          0,
          0,
          0,
          0,
          0,
          0,
          4,
          0,
          0,
          0,
          0,
          0,
          10,
          0,
          0,
          0,
          0,
          0,
          16,
          15,
          0,
          7,
          20,
          0,
          15,
          0,
          0,
          15,
          0,
          0,
          10,
          0,
          5,
          0,
          0,
          0,
          0,
          3,
          0,
          0,
          0,
          0,
          20,
          0,
          0,
          0,
          0,
          0,
          0,
          0,
          0,
          0,
          2,
          0,
          0,
          25,
          25,
          15,
          0,
          0,
          20,
          0,
          0,
          0,
          0,
          0,
          15,
          5,
          0,
          0,
          10,
          0,
          0,
          0,
          15,
          0,
          0,
          0,
          10,
          0,
          20,
          0,
          0,
          0,
          20,
          20,
          0,
          0,
          7,
          0,
          0,
          0,
          0,
          0,
          10,
          0,
          0,
          0,
          0,
          0,
          0,
          0,
          0,
          20,
          0,
          0,
          0,
          0,
          2,
          0,
          0,
          0,
          0,
          10,
          0,
          0,
          0,
          0,
          15,
          0,
          0,
          0,
          20,
          0,
          10,
          0,
          0,
          20,
          0,
          0,
          0,
          0,
          10,
          0,
          0,
          0,
          0,
          0,
          0,
          0,
          0,
          0,
          0,
          0,
          0,
          0,
          0,
          5,
          20,
          0,
          0,
          0,
          0,
          20,
          0,
          0,
          0,
          0,
          0,
          30,
          30,
          40,
          0,
          0,
          0,
          0,
          0,
          0,
          0,
          20,
          5,
          0,
          20,
          0,
          0,
          0,
          0,
          0,
          0,
          0,
          10,
          10,
          5,
          10,
          0,
          0,
          15,
          0,
          0,
          10,
          0,
          0,
          12,
          0,
          40,
          0,
          0,
          0,
          0,
          10,
          0,
          0,
          0,
          0,
          0,
          0,
          0,
          0,
          0,
          20,
          0,
          0,
          0,
          0,
          0,
          0,
          5,
          15,
          60,
          0,
          0,
          0,
          0,
          20,
          20,
          0,
          0,
          0,
          0,
          0,
          0,
          0,
          30,
          0,
          0,
          5,
          0,
          0,
          0,
          10,
          40,
          0,
          0,
          0,
          0,
          0,
          12,
          0,
          0,
          0,
          20,
          20,
          35,
          0,
          0,
          10,
          5,
          0,
          0,
          0,
          15,
          0,
          0,
          0,
          0,
          10,
          0,
          0,
          0,
          0,
          0,
          0,
          0,
          0,
          0,
          15,
          10,
          0,
          0,
          20,
          0,
          25,
          0,
          0,
          0,
          0,
          0,
          0,
          0,
          0,
          0,
          0,
          0,
          0,
          0,
          0,
          0,
          0,
          12,
          30,
          0,
          0,
          0,
          15,
          0,
          0,
          0,
          0,
          0,
          0,
          0,
          10,
          0,
          0,
          0,
          0,
          0,
          0,
          20,
          0,
          7,
          0,
          0,
          0,
          25,
          0,
          8,
          20,
          0,
          15,
          5,
          30,
          0,
          0,
          25,
          0,
          0,
          15,
          0,
          10,
          0,
          0,
          0,
          0,
          0,
          0,
          0,
          0,
          0,
          0,
          0,
          10,
          0,
          0,
          0,
          0,
          5,
          3,
          0,
          0,
          0,
          0,
          10,
          0,
          0,
          20,
          0,
          0,
          0,
          0,
          0,
          0,
          0,
          0,
          0,
          0,
          10,
          40,
          30,
          0,
          0,
          0,
          0,
          0,
          0,
          0,
          20,
          0,
          0,
          0,
          20,
          0,
          0,
          0,
          0,
          0,
          0,
          0,
          0,
          30,
          0,
          0,
          0,
          0,
          0,
          40,
          0,
          0,
          0,
          0,
          0,
          0,
          0,
          4,
          0,
          0,
          0,
          0,
          15,
          0,
          0,
          0,
          12,
          0,
          0,
          0,
          0,
          25,
          0,
          0,
          0,
          0,
          0,
          0,
          0,
          0,
          0,
          20,
          0,
          15,
          10,
          0,
          20,
          20,
          0,
          0,
          0,
          1,
          0,
          0,
          0,
          0,
          20,
          0,
          0,
          0,
          0,
          20,
          0,
          0,
          0,
          25,
          10,
          25,
          0,
          5,
          0,
          20,
          0,
          0,
          0,
          0,
          0,
          30,
          0,
          10,
          0,
          20,
          12,
          0,
          20,
          20,
          0,
          20,
          20,
          50,
          0,
          6,
          0,
          0,
          0,
          0,
          0,
          12,
          0,
          4,
          0,
          0,
          0,
          20,
          0,
          0,
          0,
          0,
          30,
          0,
          0,
          0,
          0,
          0,
          0,
          0,
          0,
          0,
          20,
          0,
          0,
          0,
          0,
          15,
          10,
          0,
          5,
          30,
          20,
          0,
          0,
          0,
          0,
          0,
          0,
          15,
          0,
          0,
          0,
          0,
          5,
          0,
          0,
          0,
          0,
          0,
          0,
          0,
          0,
          0,
          0,
          0,
          25,
          0,
          0,
          0,
          0,
          0,
          10,
          0,
          0,
          0,
          40,
          0,
          0,
          0,
          20,
          0,
          20,
          5,
          0,
          0,
          15,
          0,
          0,
          0,
          20,
          0,
          0,
          0,
          20,
          0,
          0,
          10,
          5,
          5,
          20,
          0,
          25,
          0,
          10,
          0,
          15,
          0,
          15,
          0,
          0,
          0,
          0,
          20,
          0,
          0,
          0,
          0,
          0,
          15,
          20,
          0,
          0,
          0,
          0,
          0,
          0,
          2,
          0,
          0,
          0,
          0,
          0,
          0,
          12,
          0,
          0,
          0,
          0,
          0,
          0,
          30,
          0,
          0,
          0,
          0,
          0,
          10,
          0,
          0,
          0,
          24,
          0,
          0,
          20,
          15,
          30,
          15,
          0,
          0,
          45,
          20,
          0,
          0,
          0,
          15,
          0,
          1,
          0,
          20,
          0,
          0,
          0,
          20,
          10,
          15,
          0,
          0,
          0,
          0,
          0,
          0,
          0,
          20,
          10,
          0,
          0,
          20,
          0,
          40,
          0,
          0,
          0,
          0,
          0,
          25,
          20,
          0,
          0,
          20,
          0,
          15,
          0,
          15,
          25,
          0,
          0,
          0,
          0,
          0,
          0,
          0,
          10,
          60,
          0,
          5,
          35,
          0,
          0,
          0,
          18,
          0,
          0,
          25,
          20,
          20,
          0,
          0,
          20,
          0,
          0,
          0,
          0,
          0,
          15,
          0,
          0,
          3,
          0,
          0,
          0,
          20,
          0,
          20,
          0
         ],
         "xaxis": "x",
         "yaxis": "y"
        }
       ],
       "layout": {
        "barmode": "relative",
        "legend": {
         "tracegroupgap": 0
        },
        "template": {
         "data": {
          "bar": [
           {
            "error_x": {
             "color": "#2a3f5f"
            },
            "error_y": {
             "color": "#2a3f5f"
            },
            "marker": {
             "line": {
              "color": "#E5ECF6",
              "width": 0.5
             },
             "pattern": {
              "fillmode": "overlay",
              "size": 10,
              "solidity": 0.2
             }
            },
            "type": "bar"
           }
          ],
          "barpolar": [
           {
            "marker": {
             "line": {
              "color": "#E5ECF6",
              "width": 0.5
             },
             "pattern": {
              "fillmode": "overlay",
              "size": 10,
              "solidity": 0.2
             }
            },
            "type": "barpolar"
           }
          ],
          "carpet": [
           {
            "aaxis": {
             "endlinecolor": "#2a3f5f",
             "gridcolor": "white",
             "linecolor": "white",
             "minorgridcolor": "white",
             "startlinecolor": "#2a3f5f"
            },
            "baxis": {
             "endlinecolor": "#2a3f5f",
             "gridcolor": "white",
             "linecolor": "white",
             "minorgridcolor": "white",
             "startlinecolor": "#2a3f5f"
            },
            "type": "carpet"
           }
          ],
          "choropleth": [
           {
            "colorbar": {
             "outlinewidth": 0,
             "ticks": ""
            },
            "type": "choropleth"
           }
          ],
          "contour": [
           {
            "colorbar": {
             "outlinewidth": 0,
             "ticks": ""
            },
            "colorscale": [
             [
              0,
              "#0d0887"
             ],
             [
              0.1111111111111111,
              "#46039f"
             ],
             [
              0.2222222222222222,
              "#7201a8"
             ],
             [
              0.3333333333333333,
              "#9c179e"
             ],
             [
              0.4444444444444444,
              "#bd3786"
             ],
             [
              0.5555555555555556,
              "#d8576b"
             ],
             [
              0.6666666666666666,
              "#ed7953"
             ],
             [
              0.7777777777777778,
              "#fb9f3a"
             ],
             [
              0.8888888888888888,
              "#fdca26"
             ],
             [
              1,
              "#f0f921"
             ]
            ],
            "type": "contour"
           }
          ],
          "contourcarpet": [
           {
            "colorbar": {
             "outlinewidth": 0,
             "ticks": ""
            },
            "type": "contourcarpet"
           }
          ],
          "heatmap": [
           {
            "colorbar": {
             "outlinewidth": 0,
             "ticks": ""
            },
            "colorscale": [
             [
              0,
              "#0d0887"
             ],
             [
              0.1111111111111111,
              "#46039f"
             ],
             [
              0.2222222222222222,
              "#7201a8"
             ],
             [
              0.3333333333333333,
              "#9c179e"
             ],
             [
              0.4444444444444444,
              "#bd3786"
             ],
             [
              0.5555555555555556,
              "#d8576b"
             ],
             [
              0.6666666666666666,
              "#ed7953"
             ],
             [
              0.7777777777777778,
              "#fb9f3a"
             ],
             [
              0.8888888888888888,
              "#fdca26"
             ],
             [
              1,
              "#f0f921"
             ]
            ],
            "type": "heatmap"
           }
          ],
          "heatmapgl": [
           {
            "colorbar": {
             "outlinewidth": 0,
             "ticks": ""
            },
            "colorscale": [
             [
              0,
              "#0d0887"
             ],
             [
              0.1111111111111111,
              "#46039f"
             ],
             [
              0.2222222222222222,
              "#7201a8"
             ],
             [
              0.3333333333333333,
              "#9c179e"
             ],
             [
              0.4444444444444444,
              "#bd3786"
             ],
             [
              0.5555555555555556,
              "#d8576b"
             ],
             [
              0.6666666666666666,
              "#ed7953"
             ],
             [
              0.7777777777777778,
              "#fb9f3a"
             ],
             [
              0.8888888888888888,
              "#fdca26"
             ],
             [
              1,
              "#f0f921"
             ]
            ],
            "type": "heatmapgl"
           }
          ],
          "histogram": [
           {
            "marker": {
             "pattern": {
              "fillmode": "overlay",
              "size": 10,
              "solidity": 0.2
             }
            },
            "type": "histogram"
           }
          ],
          "histogram2d": [
           {
            "colorbar": {
             "outlinewidth": 0,
             "ticks": ""
            },
            "colorscale": [
             [
              0,
              "#0d0887"
             ],
             [
              0.1111111111111111,
              "#46039f"
             ],
             [
              0.2222222222222222,
              "#7201a8"
             ],
             [
              0.3333333333333333,
              "#9c179e"
             ],
             [
              0.4444444444444444,
              "#bd3786"
             ],
             [
              0.5555555555555556,
              "#d8576b"
             ],
             [
              0.6666666666666666,
              "#ed7953"
             ],
             [
              0.7777777777777778,
              "#fb9f3a"
             ],
             [
              0.8888888888888888,
              "#fdca26"
             ],
             [
              1,
              "#f0f921"
             ]
            ],
            "type": "histogram2d"
           }
          ],
          "histogram2dcontour": [
           {
            "colorbar": {
             "outlinewidth": 0,
             "ticks": ""
            },
            "colorscale": [
             [
              0,
              "#0d0887"
             ],
             [
              0.1111111111111111,
              "#46039f"
             ],
             [
              0.2222222222222222,
              "#7201a8"
             ],
             [
              0.3333333333333333,
              "#9c179e"
             ],
             [
              0.4444444444444444,
              "#bd3786"
             ],
             [
              0.5555555555555556,
              "#d8576b"
             ],
             [
              0.6666666666666666,
              "#ed7953"
             ],
             [
              0.7777777777777778,
              "#fb9f3a"
             ],
             [
              0.8888888888888888,
              "#fdca26"
             ],
             [
              1,
              "#f0f921"
             ]
            ],
            "type": "histogram2dcontour"
           }
          ],
          "mesh3d": [
           {
            "colorbar": {
             "outlinewidth": 0,
             "ticks": ""
            },
            "type": "mesh3d"
           }
          ],
          "parcoords": [
           {
            "line": {
             "colorbar": {
              "outlinewidth": 0,
              "ticks": ""
             }
            },
            "type": "parcoords"
           }
          ],
          "pie": [
           {
            "automargin": true,
            "type": "pie"
           }
          ],
          "scatter": [
           {
            "fillpattern": {
             "fillmode": "overlay",
             "size": 10,
             "solidity": 0.2
            },
            "type": "scatter"
           }
          ],
          "scatter3d": [
           {
            "line": {
             "colorbar": {
              "outlinewidth": 0,
              "ticks": ""
             }
            },
            "marker": {
             "colorbar": {
              "outlinewidth": 0,
              "ticks": ""
             }
            },
            "type": "scatter3d"
           }
          ],
          "scattercarpet": [
           {
            "marker": {
             "colorbar": {
              "outlinewidth": 0,
              "ticks": ""
             }
            },
            "type": "scattercarpet"
           }
          ],
          "scattergeo": [
           {
            "marker": {
             "colorbar": {
              "outlinewidth": 0,
              "ticks": ""
             }
            },
            "type": "scattergeo"
           }
          ],
          "scattergl": [
           {
            "marker": {
             "colorbar": {
              "outlinewidth": 0,
              "ticks": ""
             }
            },
            "type": "scattergl"
           }
          ],
          "scattermapbox": [
           {
            "marker": {
             "colorbar": {
              "outlinewidth": 0,
              "ticks": ""
             }
            },
            "type": "scattermapbox"
           }
          ],
          "scatterpolar": [
           {
            "marker": {
             "colorbar": {
              "outlinewidth": 0,
              "ticks": ""
             }
            },
            "type": "scatterpolar"
           }
          ],
          "scatterpolargl": [
           {
            "marker": {
             "colorbar": {
              "outlinewidth": 0,
              "ticks": ""
             }
            },
            "type": "scatterpolargl"
           }
          ],
          "scatterternary": [
           {
            "marker": {
             "colorbar": {
              "outlinewidth": 0,
              "ticks": ""
             }
            },
            "type": "scatterternary"
           }
          ],
          "surface": [
           {
            "colorbar": {
             "outlinewidth": 0,
             "ticks": ""
            },
            "colorscale": [
             [
              0,
              "#0d0887"
             ],
             [
              0.1111111111111111,
              "#46039f"
             ],
             [
              0.2222222222222222,
              "#7201a8"
             ],
             [
              0.3333333333333333,
              "#9c179e"
             ],
             [
              0.4444444444444444,
              "#bd3786"
             ],
             [
              0.5555555555555556,
              "#d8576b"
             ],
             [
              0.6666666666666666,
              "#ed7953"
             ],
             [
              0.7777777777777778,
              "#fb9f3a"
             ],
             [
              0.8888888888888888,
              "#fdca26"
             ],
             [
              1,
              "#f0f921"
             ]
            ],
            "type": "surface"
           }
          ],
          "table": [
           {
            "cells": {
             "fill": {
              "color": "#EBF0F8"
             },
             "line": {
              "color": "white"
             }
            },
            "header": {
             "fill": {
              "color": "#C8D4E3"
             },
             "line": {
              "color": "white"
             }
            },
            "type": "table"
           }
          ]
         },
         "layout": {
          "annotationdefaults": {
           "arrowcolor": "#2a3f5f",
           "arrowhead": 0,
           "arrowwidth": 1
          },
          "autotypenumbers": "strict",
          "coloraxis": {
           "colorbar": {
            "outlinewidth": 0,
            "ticks": ""
           }
          },
          "colorscale": {
           "diverging": [
            [
             0,
             "#8e0152"
            ],
            [
             0.1,
             "#c51b7d"
            ],
            [
             0.2,
             "#de77ae"
            ],
            [
             0.3,
             "#f1b6da"
            ],
            [
             0.4,
             "#fde0ef"
            ],
            [
             0.5,
             "#f7f7f7"
            ],
            [
             0.6,
             "#e6f5d0"
            ],
            [
             0.7,
             "#b8e186"
            ],
            [
             0.8,
             "#7fbc41"
            ],
            [
             0.9,
             "#4d9221"
            ],
            [
             1,
             "#276419"
            ]
           ],
           "sequential": [
            [
             0,
             "#0d0887"
            ],
            [
             0.1111111111111111,
             "#46039f"
            ],
            [
             0.2222222222222222,
             "#7201a8"
            ],
            [
             0.3333333333333333,
             "#9c179e"
            ],
            [
             0.4444444444444444,
             "#bd3786"
            ],
            [
             0.5555555555555556,
             "#d8576b"
            ],
            [
             0.6666666666666666,
             "#ed7953"
            ],
            [
             0.7777777777777778,
             "#fb9f3a"
            ],
            [
             0.8888888888888888,
             "#fdca26"
            ],
            [
             1,
             "#f0f921"
            ]
           ],
           "sequentialminus": [
            [
             0,
             "#0d0887"
            ],
            [
             0.1111111111111111,
             "#46039f"
            ],
            [
             0.2222222222222222,
             "#7201a8"
            ],
            [
             0.3333333333333333,
             "#9c179e"
            ],
            [
             0.4444444444444444,
             "#bd3786"
            ],
            [
             0.5555555555555556,
             "#d8576b"
            ],
            [
             0.6666666666666666,
             "#ed7953"
            ],
            [
             0.7777777777777778,
             "#fb9f3a"
            ],
            [
             0.8888888888888888,
             "#fdca26"
            ],
            [
             1,
             "#f0f921"
            ]
           ]
          },
          "colorway": [
           "#636efa",
           "#EF553B",
           "#00cc96",
           "#ab63fa",
           "#FFA15A",
           "#19d3f3",
           "#FF6692",
           "#B6E880",
           "#FF97FF",
           "#FECB52"
          ],
          "font": {
           "color": "#2a3f5f"
          },
          "geo": {
           "bgcolor": "white",
           "lakecolor": "white",
           "landcolor": "#E5ECF6",
           "showlakes": true,
           "showland": true,
           "subunitcolor": "white"
          },
          "hoverlabel": {
           "align": "left"
          },
          "hovermode": "closest",
          "mapbox": {
           "style": "light"
          },
          "paper_bgcolor": "white",
          "plot_bgcolor": "#E5ECF6",
          "polar": {
           "angularaxis": {
            "gridcolor": "white",
            "linecolor": "white",
            "ticks": ""
           },
           "bgcolor": "#E5ECF6",
           "radialaxis": {
            "gridcolor": "white",
            "linecolor": "white",
            "ticks": ""
           }
          },
          "scene": {
           "xaxis": {
            "backgroundcolor": "#E5ECF6",
            "gridcolor": "white",
            "gridwidth": 2,
            "linecolor": "white",
            "showbackground": true,
            "ticks": "",
            "zerolinecolor": "white"
           },
           "yaxis": {
            "backgroundcolor": "#E5ECF6",
            "gridcolor": "white",
            "gridwidth": 2,
            "linecolor": "white",
            "showbackground": true,
            "ticks": "",
            "zerolinecolor": "white"
           },
           "zaxis": {
            "backgroundcolor": "#E5ECF6",
            "gridcolor": "white",
            "gridwidth": 2,
            "linecolor": "white",
            "showbackground": true,
            "ticks": "",
            "zerolinecolor": "white"
           }
          },
          "shapedefaults": {
           "line": {
            "color": "#2a3f5f"
           }
          },
          "ternary": {
           "aaxis": {
            "gridcolor": "white",
            "linecolor": "white",
            "ticks": ""
           },
           "baxis": {
            "gridcolor": "white",
            "linecolor": "white",
            "ticks": ""
           },
           "bgcolor": "#E5ECF6",
           "caxis": {
            "gridcolor": "white",
            "linecolor": "white",
            "ticks": ""
           }
          },
          "title": {
           "x": 0.05
          },
          "xaxis": {
           "automargin": true,
           "gridcolor": "white",
           "linecolor": "white",
           "ticks": "",
           "title": {
            "standoff": 15
           },
           "zerolinecolor": "white",
           "zerolinewidth": 2
          },
          "yaxis": {
           "automargin": true,
           "gridcolor": "white",
           "linecolor": "white",
           "ticks": "",
           "title": {
            "standoff": 15
           },
           "zerolinecolor": "white",
           "zerolinewidth": 2
          }
         }
        },
        "title": {
         "text": "Amount consumed over weekends Distribution"
        },
        "xaxis": {
         "anchor": "y",
         "domain": [
          0,
          1
         ],
         "title": {
          "text": "amt_weekends"
         }
        },
        "yaxis": {
         "anchor": "x",
         "domain": [
          0,
          1
         ],
         "title": {
          "text": "count"
         }
        }
       }
      },
      "text/html": [
       "<div>                        <script type=\"text/javascript\">window.PlotlyConfig = {MathJaxConfig: 'local'};</script>\n",
       "        <script charset=\"utf-8\" src=\"https://cdn.plot.ly/plotly-2.35.2.min.js\"></script>                <div id=\"d109899d-e769-49df-9965-4ac26c12b84c\" class=\"plotly-graph-div\" style=\"height:100%; width:100%;\"></div>            <script type=\"text/javascript\">                                    window.PLOTLYENV=window.PLOTLYENV || {};                                    if (document.getElementById(\"d109899d-e769-49df-9965-4ac26c12b84c\")) {                    Plotly.newPlot(                        \"d109899d-e769-49df-9965-4ac26c12b84c\",                        [{\"alignmentgroup\":\"True\",\"bingroup\":\"x\",\"hovertemplate\":\"amt_weekends=%{x}\\u003cbr\\u003ecount=%{y}\\u003cextra\\u003e\\u003c\\u002fextra\\u003e\",\"legendgroup\":\"\",\"marker\":{\"color\":\"orange\",\"pattern\":{\"shape\":\"\"}},\"name\":\"\",\"offsetgroup\":\"\",\"orientation\":\"v\",\"showlegend\":false,\"x\":[0.0,12.0,0.0,0.0,0.0,0.0,6.0,0.0,8.0,15.0,0.0,0.0,0.0,0.0,0.0,0.0,0.0,0.0,0.0,0.0,6.0,5.0,20.0,0.0,0.0,0.0,25.0,0.0,0.0,0.0,40.0,15.0,0.0,0.0,0.0,0.0,0.0,20.0,0.0,0.0,0.0,0.0,0.0,0.0,0.0,0.0,0.0,6.0,0.0,25.0,4.0,0.0,0.0,0.0,20.0,0.0,0.0,0.0,0.0,0.0,0.0,0.0,0.0,20.0,0.0,20.0,0.0,0.0,5.0,0.0,20.0,0.0,0.0,30.0,0.0,20.0,20.0,0.0,0.0,10.0,0.0,0.0,20.0,0.0,10.0,0.0,0.0,0.0,0.0,0.0,0.0,0.0,0.0,0.0,0.0,0.0,15.0,0.0,0.0,0.0,0.0,0.0,0.0,0.0,0.0,10.0,0.0,0.0,0.0,0.0,0.0,0.0,0.0,0.0,7.0,25.0,40.0,12.0,0.0,0.0,0.0,0.0,20.0,0.0,15.0,0.0,25.0,30.0,0.0,0.0,20.0,8.0,15.0,15.0,0.0,0.0,0.0,0.0,40.0,0.0,0.0,0.0,0.0,20.0,0.0,15.0,0.0,0.0,0.0,0.0,30.0,15.0,0.0,0.0,20.0,0.0,0.0,0.0,0.0,0.0,0.0,0.0,0.0,0.0,9.0,0.0,0.0,0.0,0.0,0.0,30.0,0.0,15.0,0.0,7.0,0.0,2.0,0.0,0.0,0.0,0.0,0.0,0.0,0.0,0.0,0.0,0.0,0.0,0.0,0.0,0.0,0.0,40.0,20.0,0.0,0.0,30.0,0.0,0.0,0.0,0.0,0.0,0.0,20.0,20.0,2.0,0.0,12.0,0.0,0.0,0.0,0.0,0.0,25.0,0.0,0.0,0.0,10.0,0.0,0.0,0.0,0.0,0.0,0.0,0.0,0.0,12.0,0.0,0.0,0.0,0.0,15.0,0.0,0.0,50.0,0.0,0.0,0.0,10.0,10.0,0.0,0.0,0.0,0.0,5.0,0.0,0.0,0.0,0.0,6.0,16.0,0.0,0.0,0.0,15.0,0.0,0.0,0.0,10.0,0.0,5.0,0.0,0.0,0.0,0.0,20.0,0.0,40.0,8.0,20.0,0.0,0.0,5.0,5.0,0.0,10.0,0.0,35.0,0.0,0.0,0.0,0.0,10.0,0.0,0.0,0.0,0.0,0.0,40.0,0.0,7.0,0.0,10.0,0.0,20.0,0.0,0.0,0.0,8.0,0.0,0.0,0.0,0.0,0.0,0.0,15.0,20.0,0.0,0.0,0.0,0.0,0.0,0.0,0.0,15.0,0.0,0.0,0.0,0.0,0.0,10.0,20.0,0.0,0.0,0.0,0.0,0.0,15.0,0.0,0.0,0.0,0.0,0.0,0.0,0.0,0.0,0.0,0.0,0.0,0.0,0.0,0.0,0.0,0.0,0.0,0.0,20.0,0.0,0.0,0.0,10.0,0.0,10.0,0.0,10.0,0.0,0.0,12.0,0.0,0.0,10.0,0.0,0.0,0.0,0.0,0.0,0.0,20.0,0.0,0.0,0.0,0.0,0.0,0.0,0.0,0.0,0.0,0.0,0.0,0.0,0.0,0.0,0.0,0.0,0.0,0.0,0.0,25.0,20.0,0.0,10.0,0.0,0.0,0.0,0.0,0.0,0.0,0.0,0.0,0.0,0.0,0.0,0.0,0.0,0.0,0.0,0.0,30.0,0.0,0.0,0.0,0.0,0.0,0.0,0.0,0.0,0.0,0.0,0.0,0.0,15.0,0.0,15.0,0.0,30.0,0.0,0.0,0.0,0.0,15.0,0.0,0.0,0.0,0.0,0.0,0.0,0.0,0.0,0.0,0.0,0.0,0.0,15.0,0.0,0.0,0.0,0.0,0.0,0.0,0.0,0.0,0.0,0.0,0.0,0.0,0.0,10.0,20.0,0.0,0.0,0.0,0.0,0.0,0.0,0.0,0.0,25.0,0.0,0.0,0.0,0.0,0.0,0.0,0.0,0.0,0.0,0.0,0.0,0.0,6.0,0.0,0.0,2.0,0.0,12.0,0.0,0.0,0.0,30.0,0.0,0.0,0.0,10.0,0.0,10.0,0.0,0.0,0.0,0.0,0.0,0.0,0.0,0.0,0.0,0.0,0.0,0.0,0.0,7.0,0.0,20.0,0.0,20.0,20.0,0.0,0.0,15.0,0.0,0.0,0.0,0.0,18.0,0.0,0.0,0.0,20.0,0.0,10.0,10.0,15.0,0.0,0.0,20.0,1.0,0.0,0.0,0.0,15.0,0.0,0.0,0.0,0.0,0.0,0.0,0.0,0.0,0.0,10.0,40.0,0.0,0.0,10.0,0.0,10.0,0.0,10.0,5.0,0.0,0.0,0.0,0.0,0.0,0.0,0.0,20.0,0.0,0.0,0.0,15.0,0.0,20.0,20.0,0.0,0.0,0.0,0.0,35.0,0.0,0.0,0.0,0.0,0.0,0.0,0.0,0.0,20.0,20.0,0.0,0.0,0.0,5.0,0.0,0.0,0.0,0.0,0.0,0.0,0.0,10.0,2.0,0.0,0.0,0.0,0.0,0.0,0.0,18.0,0.0,0.0,15.0,0.0,0.0,0.0,0.0,20.0,0.0,0.0,0.0,0.0,5.0,0.0,0.0,10.0,0.0,0.0,0.0,0.0,0.0,0.0,0.0,1.0,0.0,0.0,0.0,0.0,0.0,0.0,0.0,0.0,0.0,0.0,0.0,0.0,0.0,20.0,0.0,0.0,0.0,8.0,0.0,0.0,6.0,0.0,0.0,0.0,0.0,0.0,0.0,20.0,0.0,0.0,0.0,0.0,5.0,0.0,0.0,40.0,0.0,0.0,0.0,0.0,0.0,0.0,0.0,6.0,0.0,0.0,5.0,30.0,0.0,0.0,0.0,10.0,0.0,0.0,0.0,0.0,0.0,20.0,0.0,0.0,0.0,15.0,0.0,5.0,20.0,35.0,0.0,0.0,0.0,0.0,0.0,0.0,0.0,0.0,0.0,0.0,0.0,0.0,20.0,0.0,20.0,0.0,0.0,0.0,0.0,0.0,0.0,0.0,0.0,20.0,0.0,0.0,0.0,0.0,0.0,0.0,0.0,0.0,0.0,0.0,0.0,0.0,0.0,0.0,30.0,20.0,0.0,30.0,0.0,0.0,0.0,0.0,0.0,0.0,15.0,0.0,0.0,0.0,0.0,0.0,0.0,0.0,0.0,15.0,25.0,0.0,0.0,0.0,0.0,0.0,0.0,0.0,0.0,0.0,20.0,20.0,0.0,3.0,0.0,0.0,20.0,0.0,0.0,0.0,0.0,0.0,20.0,0.0,0.0,18.0,0.0,0.0,0.0,0.0,0.0,0.0,0.0,15.0,0.0,0.0,0.0,0.0,0.0,0.0,0.0,0.0,0.0,0.0,0.0,0.0,15.0,0.0,0.0,0.0,0.0,0.0,0.0,0.0,0.0,1.0,0.0,0.0,25.0,0.0,0.0,0.0,30.0,20.0,0.0,6.0,0.0,0.0,0.0,20.0,0.0,30.0,0.0,0.0,0.0,0.0,0.0,0.0,10.0,0.0,20.0,0.0,0.0,0.0,0.0,0.0,0.0,0.0,0.0,0.0,0.0,0.0,0.0,0.0,0.0,0.0,0.0,0.0,0.0,3.0,0.0,0.0,0.0,0.0,0.0,15.0,0.0,20.0,0.0,0.0,25.0,0.0,0.0,0.0,0.0,0.0,1.0,0.0,0.0,0.0,10.0,0.0,8.0,0.0,10.0,7.0,0.0,0.0,0.0,10.0,30.0,0.0,25.0,10.0,10.0,0.0,0.0,0.0,0.0,20.0,0.0,3.0,0.0,0.0,10.0,0.0,0.0,0.0,6.0,0.0,0.0,0.0,0.0,0.0,0.0,5.0,0.0,0.0,30.0,0.0,0.0,0.0,0.0,0.0,0.0,0.0,0.0,5.0,0.0,0.0,0.0,10.0,0.0,0.0,0.0,0.0,0.0,0.0,0.0,0.0,5.0,0.0,0.0,0.0,0.0,0.0,0.0,0.0,0.0,0.0,0.0,0.0,0.0,0.0,4.0,0.0,0.0,0.0,0.0,0.0,10.0,0.0,0.0,0.0,0.0,0.0,16.0,15.0,0.0,7.0,20.0,0.0,15.0,0.0,0.0,15.0,0.0,0.0,10.0,0.0,5.0,0.0,0.0,0.0,0.0,3.0,0.0,0.0,0.0,0.0,20.0,0.0,0.0,0.0,0.0,0.0,0.0,0.0,0.0,0.0,2.0,0.0,0.0,25.0,25.0,15.0,0.0,0.0,20.0,0.0,0.0,0.0,0.0,0.0,15.0,5.0,0.0,0.0,10.0,0.0,0.0,0.0,15.0,0.0,0.0,0.0,10.0,0.0,20.0,0.0,0.0,0.0,20.0,20.0,0.0,0.0,7.0,0.0,0.0,0.0,0.0,0.0,10.0,0.0,0.0,0.0,0.0,0.0,0.0,0.0,0.0,20.0,0.0,0.0,0.0,0.0,2.0,0.0,0.0,0.0,0.0,10.0,0.0,0.0,0.0,0.0,15.0,0.0,0.0,0.0,20.0,0.0,10.0,0.0,0.0,20.0,0.0,0.0,0.0,0.0,10.0,0.0,0.0,0.0,0.0,0.0,0.0,0.0,0.0,0.0,0.0,0.0,0.0,0.0,0.0,5.0,20.0,0.0,0.0,0.0,0.0,20.0,0.0,0.0,0.0,0.0,0.0,30.0,30.0,40.0,0.0,0.0,0.0,0.0,0.0,0.0,0.0,20.0,5.0,0.0,20.0,0.0,0.0,0.0,0.0,0.0,0.0,0.0,10.0,10.0,5.0,10.0,0.0,0.0,15.0,0.0,0.0,10.0,0.0,0.0,12.0,0.0,40.0,0.0,0.0,0.0,0.0,10.0,0.0,0.0,0.0,0.0,0.0,0.0,0.0,0.0,0.0,20.0,0.0,0.0,0.0,0.0,0.0,0.0,5.0,15.0,60.0,0.0,0.0,0.0,0.0,20.0,20.0,0.0,0.0,0.0,0.0,0.0,0.0,0.0,30.0,0.0,0.0,5.0,0.0,0.0,0.0,10.0,40.0,0.0,0.0,0.0,0.0,0.0,12.0,0.0,0.0,0.0,20.0,20.0,35.0,0.0,0.0,10.0,5.0,0.0,0.0,0.0,15.0,0.0,0.0,0.0,0.0,10.0,0.0,0.0,0.0,0.0,0.0,0.0,0.0,0.0,0.0,15.0,10.0,0.0,0.0,20.0,0.0,25.0,0.0,0.0,0.0,0.0,0.0,0.0,0.0,0.0,0.0,0.0,0.0,0.0,0.0,0.0,0.0,0.0,12.0,30.0,0.0,0.0,0.0,15.0,0.0,0.0,0.0,0.0,0.0,0.0,0.0,10.0,0.0,0.0,0.0,0.0,0.0,0.0,20.0,0.0,7.0,0.0,0.0,0.0,25.0,0.0,8.0,20.0,0.0,15.0,5.0,30.0,0.0,0.0,25.0,0.0,0.0,15.0,0.0,10.0,0.0,0.0,0.0,0.0,0.0,0.0,0.0,0.0,0.0,0.0,0.0,10.0,0.0,0.0,0.0,0.0,5.0,3.0,0.0,0.0,0.0,0.0,10.0,0.0,0.0,20.0,0.0,0.0,0.0,0.0,0.0,0.0,0.0,0.0,0.0,0.0,10.0,40.0,30.0,0.0,0.0,0.0,0.0,0.0,0.0,0.0,20.0,0.0,0.0,0.0,20.0,0.0,0.0,0.0,0.0,0.0,0.0,0.0,0.0,30.0,0.0,0.0,0.0,0.0,0.0,40.0,0.0,0.0,0.0,0.0,0.0,0.0,0.0,4.0,0.0,0.0,0.0,0.0,15.0,0.0,0.0,0.0,12.0,0.0,0.0,0.0,0.0,25.0,0.0,0.0,0.0,0.0,0.0,0.0,0.0,0.0,0.0,20.0,0.0,15.0,10.0,0.0,20.0,20.0,0.0,0.0,0.0,1.0,0.0,0.0,0.0,0.0,20.0,0.0,0.0,0.0,0.0,20.0,0.0,0.0,0.0,25.0,10.0,25.0,0.0,5.0,0.0,20.0,0.0,0.0,0.0,0.0,0.0,30.0,0.0,10.0,0.0,20.0,12.0,0.0,20.0,20.0,0.0,20.0,20.0,50.0,0.0,6.0,0.0,0.0,0.0,0.0,0.0,12.0,0.0,4.0,0.0,0.0,0.0,20.0,0.0,0.0,0.0,0.0,30.0,0.0,0.0,0.0,0.0,0.0,0.0,0.0,0.0,0.0,20.0,0.0,0.0,0.0,0.0,15.0,10.0,0.0,5.0,30.0,20.0,0.0,0.0,0.0,0.0,0.0,0.0,15.0,0.0,0.0,0.0,0.0,5.0,0.0,0.0,0.0,0.0,0.0,0.0,0.0,0.0,0.0,0.0,0.0,25.0,0.0,0.0,0.0,0.0,0.0,10.0,0.0,0.0,0.0,40.0,0.0,0.0,0.0,20.0,0.0,20.0,5.0,0.0,0.0,15.0,0.0,0.0,0.0,20.0,0.0,0.0,0.0,20.0,0.0,0.0,10.0,5.0,5.0,20.0,0.0,25.0,0.0,10.0,0.0,15.0,0.0,15.0,0.0,0.0,0.0,0.0,20.0,0.0,0.0,0.0,0.0,0.0,15.0,20.0,0.0,0.0,0.0,0.0,0.0,0.0,2.0,0.0,0.0,0.0,0.0,0.0,0.0,12.0,0.0,0.0,0.0,0.0,0.0,0.0,30.0,0.0,0.0,0.0,0.0,0.0,10.0,0.0,0.0,0.0,24.0,0.0,0.0,20.0,15.0,30.0,15.0,0.0,0.0,45.0,20.0,0.0,0.0,0.0,15.0,0.0,1.0,0.0,20.0,0.0,0.0,0.0,20.0,10.0,15.0,0.0,0.0,0.0,0.0,0.0,0.0,0.0,20.0,10.0,0.0,0.0,20.0,0.0,40.0,0.0,0.0,0.0,0.0,0.0,25.0,20.0,0.0,0.0,20.0,0.0,15.0,0.0,15.0,25.0,0.0,0.0,0.0,0.0,0.0,0.0,0.0,10.0,60.0,0.0,5.0,35.0,0.0,0.0,0.0,18.0,0.0,0.0,25.0,20.0,20.0,0.0,0.0,20.0,0.0,0.0,0.0,0.0,0.0,15.0,0.0,0.0,3.0,0.0,0.0,0.0,20.0,0.0,20.0,0.0],\"xaxis\":\"x\",\"yaxis\":\"y\",\"type\":\"histogram\",\"opacity\":0.7}],                        {\"template\":{\"data\":{\"histogram2dcontour\":[{\"type\":\"histogram2dcontour\",\"colorbar\":{\"outlinewidth\":0,\"ticks\":\"\"},\"colorscale\":[[0.0,\"#0d0887\"],[0.1111111111111111,\"#46039f\"],[0.2222222222222222,\"#7201a8\"],[0.3333333333333333,\"#9c179e\"],[0.4444444444444444,\"#bd3786\"],[0.5555555555555556,\"#d8576b\"],[0.6666666666666666,\"#ed7953\"],[0.7777777777777778,\"#fb9f3a\"],[0.8888888888888888,\"#fdca26\"],[1.0,\"#f0f921\"]]}],\"choropleth\":[{\"type\":\"choropleth\",\"colorbar\":{\"outlinewidth\":0,\"ticks\":\"\"}}],\"histogram2d\":[{\"type\":\"histogram2d\",\"colorbar\":{\"outlinewidth\":0,\"ticks\":\"\"},\"colorscale\":[[0.0,\"#0d0887\"],[0.1111111111111111,\"#46039f\"],[0.2222222222222222,\"#7201a8\"],[0.3333333333333333,\"#9c179e\"],[0.4444444444444444,\"#bd3786\"],[0.5555555555555556,\"#d8576b\"],[0.6666666666666666,\"#ed7953\"],[0.7777777777777778,\"#fb9f3a\"],[0.8888888888888888,\"#fdca26\"],[1.0,\"#f0f921\"]]}],\"heatmap\":[{\"type\":\"heatmap\",\"colorbar\":{\"outlinewidth\":0,\"ticks\":\"\"},\"colorscale\":[[0.0,\"#0d0887\"],[0.1111111111111111,\"#46039f\"],[0.2222222222222222,\"#7201a8\"],[0.3333333333333333,\"#9c179e\"],[0.4444444444444444,\"#bd3786\"],[0.5555555555555556,\"#d8576b\"],[0.6666666666666666,\"#ed7953\"],[0.7777777777777778,\"#fb9f3a\"],[0.8888888888888888,\"#fdca26\"],[1.0,\"#f0f921\"]]}],\"heatmapgl\":[{\"type\":\"heatmapgl\",\"colorbar\":{\"outlinewidth\":0,\"ticks\":\"\"},\"colorscale\":[[0.0,\"#0d0887\"],[0.1111111111111111,\"#46039f\"],[0.2222222222222222,\"#7201a8\"],[0.3333333333333333,\"#9c179e\"],[0.4444444444444444,\"#bd3786\"],[0.5555555555555556,\"#d8576b\"],[0.6666666666666666,\"#ed7953\"],[0.7777777777777778,\"#fb9f3a\"],[0.8888888888888888,\"#fdca26\"],[1.0,\"#f0f921\"]]}],\"contourcarpet\":[{\"type\":\"contourcarpet\",\"colorbar\":{\"outlinewidth\":0,\"ticks\":\"\"}}],\"contour\":[{\"type\":\"contour\",\"colorbar\":{\"outlinewidth\":0,\"ticks\":\"\"},\"colorscale\":[[0.0,\"#0d0887\"],[0.1111111111111111,\"#46039f\"],[0.2222222222222222,\"#7201a8\"],[0.3333333333333333,\"#9c179e\"],[0.4444444444444444,\"#bd3786\"],[0.5555555555555556,\"#d8576b\"],[0.6666666666666666,\"#ed7953\"],[0.7777777777777778,\"#fb9f3a\"],[0.8888888888888888,\"#fdca26\"],[1.0,\"#f0f921\"]]}],\"surface\":[{\"type\":\"surface\",\"colorbar\":{\"outlinewidth\":0,\"ticks\":\"\"},\"colorscale\":[[0.0,\"#0d0887\"],[0.1111111111111111,\"#46039f\"],[0.2222222222222222,\"#7201a8\"],[0.3333333333333333,\"#9c179e\"],[0.4444444444444444,\"#bd3786\"],[0.5555555555555556,\"#d8576b\"],[0.6666666666666666,\"#ed7953\"],[0.7777777777777778,\"#fb9f3a\"],[0.8888888888888888,\"#fdca26\"],[1.0,\"#f0f921\"]]}],\"mesh3d\":[{\"type\":\"mesh3d\",\"colorbar\":{\"outlinewidth\":0,\"ticks\":\"\"}}],\"scatter\":[{\"fillpattern\":{\"fillmode\":\"overlay\",\"size\":10,\"solidity\":0.2},\"type\":\"scatter\"}],\"parcoords\":[{\"type\":\"parcoords\",\"line\":{\"colorbar\":{\"outlinewidth\":0,\"ticks\":\"\"}}}],\"scatterpolargl\":[{\"type\":\"scatterpolargl\",\"marker\":{\"colorbar\":{\"outlinewidth\":0,\"ticks\":\"\"}}}],\"bar\":[{\"error_x\":{\"color\":\"#2a3f5f\"},\"error_y\":{\"color\":\"#2a3f5f\"},\"marker\":{\"line\":{\"color\":\"#E5ECF6\",\"width\":0.5},\"pattern\":{\"fillmode\":\"overlay\",\"size\":10,\"solidity\":0.2}},\"type\":\"bar\"}],\"scattergeo\":[{\"type\":\"scattergeo\",\"marker\":{\"colorbar\":{\"outlinewidth\":0,\"ticks\":\"\"}}}],\"scatterpolar\":[{\"type\":\"scatterpolar\",\"marker\":{\"colorbar\":{\"outlinewidth\":0,\"ticks\":\"\"}}}],\"histogram\":[{\"marker\":{\"pattern\":{\"fillmode\":\"overlay\",\"size\":10,\"solidity\":0.2}},\"type\":\"histogram\"}],\"scattergl\":[{\"type\":\"scattergl\",\"marker\":{\"colorbar\":{\"outlinewidth\":0,\"ticks\":\"\"}}}],\"scatter3d\":[{\"type\":\"scatter3d\",\"line\":{\"colorbar\":{\"outlinewidth\":0,\"ticks\":\"\"}},\"marker\":{\"colorbar\":{\"outlinewidth\":0,\"ticks\":\"\"}}}],\"scattermapbox\":[{\"type\":\"scattermapbox\",\"marker\":{\"colorbar\":{\"outlinewidth\":0,\"ticks\":\"\"}}}],\"scatterternary\":[{\"type\":\"scatterternary\",\"marker\":{\"colorbar\":{\"outlinewidth\":0,\"ticks\":\"\"}}}],\"scattercarpet\":[{\"type\":\"scattercarpet\",\"marker\":{\"colorbar\":{\"outlinewidth\":0,\"ticks\":\"\"}}}],\"carpet\":[{\"aaxis\":{\"endlinecolor\":\"#2a3f5f\",\"gridcolor\":\"white\",\"linecolor\":\"white\",\"minorgridcolor\":\"white\",\"startlinecolor\":\"#2a3f5f\"},\"baxis\":{\"endlinecolor\":\"#2a3f5f\",\"gridcolor\":\"white\",\"linecolor\":\"white\",\"minorgridcolor\":\"white\",\"startlinecolor\":\"#2a3f5f\"},\"type\":\"carpet\"}],\"table\":[{\"cells\":{\"fill\":{\"color\":\"#EBF0F8\"},\"line\":{\"color\":\"white\"}},\"header\":{\"fill\":{\"color\":\"#C8D4E3\"},\"line\":{\"color\":\"white\"}},\"type\":\"table\"}],\"barpolar\":[{\"marker\":{\"line\":{\"color\":\"#E5ECF6\",\"width\":0.5},\"pattern\":{\"fillmode\":\"overlay\",\"size\":10,\"solidity\":0.2}},\"type\":\"barpolar\"}],\"pie\":[{\"automargin\":true,\"type\":\"pie\"}]},\"layout\":{\"autotypenumbers\":\"strict\",\"colorway\":[\"#636efa\",\"#EF553B\",\"#00cc96\",\"#ab63fa\",\"#FFA15A\",\"#19d3f3\",\"#FF6692\",\"#B6E880\",\"#FF97FF\",\"#FECB52\"],\"font\":{\"color\":\"#2a3f5f\"},\"hovermode\":\"closest\",\"hoverlabel\":{\"align\":\"left\"},\"paper_bgcolor\":\"white\",\"plot_bgcolor\":\"#E5ECF6\",\"polar\":{\"bgcolor\":\"#E5ECF6\",\"angularaxis\":{\"gridcolor\":\"white\",\"linecolor\":\"white\",\"ticks\":\"\"},\"radialaxis\":{\"gridcolor\":\"white\",\"linecolor\":\"white\",\"ticks\":\"\"}},\"ternary\":{\"bgcolor\":\"#E5ECF6\",\"aaxis\":{\"gridcolor\":\"white\",\"linecolor\":\"white\",\"ticks\":\"\"},\"baxis\":{\"gridcolor\":\"white\",\"linecolor\":\"white\",\"ticks\":\"\"},\"caxis\":{\"gridcolor\":\"white\",\"linecolor\":\"white\",\"ticks\":\"\"}},\"coloraxis\":{\"colorbar\":{\"outlinewidth\":0,\"ticks\":\"\"}},\"colorscale\":{\"sequential\":[[0.0,\"#0d0887\"],[0.1111111111111111,\"#46039f\"],[0.2222222222222222,\"#7201a8\"],[0.3333333333333333,\"#9c179e\"],[0.4444444444444444,\"#bd3786\"],[0.5555555555555556,\"#d8576b\"],[0.6666666666666666,\"#ed7953\"],[0.7777777777777778,\"#fb9f3a\"],[0.8888888888888888,\"#fdca26\"],[1.0,\"#f0f921\"]],\"sequentialminus\":[[0.0,\"#0d0887\"],[0.1111111111111111,\"#46039f\"],[0.2222222222222222,\"#7201a8\"],[0.3333333333333333,\"#9c179e\"],[0.4444444444444444,\"#bd3786\"],[0.5555555555555556,\"#d8576b\"],[0.6666666666666666,\"#ed7953\"],[0.7777777777777778,\"#fb9f3a\"],[0.8888888888888888,\"#fdca26\"],[1.0,\"#f0f921\"]],\"diverging\":[[0,\"#8e0152\"],[0.1,\"#c51b7d\"],[0.2,\"#de77ae\"],[0.3,\"#f1b6da\"],[0.4,\"#fde0ef\"],[0.5,\"#f7f7f7\"],[0.6,\"#e6f5d0\"],[0.7,\"#b8e186\"],[0.8,\"#7fbc41\"],[0.9,\"#4d9221\"],[1,\"#276419\"]]},\"xaxis\":{\"gridcolor\":\"white\",\"linecolor\":\"white\",\"ticks\":\"\",\"title\":{\"standoff\":15},\"zerolinecolor\":\"white\",\"automargin\":true,\"zerolinewidth\":2},\"yaxis\":{\"gridcolor\":\"white\",\"linecolor\":\"white\",\"ticks\":\"\",\"title\":{\"standoff\":15},\"zerolinecolor\":\"white\",\"automargin\":true,\"zerolinewidth\":2},\"scene\":{\"xaxis\":{\"backgroundcolor\":\"#E5ECF6\",\"gridcolor\":\"white\",\"linecolor\":\"white\",\"showbackground\":true,\"ticks\":\"\",\"zerolinecolor\":\"white\",\"gridwidth\":2},\"yaxis\":{\"backgroundcolor\":\"#E5ECF6\",\"gridcolor\":\"white\",\"linecolor\":\"white\",\"showbackground\":true,\"ticks\":\"\",\"zerolinecolor\":\"white\",\"gridwidth\":2},\"zaxis\":{\"backgroundcolor\":\"#E5ECF6\",\"gridcolor\":\"white\",\"linecolor\":\"white\",\"showbackground\":true,\"ticks\":\"\",\"zerolinecolor\":\"white\",\"gridwidth\":2}},\"shapedefaults\":{\"line\":{\"color\":\"#2a3f5f\"}},\"annotationdefaults\":{\"arrowcolor\":\"#2a3f5f\",\"arrowhead\":0,\"arrowwidth\":1},\"geo\":{\"bgcolor\":\"white\",\"landcolor\":\"#E5ECF6\",\"subunitcolor\":\"white\",\"showland\":true,\"showlakes\":true,\"lakecolor\":\"white\"},\"title\":{\"x\":0.05},\"mapbox\":{\"style\":\"light\"}}},\"xaxis\":{\"anchor\":\"y\",\"domain\":[0.0,1.0],\"title\":{\"text\":\"amt_weekends\"}},\"yaxis\":{\"anchor\":\"x\",\"domain\":[0.0,1.0],\"title\":{\"text\":\"count\"}},\"legend\":{\"tracegroupgap\":0},\"title\":{\"text\":\"Amount consumed over weekends Distribution\"},\"barmode\":\"relative\"},                        {\"responsive\": true}                    )                };                            </script>        </div>"
      ],
      "text/plain": [
       "Figure({\n",
       "    'data': [{'alignmentgroup': 'True',\n",
       "              'bingroup': 'x',\n",
       "              'hovertemplate': 'amt_weekends=%{x}<br>count=%{y}<extra></extra>',\n",
       "              'legendgroup': '',\n",
       "              'marker': {'color': 'orange', 'pattern': {'shape': ''}},\n",
       "              'name': '',\n",
       "              'offsetgroup': '',\n",
       "              'opacity': 0.7,\n",
       "              'orientation': 'v',\n",
       "              'showlegend': False,\n",
       "              'type': 'histogram',\n",
       "              'x': array([ 0., 12.,  0., ...,  0., 20.,  0.]),\n",
       "              'xaxis': 'x',\n",
       "              'yaxis': 'y'}],\n",
       "    'layout': {'barmode': 'relative',\n",
       "               'legend': {'tracegroupgap': 0},\n",
       "               'template': '...',\n",
       "               'title': {'text': 'Amount consumed over weekends Distribution'},\n",
       "               'xaxis': {'anchor': 'y', 'domain': [0.0, 1.0], 'title': {'text': 'amt_weekends'}},\n",
       "               'yaxis': {'anchor': 'x', 'domain': [0.0, 1.0], 'title': {'text': 'count'}}}\n",
       "})"
      ]
     },
     "execution_count": 38,
     "metadata": {},
     "output_type": "execute_result"
    }
   ],
   "source": [
    "hist_fig= px.histogram(dataset, x='amt_weekends', title='Amount consumed over weekends Distribution')\n",
    "hist_fig.update_traces(marker_color='orange', opacity=0.7)"
   ]
  },
  {
   "cell_type": "markdown",
   "metadata": {
    "id": "QBe4l544zi6l"
   },
   "source": [
    "* Amount consumed over weekdays"
   ]
  },
  {
   "cell_type": "code",
   "execution_count": 40,
   "metadata": {
    "colab": {
     "base_uri": "https://localhost:8080/",
     "height": 542
    },
    "executionInfo": {
     "elapsed": 426,
     "status": "ok",
     "timestamp": 1731902427963,
     "user": {
      "displayName": "Tuấn Quàng Lê Trần",
      "userId": "02554655782233207157"
     },
     "user_tz": -420
    },
    "id": "cP7IQQi3zmTn",
    "outputId": "b8ec78a0-5267-4e71-8c7c-d970ef55d28c"
   },
   "outputs": [
    {
     "ename": "ValueError",
     "evalue": "Mime type rendering requires nbformat>=4.2.0 but it is not installed",
     "output_type": "error",
     "traceback": [
      "\u001b[1;31m---------------------------------------------------------------------------\u001b[0m",
      "\u001b[1;31mValueError\u001b[0m                                Traceback (most recent call last)",
      "File \u001b[1;32m~\\AppData\\Roaming\\Python\\Python312\\site-packages\\IPython\\core\\formatters.py:925\u001b[0m, in \u001b[0;36mIPythonDisplayFormatter.__call__\u001b[1;34m(self, obj)\u001b[0m\n\u001b[0;32m    923\u001b[0m method \u001b[38;5;241m=\u001b[39m get_real_method(obj, \u001b[38;5;28mself\u001b[39m\u001b[38;5;241m.\u001b[39mprint_method)\n\u001b[0;32m    924\u001b[0m \u001b[38;5;28;01mif\u001b[39;00m method \u001b[38;5;129;01mis\u001b[39;00m \u001b[38;5;129;01mnot\u001b[39;00m \u001b[38;5;28;01mNone\u001b[39;00m:\n\u001b[1;32m--> 925\u001b[0m     \u001b[43mmethod\u001b[49m\u001b[43m(\u001b[49m\u001b[43m)\u001b[49m\n\u001b[0;32m    926\u001b[0m     \u001b[38;5;28;01mreturn\u001b[39;00m \u001b[38;5;28;01mTrue\u001b[39;00m\n",
      "File \u001b[1;32mc:\\Users\\Admin\\AppData\\Local\\Programs\\Python\\Python312\\Lib\\site-packages\\plotly\\basedatatypes.py:832\u001b[0m, in \u001b[0;36mBaseFigure._ipython_display_\u001b[1;34m(self)\u001b[0m\n\u001b[0;32m    829\u001b[0m \u001b[38;5;28;01mimport\u001b[39;00m \u001b[38;5;21;01mplotly\u001b[39;00m\u001b[38;5;21;01m.\u001b[39;00m\u001b[38;5;21;01mio\u001b[39;00m \u001b[38;5;28;01mas\u001b[39;00m \u001b[38;5;21;01mpio\u001b[39;00m\n\u001b[0;32m    831\u001b[0m \u001b[38;5;28;01mif\u001b[39;00m pio\u001b[38;5;241m.\u001b[39mrenderers\u001b[38;5;241m.\u001b[39mrender_on_display \u001b[38;5;129;01mand\u001b[39;00m pio\u001b[38;5;241m.\u001b[39mrenderers\u001b[38;5;241m.\u001b[39mdefault:\n\u001b[1;32m--> 832\u001b[0m     \u001b[43mpio\u001b[49m\u001b[38;5;241;43m.\u001b[39;49m\u001b[43mshow\u001b[49m\u001b[43m(\u001b[49m\u001b[38;5;28;43mself\u001b[39;49m\u001b[43m)\u001b[49m\n\u001b[0;32m    833\u001b[0m \u001b[38;5;28;01melse\u001b[39;00m:\n\u001b[0;32m    834\u001b[0m     \u001b[38;5;28mprint\u001b[39m(\u001b[38;5;28mrepr\u001b[39m(\u001b[38;5;28mself\u001b[39m))\n",
      "File \u001b[1;32mc:\\Users\\Admin\\AppData\\Local\\Programs\\Python\\Python312\\Lib\\site-packages\\plotly\\io\\_renderers.py:394\u001b[0m, in \u001b[0;36mshow\u001b[1;34m(fig, renderer, validate, **kwargs)\u001b[0m\n\u001b[0;32m    389\u001b[0m         \u001b[38;5;28;01mraise\u001b[39;00m \u001b[38;5;167;01mValueError\u001b[39;00m(\n\u001b[0;32m    390\u001b[0m             \u001b[38;5;124m\"\u001b[39m\u001b[38;5;124mMime type rendering requires ipython but it is not installed\u001b[39m\u001b[38;5;124m\"\u001b[39m\n\u001b[0;32m    391\u001b[0m         )\n\u001b[0;32m    393\u001b[0m     \u001b[38;5;28;01mif\u001b[39;00m \u001b[38;5;129;01mnot\u001b[39;00m nbformat \u001b[38;5;129;01mor\u001b[39;00m Version(nbformat\u001b[38;5;241m.\u001b[39m__version__) \u001b[38;5;241m<\u001b[39m Version(\u001b[38;5;124m\"\u001b[39m\u001b[38;5;124m4.2.0\u001b[39m\u001b[38;5;124m\"\u001b[39m):\n\u001b[1;32m--> 394\u001b[0m         \u001b[38;5;28;01mraise\u001b[39;00m \u001b[38;5;167;01mValueError\u001b[39;00m(\n\u001b[0;32m    395\u001b[0m             \u001b[38;5;124m\"\u001b[39m\u001b[38;5;124mMime type rendering requires nbformat>=4.2.0 but it is not installed\u001b[39m\u001b[38;5;124m\"\u001b[39m\n\u001b[0;32m    396\u001b[0m         )\n\u001b[0;32m    398\u001b[0m     ipython_display\u001b[38;5;241m.\u001b[39mdisplay(bundle, raw\u001b[38;5;241m=\u001b[39m\u001b[38;5;28;01mTrue\u001b[39;00m)\n\u001b[0;32m    400\u001b[0m \u001b[38;5;66;03m# external renderers\u001b[39;00m\n",
      "\u001b[1;31mValueError\u001b[0m: Mime type rendering requires nbformat>=4.2.0 but it is not installed"
     ]
    },
    {
     "data": {
      "application/vnd.plotly.v1+json": {
       "config": {
        "plotlyServerURL": "https://plot.ly"
       },
       "data": [
        {
         "alignmentgroup": "True",
         "bingroup": "x",
         "hovertemplate": "amt_weekdays=%{x}<br>count=%{y}<extra></extra>",
         "legendgroup": "",
         "marker": {
          "color": "orange",
          "pattern": {
           "shape": ""
          }
         },
         "name": "",
         "offsetgroup": "",
         "opacity": 0.7,
         "orientation": "v",
         "showlegend": false,
         "type": "histogram",
         "x": [
          0,
          12,
          0,
          0,
          0,
          0,
          6,
          0,
          8,
          12,
          0,
          0,
          0,
          0,
          0,
          0,
          0,
          0,
          0,
          0,
          12,
          2,
          20,
          0,
          0,
          0,
          20,
          0,
          0,
          0,
          15,
          15,
          0,
          0,
          0,
          0,
          0,
          20,
          0,
          0,
          0,
          0,
          0,
          0,
          0,
          0,
          0,
          6,
          0,
          25,
          4,
          0,
          0,
          0,
          20,
          0,
          0,
          0,
          0,
          0,
          0,
          0,
          0,
          10,
          0,
          10,
          0,
          0,
          0,
          0,
          20,
          0,
          0,
          30,
          0,
          20,
          20,
          0,
          0,
          3,
          0,
          0,
          20,
          0,
          0,
          0,
          0,
          0,
          0,
          0,
          0,
          0,
          0,
          0,
          0,
          0,
          15,
          0,
          0,
          0,
          0,
          0,
          0,
          0,
          0,
          10,
          0,
          0,
          0,
          0,
          0,
          0,
          0,
          0,
          7,
          25,
          40,
          12,
          0,
          0,
          0,
          0,
          20,
          0,
          15,
          0,
          25,
          30,
          0,
          0,
          12,
          8,
          15,
          15,
          0,
          0,
          0,
          0,
          40,
          0,
          0,
          0,
          0,
          20,
          0,
          15,
          0,
          0,
          0,
          0,
          30,
          8,
          0,
          0,
          4,
          0,
          0,
          0,
          0,
          0,
          0,
          0,
          0,
          0,
          9,
          0,
          0,
          0,
          0,
          0,
          30,
          0,
          15,
          0,
          5,
          0,
          2,
          0,
          0,
          0,
          0,
          0,
          0,
          0,
          0,
          0,
          0,
          0,
          0,
          0,
          0,
          0,
          40,
          8,
          0,
          0,
          15,
          0,
          0,
          0,
          0,
          0,
          0,
          20,
          15,
          2,
          0,
          12,
          0,
          0,
          0,
          0,
          0,
          30,
          0,
          0,
          0,
          10,
          0,
          0,
          0,
          0,
          0,
          0,
          0,
          0,
          8,
          0,
          0,
          0,
          0,
          15,
          0,
          0,
          50,
          0,
          0,
          0,
          7,
          5,
          0,
          0,
          0,
          0,
          0,
          0,
          0,
          0,
          0,
          8,
          18,
          0,
          0,
          0,
          15,
          0,
          0,
          0,
          10,
          0,
          0,
          0,
          0,
          0,
          0,
          10,
          0,
          15,
          8,
          10,
          0,
          0,
          5,
          10,
          0,
          4,
          0,
          35,
          0,
          0,
          0,
          0,
          8,
          0,
          0,
          0,
          0,
          0,
          40,
          0,
          7,
          0,
          10,
          0,
          20,
          0,
          0,
          0,
          8,
          0,
          0,
          0,
          0,
          0,
          0,
          15,
          20,
          0,
          0,
          0,
          0,
          0,
          0,
          0,
          10,
          0,
          0,
          0,
          0,
          0,
          1,
          20,
          0,
          0,
          0,
          0,
          0,
          10,
          0,
          0,
          0,
          0,
          0,
          0,
          0,
          0,
          0,
          0,
          0,
          0,
          0,
          0,
          0,
          0,
          0,
          0,
          20,
          0,
          0,
          0,
          10,
          0,
          10,
          0,
          10,
          0,
          0,
          7,
          0,
          0,
          4,
          0,
          0,
          0,
          0,
          0,
          0,
          20,
          0,
          0,
          0,
          0,
          0,
          0,
          0,
          0,
          0,
          0,
          0,
          0,
          0,
          0,
          0,
          0,
          0,
          0,
          0,
          10,
          20,
          0,
          10,
          0,
          0,
          0,
          0,
          0,
          0,
          0,
          0,
          0,
          0,
          0,
          0,
          0,
          0,
          0,
          0,
          30,
          0,
          0,
          0,
          0,
          0,
          0,
          0,
          0,
          0,
          0,
          0,
          0,
          10,
          0,
          15,
          0,
          25,
          0,
          0,
          0,
          0,
          10,
          0,
          0,
          0,
          0,
          0,
          0,
          0,
          0,
          0,
          0,
          0,
          0,
          15,
          0,
          0,
          0,
          0,
          0,
          0,
          0,
          0,
          0,
          0,
          0,
          0,
          0,
          6,
          20,
          0,
          0,
          0,
          0,
          0,
          0,
          0,
          0,
          15,
          0,
          0,
          0,
          0,
          0,
          0,
          0,
          0,
          0,
          0,
          0,
          0,
          4,
          0,
          0,
          2,
          0,
          12,
          0,
          0,
          0,
          15,
          0,
          0,
          0,
          5,
          0,
          3,
          0,
          0,
          0,
          0,
          0,
          0,
          0,
          0,
          0,
          0,
          0,
          0,
          0,
          12,
          0,
          15,
          0,
          20,
          20,
          0,
          0,
          3,
          0,
          0,
          0,
          0,
          12,
          0,
          0,
          0,
          20,
          0,
          10,
          10,
          10,
          0,
          0,
          10,
          2,
          0,
          0,
          0,
          15,
          0,
          0,
          0,
          0,
          0,
          0,
          0,
          0,
          0,
          7,
          20,
          0,
          0,
          7,
          0,
          10,
          0,
          6,
          5,
          0,
          0,
          0,
          0,
          0,
          0,
          0,
          15,
          0,
          0,
          0,
          15,
          0,
          20,
          10,
          0,
          0,
          0,
          0,
          25,
          0,
          0,
          0,
          0,
          2,
          0,
          0,
          0,
          20,
          15,
          0,
          0,
          0,
          5,
          0,
          0,
          0,
          0,
          0,
          0,
          0,
          8,
          1,
          0,
          0,
          0,
          0,
          0,
          0,
          18,
          0,
          0,
          15,
          0,
          0,
          0,
          0,
          15,
          0,
          0,
          0,
          0,
          10,
          0,
          0,
          10,
          0,
          0,
          0,
          0,
          0,
          0,
          0,
          1,
          0,
          0,
          0,
          0,
          0,
          0,
          0,
          0,
          0,
          0,
          0,
          0,
          0,
          20,
          0,
          0,
          0,
          2,
          0,
          0,
          6,
          0,
          0,
          0,
          0,
          0,
          0,
          20,
          0,
          0,
          0,
          0,
          2,
          0,
          0,
          10,
          0,
          0,
          0,
          0,
          0,
          0,
          0,
          6,
          0,
          0,
          5,
          10,
          0,
          0,
          0,
          10,
          0,
          0,
          0,
          0,
          0,
          20,
          0,
          0,
          0,
          10,
          0,
          10,
          20,
          35,
          0,
          0,
          0,
          0,
          0,
          0,
          0,
          0,
          0,
          0,
          0,
          0,
          20,
          0,
          15,
          0,
          0,
          0,
          0,
          0,
          0,
          0,
          0,
          20,
          0,
          0,
          0,
          0,
          0,
          0,
          0,
          0,
          0,
          0,
          0,
          0,
          0,
          0,
          30,
          10,
          0,
          10,
          0,
          0,
          0,
          0,
          0,
          0,
          15,
          0,
          0,
          0,
          0,
          0,
          0,
          0,
          0,
          15,
          20,
          0,
          0,
          0,
          0,
          0,
          0,
          0,
          0,
          0,
          20,
          20,
          0,
          0,
          0,
          0,
          10,
          0,
          0,
          0,
          0,
          0,
          10,
          0,
          0,
          10,
          0,
          0,
          0,
          0,
          0,
          0,
          0,
          8,
          0,
          0,
          0,
          0,
          0,
          0,
          0,
          0,
          0,
          0,
          0,
          0,
          5,
          0,
          0,
          0,
          0,
          0,
          0,
          0,
          0,
          0,
          0,
          0,
          25,
          0,
          0,
          0,
          30,
          20,
          0,
          4,
          0,
          0,
          0,
          15,
          0,
          30,
          0,
          0,
          0,
          0,
          0,
          0,
          5,
          0,
          10,
          0,
          0,
          0,
          0,
          0,
          0,
          0,
          0,
          0,
          0,
          0,
          0,
          0,
          0,
          0,
          0,
          0,
          0,
          3,
          0,
          0,
          0,
          0,
          0,
          15,
          0,
          6,
          0,
          0,
          25,
          0,
          0,
          0,
          0,
          0,
          0,
          0,
          0,
          0,
          10,
          0,
          8,
          0,
          8,
          2,
          0,
          0,
          0,
          10,
          20,
          0,
          25,
          10,
          6,
          0,
          0,
          0,
          0,
          20,
          0,
          3,
          0,
          0,
          10,
          0,
          0,
          0,
          0,
          0,
          0,
          0,
          7,
          0,
          0,
          4,
          0,
          0,
          30,
          0,
          0,
          0,
          0,
          0,
          0,
          0,
          0,
          55,
          0,
          0,
          0,
          1,
          0,
          0,
          0,
          0,
          0,
          0,
          0,
          0,
          1,
          0,
          0,
          0,
          0,
          0,
          0,
          0,
          0,
          0,
          0,
          3,
          0,
          0,
          4,
          0,
          0,
          0,
          0,
          0,
          10,
          0,
          0,
          0,
          0,
          0,
          16,
          15,
          0,
          7,
          20,
          0,
          15,
          0,
          0,
          10,
          0,
          0,
          2,
          0,
          0,
          0,
          0,
          0,
          0,
          3,
          0,
          0,
          0,
          0,
          20,
          0,
          0,
          0,
          0,
          0,
          0,
          0,
          0,
          0,
          0,
          0,
          0,
          10,
          25,
          10,
          0,
          0,
          20,
          0,
          0,
          0,
          0,
          0,
          20,
          2,
          0,
          0,
          8,
          0,
          0,
          0,
          7,
          0,
          0,
          0,
          5,
          0,
          10,
          0,
          0,
          0,
          10,
          10,
          0,
          0,
          7,
          0,
          0,
          0,
          0,
          0,
          5,
          0,
          0,
          0,
          0,
          0,
          0,
          0,
          0,
          20,
          0,
          0,
          0,
          0,
          1,
          0,
          0,
          0,
          0,
          10,
          0,
          0,
          0,
          0,
          7,
          0,
          0,
          0,
          10,
          0,
          10,
          0,
          0,
          20,
          0,
          0,
          0,
          0,
          20,
          0,
          0,
          0,
          0,
          0,
          0,
          0,
          0,
          0,
          0,
          0,
          0,
          0,
          0,
          3,
          10,
          0,
          0,
          0,
          0,
          20,
          0,
          0,
          0,
          0,
          0,
          15,
          15,
          40,
          0,
          0,
          0,
          0,
          0,
          0,
          0,
          20,
          5,
          0,
          20,
          0,
          0,
          0,
          0,
          0,
          0,
          0,
          10,
          5,
          5,
          5,
          0,
          0,
          15,
          0,
          0,
          20,
          0,
          0,
          6,
          0,
          20,
          0,
          0,
          0,
          0,
          10,
          0,
          0,
          0,
          0,
          0,
          0,
          0,
          0,
          0,
          20,
          0,
          0,
          0,
          0,
          0,
          0,
          5,
          10,
          40,
          0,
          0,
          0,
          0,
          20,
          10,
          0,
          0,
          0,
          0,
          0,
          0,
          0,
          30,
          0,
          0,
          5,
          0,
          4,
          0,
          6,
          40,
          0,
          0,
          0,
          0,
          0,
          12,
          0,
          0,
          0,
          20,
          20,
          35,
          0,
          0,
          7,
          5,
          0,
          0,
          0,
          10,
          0,
          0,
          0,
          0,
          10,
          0,
          0,
          0,
          0,
          0,
          0,
          0,
          0,
          0,
          15,
          10,
          0,
          0,
          20,
          0,
          25,
          0,
          0,
          0,
          0,
          0,
          0,
          0,
          0,
          0,
          0,
          0,
          0,
          0,
          0,
          0,
          0,
          15,
          18,
          0,
          0,
          0,
          15,
          0,
          0,
          0,
          0,
          0,
          0,
          0,
          20,
          0,
          0,
          0,
          0,
          0,
          0,
          20,
          0,
          7,
          0,
          0,
          0,
          25,
          0,
          8,
          15,
          0,
          15,
          5,
          30,
          0,
          0,
          25,
          0,
          0,
          15,
          0,
          0,
          0,
          0,
          0,
          0,
          0,
          0,
          0,
          0,
          0,
          0,
          0,
          5,
          0,
          0,
          0,
          0,
          0,
          3,
          0,
          0,
          0,
          0,
          6,
          0,
          0,
          20,
          0,
          0,
          0,
          0,
          0,
          0,
          0,
          0,
          0,
          0,
          10,
          20,
          10,
          0,
          0,
          0,
          0,
          0,
          0,
          0,
          10,
          0,
          0,
          0,
          20,
          0,
          0,
          0,
          0,
          0,
          0,
          0,
          0,
          10,
          0,
          0,
          0,
          0,
          0,
          40,
          0,
          0,
          0,
          0,
          0,
          0,
          0,
          1,
          0,
          0,
          0,
          0,
          10,
          0,
          0,
          0,
          0,
          0,
          0,
          0,
          0,
          25,
          0,
          0,
          0,
          0,
          0,
          0,
          0,
          0,
          0,
          20,
          0,
          12,
          10,
          0,
          20,
          15,
          0,
          0,
          0,
          5,
          0,
          0,
          0,
          0,
          20,
          0,
          0,
          0,
          0,
          5,
          0,
          0,
          0,
          12,
          10,
          25,
          0,
          5,
          0,
          15,
          0,
          0,
          0,
          0,
          0,
          20,
          0,
          5,
          0,
          20,
          12,
          0,
          30,
          20,
          0,
          20,
          20,
          50,
          0,
          6,
          0,
          0,
          0,
          0,
          0,
          7,
          0,
          4,
          0,
          0,
          0,
          20,
          0,
          0,
          0,
          0,
          30,
          0,
          0,
          0,
          0,
          0,
          0,
          0,
          0,
          0,
          20,
          0,
          0,
          0,
          0,
          15,
          10,
          0,
          2,
          30,
          20,
          0,
          0,
          0,
          0,
          0,
          0,
          15,
          0,
          0,
          0,
          0,
          5,
          0,
          0,
          0,
          0,
          1,
          0,
          0,
          0,
          0,
          0,
          0,
          25,
          0,
          0,
          0,
          0,
          0,
          10,
          0,
          0,
          0,
          40,
          0,
          0,
          0,
          20,
          0,
          10,
          5,
          0,
          0,
          15,
          0,
          0,
          0,
          12,
          0,
          0,
          0,
          20,
          0,
          0,
          10,
          5,
          5,
          10,
          0,
          25,
          0,
          10,
          0,
          15,
          0,
          15,
          0,
          0,
          0,
          0,
          12,
          0,
          0,
          0,
          0,
          0,
          15,
          15,
          0,
          0,
          0,
          0,
          0,
          0,
          10,
          0,
          0,
          0,
          0,
          0,
          0,
          8,
          0,
          0,
          0,
          0,
          0,
          0,
          30,
          0,
          0,
          0,
          0,
          0,
          10,
          0,
          0,
          0,
          24,
          0,
          0,
          20,
          15,
          15,
          6,
          0,
          0,
          45,
          20,
          0,
          0,
          0,
          10,
          0,
          0,
          0,
          15,
          0,
          0,
          0,
          12,
          2,
          10,
          0,
          0,
          0,
          0,
          0,
          0,
          0,
          20,
          6,
          0,
          0,
          20,
          0,
          40,
          0,
          0,
          0,
          0,
          0,
          20,
          20,
          0,
          0,
          15,
          0,
          20,
          0,
          10,
          20,
          0,
          0,
          0,
          0,
          0,
          0,
          0,
          10,
          30,
          0,
          0,
          18,
          0,
          0,
          0,
          18,
          0,
          0,
          20,
          15,
          10,
          0,
          0,
          10,
          0,
          0,
          0,
          0,
          0,
          15,
          0,
          0,
          12,
          0,
          0,
          0,
          20,
          0,
          20,
          0
         ],
         "xaxis": "x",
         "yaxis": "y"
        }
       ],
       "layout": {
        "barmode": "relative",
        "legend": {
         "tracegroupgap": 0
        },
        "template": {
         "data": {
          "bar": [
           {
            "error_x": {
             "color": "#2a3f5f"
            },
            "error_y": {
             "color": "#2a3f5f"
            },
            "marker": {
             "line": {
              "color": "#E5ECF6",
              "width": 0.5
             },
             "pattern": {
              "fillmode": "overlay",
              "size": 10,
              "solidity": 0.2
             }
            },
            "type": "bar"
           }
          ],
          "barpolar": [
           {
            "marker": {
             "line": {
              "color": "#E5ECF6",
              "width": 0.5
             },
             "pattern": {
              "fillmode": "overlay",
              "size": 10,
              "solidity": 0.2
             }
            },
            "type": "barpolar"
           }
          ],
          "carpet": [
           {
            "aaxis": {
             "endlinecolor": "#2a3f5f",
             "gridcolor": "white",
             "linecolor": "white",
             "minorgridcolor": "white",
             "startlinecolor": "#2a3f5f"
            },
            "baxis": {
             "endlinecolor": "#2a3f5f",
             "gridcolor": "white",
             "linecolor": "white",
             "minorgridcolor": "white",
             "startlinecolor": "#2a3f5f"
            },
            "type": "carpet"
           }
          ],
          "choropleth": [
           {
            "colorbar": {
             "outlinewidth": 0,
             "ticks": ""
            },
            "type": "choropleth"
           }
          ],
          "contour": [
           {
            "colorbar": {
             "outlinewidth": 0,
             "ticks": ""
            },
            "colorscale": [
             [
              0,
              "#0d0887"
             ],
             [
              0.1111111111111111,
              "#46039f"
             ],
             [
              0.2222222222222222,
              "#7201a8"
             ],
             [
              0.3333333333333333,
              "#9c179e"
             ],
             [
              0.4444444444444444,
              "#bd3786"
             ],
             [
              0.5555555555555556,
              "#d8576b"
             ],
             [
              0.6666666666666666,
              "#ed7953"
             ],
             [
              0.7777777777777778,
              "#fb9f3a"
             ],
             [
              0.8888888888888888,
              "#fdca26"
             ],
             [
              1,
              "#f0f921"
             ]
            ],
            "type": "contour"
           }
          ],
          "contourcarpet": [
           {
            "colorbar": {
             "outlinewidth": 0,
             "ticks": ""
            },
            "type": "contourcarpet"
           }
          ],
          "heatmap": [
           {
            "colorbar": {
             "outlinewidth": 0,
             "ticks": ""
            },
            "colorscale": [
             [
              0,
              "#0d0887"
             ],
             [
              0.1111111111111111,
              "#46039f"
             ],
             [
              0.2222222222222222,
              "#7201a8"
             ],
             [
              0.3333333333333333,
              "#9c179e"
             ],
             [
              0.4444444444444444,
              "#bd3786"
             ],
             [
              0.5555555555555556,
              "#d8576b"
             ],
             [
              0.6666666666666666,
              "#ed7953"
             ],
             [
              0.7777777777777778,
              "#fb9f3a"
             ],
             [
              0.8888888888888888,
              "#fdca26"
             ],
             [
              1,
              "#f0f921"
             ]
            ],
            "type": "heatmap"
           }
          ],
          "heatmapgl": [
           {
            "colorbar": {
             "outlinewidth": 0,
             "ticks": ""
            },
            "colorscale": [
             [
              0,
              "#0d0887"
             ],
             [
              0.1111111111111111,
              "#46039f"
             ],
             [
              0.2222222222222222,
              "#7201a8"
             ],
             [
              0.3333333333333333,
              "#9c179e"
             ],
             [
              0.4444444444444444,
              "#bd3786"
             ],
             [
              0.5555555555555556,
              "#d8576b"
             ],
             [
              0.6666666666666666,
              "#ed7953"
             ],
             [
              0.7777777777777778,
              "#fb9f3a"
             ],
             [
              0.8888888888888888,
              "#fdca26"
             ],
             [
              1,
              "#f0f921"
             ]
            ],
            "type": "heatmapgl"
           }
          ],
          "histogram": [
           {
            "marker": {
             "pattern": {
              "fillmode": "overlay",
              "size": 10,
              "solidity": 0.2
             }
            },
            "type": "histogram"
           }
          ],
          "histogram2d": [
           {
            "colorbar": {
             "outlinewidth": 0,
             "ticks": ""
            },
            "colorscale": [
             [
              0,
              "#0d0887"
             ],
             [
              0.1111111111111111,
              "#46039f"
             ],
             [
              0.2222222222222222,
              "#7201a8"
             ],
             [
              0.3333333333333333,
              "#9c179e"
             ],
             [
              0.4444444444444444,
              "#bd3786"
             ],
             [
              0.5555555555555556,
              "#d8576b"
             ],
             [
              0.6666666666666666,
              "#ed7953"
             ],
             [
              0.7777777777777778,
              "#fb9f3a"
             ],
             [
              0.8888888888888888,
              "#fdca26"
             ],
             [
              1,
              "#f0f921"
             ]
            ],
            "type": "histogram2d"
           }
          ],
          "histogram2dcontour": [
           {
            "colorbar": {
             "outlinewidth": 0,
             "ticks": ""
            },
            "colorscale": [
             [
              0,
              "#0d0887"
             ],
             [
              0.1111111111111111,
              "#46039f"
             ],
             [
              0.2222222222222222,
              "#7201a8"
             ],
             [
              0.3333333333333333,
              "#9c179e"
             ],
             [
              0.4444444444444444,
              "#bd3786"
             ],
             [
              0.5555555555555556,
              "#d8576b"
             ],
             [
              0.6666666666666666,
              "#ed7953"
             ],
             [
              0.7777777777777778,
              "#fb9f3a"
             ],
             [
              0.8888888888888888,
              "#fdca26"
             ],
             [
              1,
              "#f0f921"
             ]
            ],
            "type": "histogram2dcontour"
           }
          ],
          "mesh3d": [
           {
            "colorbar": {
             "outlinewidth": 0,
             "ticks": ""
            },
            "type": "mesh3d"
           }
          ],
          "parcoords": [
           {
            "line": {
             "colorbar": {
              "outlinewidth": 0,
              "ticks": ""
             }
            },
            "type": "parcoords"
           }
          ],
          "pie": [
           {
            "automargin": true,
            "type": "pie"
           }
          ],
          "scatter": [
           {
            "fillpattern": {
             "fillmode": "overlay",
             "size": 10,
             "solidity": 0.2
            },
            "type": "scatter"
           }
          ],
          "scatter3d": [
           {
            "line": {
             "colorbar": {
              "outlinewidth": 0,
              "ticks": ""
             }
            },
            "marker": {
             "colorbar": {
              "outlinewidth": 0,
              "ticks": ""
             }
            },
            "type": "scatter3d"
           }
          ],
          "scattercarpet": [
           {
            "marker": {
             "colorbar": {
              "outlinewidth": 0,
              "ticks": ""
             }
            },
            "type": "scattercarpet"
           }
          ],
          "scattergeo": [
           {
            "marker": {
             "colorbar": {
              "outlinewidth": 0,
              "ticks": ""
             }
            },
            "type": "scattergeo"
           }
          ],
          "scattergl": [
           {
            "marker": {
             "colorbar": {
              "outlinewidth": 0,
              "ticks": ""
             }
            },
            "type": "scattergl"
           }
          ],
          "scattermapbox": [
           {
            "marker": {
             "colorbar": {
              "outlinewidth": 0,
              "ticks": ""
             }
            },
            "type": "scattermapbox"
           }
          ],
          "scatterpolar": [
           {
            "marker": {
             "colorbar": {
              "outlinewidth": 0,
              "ticks": ""
             }
            },
            "type": "scatterpolar"
           }
          ],
          "scatterpolargl": [
           {
            "marker": {
             "colorbar": {
              "outlinewidth": 0,
              "ticks": ""
             }
            },
            "type": "scatterpolargl"
           }
          ],
          "scatterternary": [
           {
            "marker": {
             "colorbar": {
              "outlinewidth": 0,
              "ticks": ""
             }
            },
            "type": "scatterternary"
           }
          ],
          "surface": [
           {
            "colorbar": {
             "outlinewidth": 0,
             "ticks": ""
            },
            "colorscale": [
             [
              0,
              "#0d0887"
             ],
             [
              0.1111111111111111,
              "#46039f"
             ],
             [
              0.2222222222222222,
              "#7201a8"
             ],
             [
              0.3333333333333333,
              "#9c179e"
             ],
             [
              0.4444444444444444,
              "#bd3786"
             ],
             [
              0.5555555555555556,
              "#d8576b"
             ],
             [
              0.6666666666666666,
              "#ed7953"
             ],
             [
              0.7777777777777778,
              "#fb9f3a"
             ],
             [
              0.8888888888888888,
              "#fdca26"
             ],
             [
              1,
              "#f0f921"
             ]
            ],
            "type": "surface"
           }
          ],
          "table": [
           {
            "cells": {
             "fill": {
              "color": "#EBF0F8"
             },
             "line": {
              "color": "white"
             }
            },
            "header": {
             "fill": {
              "color": "#C8D4E3"
             },
             "line": {
              "color": "white"
             }
            },
            "type": "table"
           }
          ]
         },
         "layout": {
          "annotationdefaults": {
           "arrowcolor": "#2a3f5f",
           "arrowhead": 0,
           "arrowwidth": 1
          },
          "autotypenumbers": "strict",
          "coloraxis": {
           "colorbar": {
            "outlinewidth": 0,
            "ticks": ""
           }
          },
          "colorscale": {
           "diverging": [
            [
             0,
             "#8e0152"
            ],
            [
             0.1,
             "#c51b7d"
            ],
            [
             0.2,
             "#de77ae"
            ],
            [
             0.3,
             "#f1b6da"
            ],
            [
             0.4,
             "#fde0ef"
            ],
            [
             0.5,
             "#f7f7f7"
            ],
            [
             0.6,
             "#e6f5d0"
            ],
            [
             0.7,
             "#b8e186"
            ],
            [
             0.8,
             "#7fbc41"
            ],
            [
             0.9,
             "#4d9221"
            ],
            [
             1,
             "#276419"
            ]
           ],
           "sequential": [
            [
             0,
             "#0d0887"
            ],
            [
             0.1111111111111111,
             "#46039f"
            ],
            [
             0.2222222222222222,
             "#7201a8"
            ],
            [
             0.3333333333333333,
             "#9c179e"
            ],
            [
             0.4444444444444444,
             "#bd3786"
            ],
            [
             0.5555555555555556,
             "#d8576b"
            ],
            [
             0.6666666666666666,
             "#ed7953"
            ],
            [
             0.7777777777777778,
             "#fb9f3a"
            ],
            [
             0.8888888888888888,
             "#fdca26"
            ],
            [
             1,
             "#f0f921"
            ]
           ],
           "sequentialminus": [
            [
             0,
             "#0d0887"
            ],
            [
             0.1111111111111111,
             "#46039f"
            ],
            [
             0.2222222222222222,
             "#7201a8"
            ],
            [
             0.3333333333333333,
             "#9c179e"
            ],
            [
             0.4444444444444444,
             "#bd3786"
            ],
            [
             0.5555555555555556,
             "#d8576b"
            ],
            [
             0.6666666666666666,
             "#ed7953"
            ],
            [
             0.7777777777777778,
             "#fb9f3a"
            ],
            [
             0.8888888888888888,
             "#fdca26"
            ],
            [
             1,
             "#f0f921"
            ]
           ]
          },
          "colorway": [
           "#636efa",
           "#EF553B",
           "#00cc96",
           "#ab63fa",
           "#FFA15A",
           "#19d3f3",
           "#FF6692",
           "#B6E880",
           "#FF97FF",
           "#FECB52"
          ],
          "font": {
           "color": "#2a3f5f"
          },
          "geo": {
           "bgcolor": "white",
           "lakecolor": "white",
           "landcolor": "#E5ECF6",
           "showlakes": true,
           "showland": true,
           "subunitcolor": "white"
          },
          "hoverlabel": {
           "align": "left"
          },
          "hovermode": "closest",
          "mapbox": {
           "style": "light"
          },
          "paper_bgcolor": "white",
          "plot_bgcolor": "#E5ECF6",
          "polar": {
           "angularaxis": {
            "gridcolor": "white",
            "linecolor": "white",
            "ticks": ""
           },
           "bgcolor": "#E5ECF6",
           "radialaxis": {
            "gridcolor": "white",
            "linecolor": "white",
            "ticks": ""
           }
          },
          "scene": {
           "xaxis": {
            "backgroundcolor": "#E5ECF6",
            "gridcolor": "white",
            "gridwidth": 2,
            "linecolor": "white",
            "showbackground": true,
            "ticks": "",
            "zerolinecolor": "white"
           },
           "yaxis": {
            "backgroundcolor": "#E5ECF6",
            "gridcolor": "white",
            "gridwidth": 2,
            "linecolor": "white",
            "showbackground": true,
            "ticks": "",
            "zerolinecolor": "white"
           },
           "zaxis": {
            "backgroundcolor": "#E5ECF6",
            "gridcolor": "white",
            "gridwidth": 2,
            "linecolor": "white",
            "showbackground": true,
            "ticks": "",
            "zerolinecolor": "white"
           }
          },
          "shapedefaults": {
           "line": {
            "color": "#2a3f5f"
           }
          },
          "ternary": {
           "aaxis": {
            "gridcolor": "white",
            "linecolor": "white",
            "ticks": ""
           },
           "baxis": {
            "gridcolor": "white",
            "linecolor": "white",
            "ticks": ""
           },
           "bgcolor": "#E5ECF6",
           "caxis": {
            "gridcolor": "white",
            "linecolor": "white",
            "ticks": ""
           }
          },
          "title": {
           "x": 0.05
          },
          "xaxis": {
           "automargin": true,
           "gridcolor": "white",
           "linecolor": "white",
           "ticks": "",
           "title": {
            "standoff": 15
           },
           "zerolinecolor": "white",
           "zerolinewidth": 2
          },
          "yaxis": {
           "automargin": true,
           "gridcolor": "white",
           "linecolor": "white",
           "ticks": "",
           "title": {
            "standoff": 15
           },
           "zerolinecolor": "white",
           "zerolinewidth": 2
          }
         }
        },
        "title": {
         "text": "Amount consumed over weekends Distribution"
        },
        "xaxis": {
         "anchor": "y",
         "domain": [
          0,
          1
         ],
         "title": {
          "text": "amt_weekdays"
         }
        },
        "yaxis": {
         "anchor": "x",
         "domain": [
          0,
          1
         ],
         "title": {
          "text": "count"
         }
        }
       }
      },
      "text/html": [
       "<div>                        <script type=\"text/javascript\">window.PlotlyConfig = {MathJaxConfig: 'local'};</script>\n",
       "        <script charset=\"utf-8\" src=\"https://cdn.plot.ly/plotly-2.35.2.min.js\"></script>                <div id=\"1e45b619-2a9c-44b5-b140-5cf2431b83cb\" class=\"plotly-graph-div\" style=\"height:100%; width:100%;\"></div>            <script type=\"text/javascript\">                                    window.PLOTLYENV=window.PLOTLYENV || {};                                    if (document.getElementById(\"1e45b619-2a9c-44b5-b140-5cf2431b83cb\")) {                    Plotly.newPlot(                        \"1e45b619-2a9c-44b5-b140-5cf2431b83cb\",                        [{\"alignmentgroup\":\"True\",\"bingroup\":\"x\",\"hovertemplate\":\"amt_weekdays=%{x}\\u003cbr\\u003ecount=%{y}\\u003cextra\\u003e\\u003c\\u002fextra\\u003e\",\"legendgroup\":\"\",\"marker\":{\"color\":\"orange\",\"pattern\":{\"shape\":\"\"}},\"name\":\"\",\"offsetgroup\":\"\",\"orientation\":\"v\",\"showlegend\":false,\"x\":[0.0,12.0,0.0,0.0,0.0,0.0,6.0,0.0,8.0,12.0,0.0,0.0,0.0,0.0,0.0,0.0,0.0,0.0,0.0,0.0,12.0,2.0,20.0,0.0,0.0,0.0,20.0,0.0,0.0,0.0,15.0,15.0,0.0,0.0,0.0,0.0,0.0,20.0,0.0,0.0,0.0,0.0,0.0,0.0,0.0,0.0,0.0,6.0,0.0,25.0,4.0,0.0,0.0,0.0,20.0,0.0,0.0,0.0,0.0,0.0,0.0,0.0,0.0,10.0,0.0,10.0,0.0,0.0,0.0,0.0,20.0,0.0,0.0,30.0,0.0,20.0,20.0,0.0,0.0,3.0,0.0,0.0,20.0,0.0,0.0,0.0,0.0,0.0,0.0,0.0,0.0,0.0,0.0,0.0,0.0,0.0,15.0,0.0,0.0,0.0,0.0,0.0,0.0,0.0,0.0,10.0,0.0,0.0,0.0,0.0,0.0,0.0,0.0,0.0,7.0,25.0,40.0,12.0,0.0,0.0,0.0,0.0,20.0,0.0,15.0,0.0,25.0,30.0,0.0,0.0,12.0,8.0,15.0,15.0,0.0,0.0,0.0,0.0,40.0,0.0,0.0,0.0,0.0,20.0,0.0,15.0,0.0,0.0,0.0,0.0,30.0,8.0,0.0,0.0,4.0,0.0,0.0,0.0,0.0,0.0,0.0,0.0,0.0,0.0,9.0,0.0,0.0,0.0,0.0,0.0,30.0,0.0,15.0,0.0,5.0,0.0,2.0,0.0,0.0,0.0,0.0,0.0,0.0,0.0,0.0,0.0,0.0,0.0,0.0,0.0,0.0,0.0,40.0,8.0,0.0,0.0,15.0,0.0,0.0,0.0,0.0,0.0,0.0,20.0,15.0,2.0,0.0,12.0,0.0,0.0,0.0,0.0,0.0,30.0,0.0,0.0,0.0,10.0,0.0,0.0,0.0,0.0,0.0,0.0,0.0,0.0,8.0,0.0,0.0,0.0,0.0,15.0,0.0,0.0,50.0,0.0,0.0,0.0,7.0,5.0,0.0,0.0,0.0,0.0,0.0,0.0,0.0,0.0,0.0,8.0,18.0,0.0,0.0,0.0,15.0,0.0,0.0,0.0,10.0,0.0,0.0,0.0,0.0,0.0,0.0,10.0,0.0,15.0,8.0,10.0,0.0,0.0,5.0,10.0,0.0,4.0,0.0,35.0,0.0,0.0,0.0,0.0,8.0,0.0,0.0,0.0,0.0,0.0,40.0,0.0,7.0,0.0,10.0,0.0,20.0,0.0,0.0,0.0,8.0,0.0,0.0,0.0,0.0,0.0,0.0,15.0,20.0,0.0,0.0,0.0,0.0,0.0,0.0,0.0,10.0,0.0,0.0,0.0,0.0,0.0,1.0,20.0,0.0,0.0,0.0,0.0,0.0,10.0,0.0,0.0,0.0,0.0,0.0,0.0,0.0,0.0,0.0,0.0,0.0,0.0,0.0,0.0,0.0,0.0,0.0,0.0,20.0,0.0,0.0,0.0,10.0,0.0,10.0,0.0,10.0,0.0,0.0,7.0,0.0,0.0,4.0,0.0,0.0,0.0,0.0,0.0,0.0,20.0,0.0,0.0,0.0,0.0,0.0,0.0,0.0,0.0,0.0,0.0,0.0,0.0,0.0,0.0,0.0,0.0,0.0,0.0,0.0,10.0,20.0,0.0,10.0,0.0,0.0,0.0,0.0,0.0,0.0,0.0,0.0,0.0,0.0,0.0,0.0,0.0,0.0,0.0,0.0,30.0,0.0,0.0,0.0,0.0,0.0,0.0,0.0,0.0,0.0,0.0,0.0,0.0,10.0,0.0,15.0,0.0,25.0,0.0,0.0,0.0,0.0,10.0,0.0,0.0,0.0,0.0,0.0,0.0,0.0,0.0,0.0,0.0,0.0,0.0,15.0,0.0,0.0,0.0,0.0,0.0,0.0,0.0,0.0,0.0,0.0,0.0,0.0,0.0,6.0,20.0,0.0,0.0,0.0,0.0,0.0,0.0,0.0,0.0,15.0,0.0,0.0,0.0,0.0,0.0,0.0,0.0,0.0,0.0,0.0,0.0,0.0,4.0,0.0,0.0,2.0,0.0,12.0,0.0,0.0,0.0,15.0,0.0,0.0,0.0,5.0,0.0,3.0,0.0,0.0,0.0,0.0,0.0,0.0,0.0,0.0,0.0,0.0,0.0,0.0,0.0,12.0,0.0,15.0,0.0,20.0,20.0,0.0,0.0,3.0,0.0,0.0,0.0,0.0,12.0,0.0,0.0,0.0,20.0,0.0,10.0,10.0,10.0,0.0,0.0,10.0,2.0,0.0,0.0,0.0,15.0,0.0,0.0,0.0,0.0,0.0,0.0,0.0,0.0,0.0,7.0,20.0,0.0,0.0,7.0,0.0,10.0,0.0,6.0,5.0,0.0,0.0,0.0,0.0,0.0,0.0,0.0,15.0,0.0,0.0,0.0,15.0,0.0,20.0,10.0,0.0,0.0,0.0,0.0,25.0,0.0,0.0,0.0,0.0,2.0,0.0,0.0,0.0,20.0,15.0,0.0,0.0,0.0,5.0,0.0,0.0,0.0,0.0,0.0,0.0,0.0,8.0,1.0,0.0,0.0,0.0,0.0,0.0,0.0,18.0,0.0,0.0,15.0,0.0,0.0,0.0,0.0,15.0,0.0,0.0,0.0,0.0,10.0,0.0,0.0,10.0,0.0,0.0,0.0,0.0,0.0,0.0,0.0,1.0,0.0,0.0,0.0,0.0,0.0,0.0,0.0,0.0,0.0,0.0,0.0,0.0,0.0,20.0,0.0,0.0,0.0,2.0,0.0,0.0,6.0,0.0,0.0,0.0,0.0,0.0,0.0,20.0,0.0,0.0,0.0,0.0,2.0,0.0,0.0,10.0,0.0,0.0,0.0,0.0,0.0,0.0,0.0,6.0,0.0,0.0,5.0,10.0,0.0,0.0,0.0,10.0,0.0,0.0,0.0,0.0,0.0,20.0,0.0,0.0,0.0,10.0,0.0,10.0,20.0,35.0,0.0,0.0,0.0,0.0,0.0,0.0,0.0,0.0,0.0,0.0,0.0,0.0,20.0,0.0,15.0,0.0,0.0,0.0,0.0,0.0,0.0,0.0,0.0,20.0,0.0,0.0,0.0,0.0,0.0,0.0,0.0,0.0,0.0,0.0,0.0,0.0,0.0,0.0,30.0,10.0,0.0,10.0,0.0,0.0,0.0,0.0,0.0,0.0,15.0,0.0,0.0,0.0,0.0,0.0,0.0,0.0,0.0,15.0,20.0,0.0,0.0,0.0,0.0,0.0,0.0,0.0,0.0,0.0,20.0,20.0,0.0,0.0,0.0,0.0,10.0,0.0,0.0,0.0,0.0,0.0,10.0,0.0,0.0,10.0,0.0,0.0,0.0,0.0,0.0,0.0,0.0,8.0,0.0,0.0,0.0,0.0,0.0,0.0,0.0,0.0,0.0,0.0,0.0,0.0,5.0,0.0,0.0,0.0,0.0,0.0,0.0,0.0,0.0,0.0,0.0,0.0,25.0,0.0,0.0,0.0,30.0,20.0,0.0,4.0,0.0,0.0,0.0,15.0,0.0,30.0,0.0,0.0,0.0,0.0,0.0,0.0,5.0,0.0,10.0,0.0,0.0,0.0,0.0,0.0,0.0,0.0,0.0,0.0,0.0,0.0,0.0,0.0,0.0,0.0,0.0,0.0,0.0,3.0,0.0,0.0,0.0,0.0,0.0,15.0,0.0,6.0,0.0,0.0,25.0,0.0,0.0,0.0,0.0,0.0,0.0,0.0,0.0,0.0,10.0,0.0,8.0,0.0,8.0,2.0,0.0,0.0,0.0,10.0,20.0,0.0,25.0,10.0,6.0,0.0,0.0,0.0,0.0,20.0,0.0,3.0,0.0,0.0,10.0,0.0,0.0,0.0,0.0,0.0,0.0,0.0,7.0,0.0,0.0,4.0,0.0,0.0,30.0,0.0,0.0,0.0,0.0,0.0,0.0,0.0,0.0,55.0,0.0,0.0,0.0,1.0,0.0,0.0,0.0,0.0,0.0,0.0,0.0,0.0,1.0,0.0,0.0,0.0,0.0,0.0,0.0,0.0,0.0,0.0,0.0,3.0,0.0,0.0,4.0,0.0,0.0,0.0,0.0,0.0,10.0,0.0,0.0,0.0,0.0,0.0,16.0,15.0,0.0,7.0,20.0,0.0,15.0,0.0,0.0,10.0,0.0,0.0,2.0,0.0,0.0,0.0,0.0,0.0,0.0,3.0,0.0,0.0,0.0,0.0,20.0,0.0,0.0,0.0,0.0,0.0,0.0,0.0,0.0,0.0,0.0,0.0,0.0,10.0,25.0,10.0,0.0,0.0,20.0,0.0,0.0,0.0,0.0,0.0,20.0,2.0,0.0,0.0,8.0,0.0,0.0,0.0,7.0,0.0,0.0,0.0,5.0,0.0,10.0,0.0,0.0,0.0,10.0,10.0,0.0,0.0,7.0,0.0,0.0,0.0,0.0,0.0,5.0,0.0,0.0,0.0,0.0,0.0,0.0,0.0,0.0,20.0,0.0,0.0,0.0,0.0,1.0,0.0,0.0,0.0,0.0,10.0,0.0,0.0,0.0,0.0,7.0,0.0,0.0,0.0,10.0,0.0,10.0,0.0,0.0,20.0,0.0,0.0,0.0,0.0,20.0,0.0,0.0,0.0,0.0,0.0,0.0,0.0,0.0,0.0,0.0,0.0,0.0,0.0,0.0,3.0,10.0,0.0,0.0,0.0,0.0,20.0,0.0,0.0,0.0,0.0,0.0,15.0,15.0,40.0,0.0,0.0,0.0,0.0,0.0,0.0,0.0,20.0,5.0,0.0,20.0,0.0,0.0,0.0,0.0,0.0,0.0,0.0,10.0,5.0,5.0,5.0,0.0,0.0,15.0,0.0,0.0,20.0,0.0,0.0,6.0,0.0,20.0,0.0,0.0,0.0,0.0,10.0,0.0,0.0,0.0,0.0,0.0,0.0,0.0,0.0,0.0,20.0,0.0,0.0,0.0,0.0,0.0,0.0,5.0,10.0,40.0,0.0,0.0,0.0,0.0,20.0,10.0,0.0,0.0,0.0,0.0,0.0,0.0,0.0,30.0,0.0,0.0,5.0,0.0,4.0,0.0,6.0,40.0,0.0,0.0,0.0,0.0,0.0,12.0,0.0,0.0,0.0,20.0,20.0,35.0,0.0,0.0,7.0,5.0,0.0,0.0,0.0,10.0,0.0,0.0,0.0,0.0,10.0,0.0,0.0,0.0,0.0,0.0,0.0,0.0,0.0,0.0,15.0,10.0,0.0,0.0,20.0,0.0,25.0,0.0,0.0,0.0,0.0,0.0,0.0,0.0,0.0,0.0,0.0,0.0,0.0,0.0,0.0,0.0,0.0,15.0,18.0,0.0,0.0,0.0,15.0,0.0,0.0,0.0,0.0,0.0,0.0,0.0,20.0,0.0,0.0,0.0,0.0,0.0,0.0,20.0,0.0,7.0,0.0,0.0,0.0,25.0,0.0,8.0,15.0,0.0,15.0,5.0,30.0,0.0,0.0,25.0,0.0,0.0,15.0,0.0,0.0,0.0,0.0,0.0,0.0,0.0,0.0,0.0,0.0,0.0,0.0,0.0,5.0,0.0,0.0,0.0,0.0,0.0,3.0,0.0,0.0,0.0,0.0,6.0,0.0,0.0,20.0,0.0,0.0,0.0,0.0,0.0,0.0,0.0,0.0,0.0,0.0,10.0,20.0,10.0,0.0,0.0,0.0,0.0,0.0,0.0,0.0,10.0,0.0,0.0,0.0,20.0,0.0,0.0,0.0,0.0,0.0,0.0,0.0,0.0,10.0,0.0,0.0,0.0,0.0,0.0,40.0,0.0,0.0,0.0,0.0,0.0,0.0,0.0,1.0,0.0,0.0,0.0,0.0,10.0,0.0,0.0,0.0,0.0,0.0,0.0,0.0,0.0,25.0,0.0,0.0,0.0,0.0,0.0,0.0,0.0,0.0,0.0,20.0,0.0,12.0,10.0,0.0,20.0,15.0,0.0,0.0,0.0,5.0,0.0,0.0,0.0,0.0,20.0,0.0,0.0,0.0,0.0,5.0,0.0,0.0,0.0,12.0,10.0,25.0,0.0,5.0,0.0,15.0,0.0,0.0,0.0,0.0,0.0,20.0,0.0,5.0,0.0,20.0,12.0,0.0,30.0,20.0,0.0,20.0,20.0,50.0,0.0,6.0,0.0,0.0,0.0,0.0,0.0,7.0,0.0,4.0,0.0,0.0,0.0,20.0,0.0,0.0,0.0,0.0,30.0,0.0,0.0,0.0,0.0,0.0,0.0,0.0,0.0,0.0,20.0,0.0,0.0,0.0,0.0,15.0,10.0,0.0,2.0,30.0,20.0,0.0,0.0,0.0,0.0,0.0,0.0,15.0,0.0,0.0,0.0,0.0,5.0,0.0,0.0,0.0,0.0,1.0,0.0,0.0,0.0,0.0,0.0,0.0,25.0,0.0,0.0,0.0,0.0,0.0,10.0,0.0,0.0,0.0,40.0,0.0,0.0,0.0,20.0,0.0,10.0,5.0,0.0,0.0,15.0,0.0,0.0,0.0,12.0,0.0,0.0,0.0,20.0,0.0,0.0,10.0,5.0,5.0,10.0,0.0,25.0,0.0,10.0,0.0,15.0,0.0,15.0,0.0,0.0,0.0,0.0,12.0,0.0,0.0,0.0,0.0,0.0,15.0,15.0,0.0,0.0,0.0,0.0,0.0,0.0,10.0,0.0,0.0,0.0,0.0,0.0,0.0,8.0,0.0,0.0,0.0,0.0,0.0,0.0,30.0,0.0,0.0,0.0,0.0,0.0,10.0,0.0,0.0,0.0,24.0,0.0,0.0,20.0,15.0,15.0,6.0,0.0,0.0,45.0,20.0,0.0,0.0,0.0,10.0,0.0,0.0,0.0,15.0,0.0,0.0,0.0,12.0,2.0,10.0,0.0,0.0,0.0,0.0,0.0,0.0,0.0,20.0,6.0,0.0,0.0,20.0,0.0,40.0,0.0,0.0,0.0,0.0,0.0,20.0,20.0,0.0,0.0,15.0,0.0,20.0,0.0,10.0,20.0,0.0,0.0,0.0,0.0,0.0,0.0,0.0,10.0,30.0,0.0,0.0,18.0,0.0,0.0,0.0,18.0,0.0,0.0,20.0,15.0,10.0,0.0,0.0,10.0,0.0,0.0,0.0,0.0,0.0,15.0,0.0,0.0,12.0,0.0,0.0,0.0,20.0,0.0,20.0,0.0],\"xaxis\":\"x\",\"yaxis\":\"y\",\"type\":\"histogram\",\"opacity\":0.7}],                        {\"template\":{\"data\":{\"histogram2dcontour\":[{\"type\":\"histogram2dcontour\",\"colorbar\":{\"outlinewidth\":0,\"ticks\":\"\"},\"colorscale\":[[0.0,\"#0d0887\"],[0.1111111111111111,\"#46039f\"],[0.2222222222222222,\"#7201a8\"],[0.3333333333333333,\"#9c179e\"],[0.4444444444444444,\"#bd3786\"],[0.5555555555555556,\"#d8576b\"],[0.6666666666666666,\"#ed7953\"],[0.7777777777777778,\"#fb9f3a\"],[0.8888888888888888,\"#fdca26\"],[1.0,\"#f0f921\"]]}],\"choropleth\":[{\"type\":\"choropleth\",\"colorbar\":{\"outlinewidth\":0,\"ticks\":\"\"}}],\"histogram2d\":[{\"type\":\"histogram2d\",\"colorbar\":{\"outlinewidth\":0,\"ticks\":\"\"},\"colorscale\":[[0.0,\"#0d0887\"],[0.1111111111111111,\"#46039f\"],[0.2222222222222222,\"#7201a8\"],[0.3333333333333333,\"#9c179e\"],[0.4444444444444444,\"#bd3786\"],[0.5555555555555556,\"#d8576b\"],[0.6666666666666666,\"#ed7953\"],[0.7777777777777778,\"#fb9f3a\"],[0.8888888888888888,\"#fdca26\"],[1.0,\"#f0f921\"]]}],\"heatmap\":[{\"type\":\"heatmap\",\"colorbar\":{\"outlinewidth\":0,\"ticks\":\"\"},\"colorscale\":[[0.0,\"#0d0887\"],[0.1111111111111111,\"#46039f\"],[0.2222222222222222,\"#7201a8\"],[0.3333333333333333,\"#9c179e\"],[0.4444444444444444,\"#bd3786\"],[0.5555555555555556,\"#d8576b\"],[0.6666666666666666,\"#ed7953\"],[0.7777777777777778,\"#fb9f3a\"],[0.8888888888888888,\"#fdca26\"],[1.0,\"#f0f921\"]]}],\"heatmapgl\":[{\"type\":\"heatmapgl\",\"colorbar\":{\"outlinewidth\":0,\"ticks\":\"\"},\"colorscale\":[[0.0,\"#0d0887\"],[0.1111111111111111,\"#46039f\"],[0.2222222222222222,\"#7201a8\"],[0.3333333333333333,\"#9c179e\"],[0.4444444444444444,\"#bd3786\"],[0.5555555555555556,\"#d8576b\"],[0.6666666666666666,\"#ed7953\"],[0.7777777777777778,\"#fb9f3a\"],[0.8888888888888888,\"#fdca26\"],[1.0,\"#f0f921\"]]}],\"contourcarpet\":[{\"type\":\"contourcarpet\",\"colorbar\":{\"outlinewidth\":0,\"ticks\":\"\"}}],\"contour\":[{\"type\":\"contour\",\"colorbar\":{\"outlinewidth\":0,\"ticks\":\"\"},\"colorscale\":[[0.0,\"#0d0887\"],[0.1111111111111111,\"#46039f\"],[0.2222222222222222,\"#7201a8\"],[0.3333333333333333,\"#9c179e\"],[0.4444444444444444,\"#bd3786\"],[0.5555555555555556,\"#d8576b\"],[0.6666666666666666,\"#ed7953\"],[0.7777777777777778,\"#fb9f3a\"],[0.8888888888888888,\"#fdca26\"],[1.0,\"#f0f921\"]]}],\"surface\":[{\"type\":\"surface\",\"colorbar\":{\"outlinewidth\":0,\"ticks\":\"\"},\"colorscale\":[[0.0,\"#0d0887\"],[0.1111111111111111,\"#46039f\"],[0.2222222222222222,\"#7201a8\"],[0.3333333333333333,\"#9c179e\"],[0.4444444444444444,\"#bd3786\"],[0.5555555555555556,\"#d8576b\"],[0.6666666666666666,\"#ed7953\"],[0.7777777777777778,\"#fb9f3a\"],[0.8888888888888888,\"#fdca26\"],[1.0,\"#f0f921\"]]}],\"mesh3d\":[{\"type\":\"mesh3d\",\"colorbar\":{\"outlinewidth\":0,\"ticks\":\"\"}}],\"scatter\":[{\"fillpattern\":{\"fillmode\":\"overlay\",\"size\":10,\"solidity\":0.2},\"type\":\"scatter\"}],\"parcoords\":[{\"type\":\"parcoords\",\"line\":{\"colorbar\":{\"outlinewidth\":0,\"ticks\":\"\"}}}],\"scatterpolargl\":[{\"type\":\"scatterpolargl\",\"marker\":{\"colorbar\":{\"outlinewidth\":0,\"ticks\":\"\"}}}],\"bar\":[{\"error_x\":{\"color\":\"#2a3f5f\"},\"error_y\":{\"color\":\"#2a3f5f\"},\"marker\":{\"line\":{\"color\":\"#E5ECF6\",\"width\":0.5},\"pattern\":{\"fillmode\":\"overlay\",\"size\":10,\"solidity\":0.2}},\"type\":\"bar\"}],\"scattergeo\":[{\"type\":\"scattergeo\",\"marker\":{\"colorbar\":{\"outlinewidth\":0,\"ticks\":\"\"}}}],\"scatterpolar\":[{\"type\":\"scatterpolar\",\"marker\":{\"colorbar\":{\"outlinewidth\":0,\"ticks\":\"\"}}}],\"histogram\":[{\"marker\":{\"pattern\":{\"fillmode\":\"overlay\",\"size\":10,\"solidity\":0.2}},\"type\":\"histogram\"}],\"scattergl\":[{\"type\":\"scattergl\",\"marker\":{\"colorbar\":{\"outlinewidth\":0,\"ticks\":\"\"}}}],\"scatter3d\":[{\"type\":\"scatter3d\",\"line\":{\"colorbar\":{\"outlinewidth\":0,\"ticks\":\"\"}},\"marker\":{\"colorbar\":{\"outlinewidth\":0,\"ticks\":\"\"}}}],\"scattermapbox\":[{\"type\":\"scattermapbox\",\"marker\":{\"colorbar\":{\"outlinewidth\":0,\"ticks\":\"\"}}}],\"scatterternary\":[{\"type\":\"scatterternary\",\"marker\":{\"colorbar\":{\"outlinewidth\":0,\"ticks\":\"\"}}}],\"scattercarpet\":[{\"type\":\"scattercarpet\",\"marker\":{\"colorbar\":{\"outlinewidth\":0,\"ticks\":\"\"}}}],\"carpet\":[{\"aaxis\":{\"endlinecolor\":\"#2a3f5f\",\"gridcolor\":\"white\",\"linecolor\":\"white\",\"minorgridcolor\":\"white\",\"startlinecolor\":\"#2a3f5f\"},\"baxis\":{\"endlinecolor\":\"#2a3f5f\",\"gridcolor\":\"white\",\"linecolor\":\"white\",\"minorgridcolor\":\"white\",\"startlinecolor\":\"#2a3f5f\"},\"type\":\"carpet\"}],\"table\":[{\"cells\":{\"fill\":{\"color\":\"#EBF0F8\"},\"line\":{\"color\":\"white\"}},\"header\":{\"fill\":{\"color\":\"#C8D4E3\"},\"line\":{\"color\":\"white\"}},\"type\":\"table\"}],\"barpolar\":[{\"marker\":{\"line\":{\"color\":\"#E5ECF6\",\"width\":0.5},\"pattern\":{\"fillmode\":\"overlay\",\"size\":10,\"solidity\":0.2}},\"type\":\"barpolar\"}],\"pie\":[{\"automargin\":true,\"type\":\"pie\"}]},\"layout\":{\"autotypenumbers\":\"strict\",\"colorway\":[\"#636efa\",\"#EF553B\",\"#00cc96\",\"#ab63fa\",\"#FFA15A\",\"#19d3f3\",\"#FF6692\",\"#B6E880\",\"#FF97FF\",\"#FECB52\"],\"font\":{\"color\":\"#2a3f5f\"},\"hovermode\":\"closest\",\"hoverlabel\":{\"align\":\"left\"},\"paper_bgcolor\":\"white\",\"plot_bgcolor\":\"#E5ECF6\",\"polar\":{\"bgcolor\":\"#E5ECF6\",\"angularaxis\":{\"gridcolor\":\"white\",\"linecolor\":\"white\",\"ticks\":\"\"},\"radialaxis\":{\"gridcolor\":\"white\",\"linecolor\":\"white\",\"ticks\":\"\"}},\"ternary\":{\"bgcolor\":\"#E5ECF6\",\"aaxis\":{\"gridcolor\":\"white\",\"linecolor\":\"white\",\"ticks\":\"\"},\"baxis\":{\"gridcolor\":\"white\",\"linecolor\":\"white\",\"ticks\":\"\"},\"caxis\":{\"gridcolor\":\"white\",\"linecolor\":\"white\",\"ticks\":\"\"}},\"coloraxis\":{\"colorbar\":{\"outlinewidth\":0,\"ticks\":\"\"}},\"colorscale\":{\"sequential\":[[0.0,\"#0d0887\"],[0.1111111111111111,\"#46039f\"],[0.2222222222222222,\"#7201a8\"],[0.3333333333333333,\"#9c179e\"],[0.4444444444444444,\"#bd3786\"],[0.5555555555555556,\"#d8576b\"],[0.6666666666666666,\"#ed7953\"],[0.7777777777777778,\"#fb9f3a\"],[0.8888888888888888,\"#fdca26\"],[1.0,\"#f0f921\"]],\"sequentialminus\":[[0.0,\"#0d0887\"],[0.1111111111111111,\"#46039f\"],[0.2222222222222222,\"#7201a8\"],[0.3333333333333333,\"#9c179e\"],[0.4444444444444444,\"#bd3786\"],[0.5555555555555556,\"#d8576b\"],[0.6666666666666666,\"#ed7953\"],[0.7777777777777778,\"#fb9f3a\"],[0.8888888888888888,\"#fdca26\"],[1.0,\"#f0f921\"]],\"diverging\":[[0,\"#8e0152\"],[0.1,\"#c51b7d\"],[0.2,\"#de77ae\"],[0.3,\"#f1b6da\"],[0.4,\"#fde0ef\"],[0.5,\"#f7f7f7\"],[0.6,\"#e6f5d0\"],[0.7,\"#b8e186\"],[0.8,\"#7fbc41\"],[0.9,\"#4d9221\"],[1,\"#276419\"]]},\"xaxis\":{\"gridcolor\":\"white\",\"linecolor\":\"white\",\"ticks\":\"\",\"title\":{\"standoff\":15},\"zerolinecolor\":\"white\",\"automargin\":true,\"zerolinewidth\":2},\"yaxis\":{\"gridcolor\":\"white\",\"linecolor\":\"white\",\"ticks\":\"\",\"title\":{\"standoff\":15},\"zerolinecolor\":\"white\",\"automargin\":true,\"zerolinewidth\":2},\"scene\":{\"xaxis\":{\"backgroundcolor\":\"#E5ECF6\",\"gridcolor\":\"white\",\"linecolor\":\"white\",\"showbackground\":true,\"ticks\":\"\",\"zerolinecolor\":\"white\",\"gridwidth\":2},\"yaxis\":{\"backgroundcolor\":\"#E5ECF6\",\"gridcolor\":\"white\",\"linecolor\":\"white\",\"showbackground\":true,\"ticks\":\"\",\"zerolinecolor\":\"white\",\"gridwidth\":2},\"zaxis\":{\"backgroundcolor\":\"#E5ECF6\",\"gridcolor\":\"white\",\"linecolor\":\"white\",\"showbackground\":true,\"ticks\":\"\",\"zerolinecolor\":\"white\",\"gridwidth\":2}},\"shapedefaults\":{\"line\":{\"color\":\"#2a3f5f\"}},\"annotationdefaults\":{\"arrowcolor\":\"#2a3f5f\",\"arrowhead\":0,\"arrowwidth\":1},\"geo\":{\"bgcolor\":\"white\",\"landcolor\":\"#E5ECF6\",\"subunitcolor\":\"white\",\"showland\":true,\"showlakes\":true,\"lakecolor\":\"white\"},\"title\":{\"x\":0.05},\"mapbox\":{\"style\":\"light\"}}},\"xaxis\":{\"anchor\":\"y\",\"domain\":[0.0,1.0],\"title\":{\"text\":\"amt_weekdays\"}},\"yaxis\":{\"anchor\":\"x\",\"domain\":[0.0,1.0],\"title\":{\"text\":\"count\"}},\"legend\":{\"tracegroupgap\":0},\"title\":{\"text\":\"Amount consumed over weekends Distribution\"},\"barmode\":\"relative\"},                        {\"responsive\": true}                    )                };                            </script>        </div>"
      ],
      "text/plain": [
       "Figure({\n",
       "    'data': [{'alignmentgroup': 'True',\n",
       "              'bingroup': 'x',\n",
       "              'hovertemplate': 'amt_weekdays=%{x}<br>count=%{y}<extra></extra>',\n",
       "              'legendgroup': '',\n",
       "              'marker': {'color': 'orange', 'pattern': {'shape': ''}},\n",
       "              'name': '',\n",
       "              'offsetgroup': '',\n",
       "              'opacity': 0.7,\n",
       "              'orientation': 'v',\n",
       "              'showlegend': False,\n",
       "              'type': 'histogram',\n",
       "              'x': array([ 0., 12.,  0., ...,  0., 20.,  0.]),\n",
       "              'xaxis': 'x',\n",
       "              'yaxis': 'y'}],\n",
       "    'layout': {'barmode': 'relative',\n",
       "               'legend': {'tracegroupgap': 0},\n",
       "               'template': '...',\n",
       "               'title': {'text': 'Amount consumed over weekends Distribution'},\n",
       "               'xaxis': {'anchor': 'y', 'domain': [0.0, 1.0], 'title': {'text': 'amt_weekdays'}},\n",
       "               'yaxis': {'anchor': 'x', 'domain': [0.0, 1.0], 'title': {'text': 'count'}}}\n",
       "})"
      ]
     },
     "execution_count": 40,
     "metadata": {},
     "output_type": "execute_result"
    }
   ],
   "source": [
    "hist_fig= px.histogram(dataset, x='amt_weekdays', title='Amount consumed over weekends Distribution')\n",
    "hist_fig.update_traces(marker_color='orange', opacity=0.7)"
   ]
  },
  {
   "cell_type": "markdown",
   "metadata": {
    "id": "jTkTWSwA3lik"
   },
   "source": [
    "Nhận xét:\n",
    "1. age: Phần lớn người trả lời tập trung ở độ tuổi 30 - 50\n",
    "2. amt_weekends: Phần lớn người trả lời số điếu thuốc sử dụng vào cuối tuần là 0\n",
    "3. amt_weekdays: Phần lớn người trả lời số điếu thuốc sử dụng các ngày trong tuần là 0"
   ]
  },
  {
   "cell_type": "markdown",
   "metadata": {
    "id": "tAE_STRX6h5I"
   },
   "source": [
    "#### 4.2. Phân tích đa biến"
   ]
  },
  {
   "cell_type": "markdown",
   "metadata": {
    "id": "12VOzIv3BCDm"
   },
   "source": [
    "* gender vs smoke"
   ]
  },
  {
   "cell_type": "code",
   "execution_count": 41,
   "metadata": {
    "colab": {
     "base_uri": "https://localhost:8080/",
     "height": 524
    },
    "executionInfo": {
     "elapsed": 420,
     "status": "ok",
     "timestamp": 1731902431257,
     "user": {
      "displayName": "Tuấn Quàng Lê Trần",
      "userId": "02554655782233207157"
     },
     "user_tz": -420
    },
    "id": "H9scyxHxBwOE",
    "outputId": "573f268e-ecfe-49f3-88dc-f8a04a79992b"
   },
   "outputs": [
    {
     "data": {
      "text/plain": [
       "<seaborn.axisgrid.FacetGrid at 0x1b85e1daa20>"
      ]
     },
     "execution_count": 41,
     "metadata": {},
     "output_type": "execute_result"
    },
    {
     "data": {
      "image/png": "[encoded data removed]",
      "text/plain": [
       "<Figure size 572.125x500 with 1 Axes>"
      ]
     },
     "metadata": {},
     "output_type": "display_data"
    }
   ],
   "source": [
    "sns.catplot(x=\"gender\", hue=\"smoke\", kind=\"count\", data=dataset)"
   ]
  },
  {
   "cell_type": "markdown",
   "metadata": {
    "id": "n-8P8NbUBYEn"
   },
   "source": [
    "* age vs smoke"
   ]
  },
  {
   "cell_type": "code",
   "execution_count": 42,
   "metadata": {
    "colab": {
     "base_uri": "https://localhost:8080/",
     "height": 525
    },
    "executionInfo": {
     "elapsed": 735,
     "status": "ok",
     "timestamp": 1731902433814,
     "user": {
      "displayName": "Tuấn Quàng Lê Trần",
      "userId": "02554655782233207157"
     },
     "user_tz": -420
    },
    "id": "3wpG3YkvBytz",
    "outputId": "2cc9c4b3-f495-49f6-8062-fae31b80bb4c"
   },
   "outputs": [
    {
     "data": {
      "text/plain": [
       "<seaborn.axisgrid.FacetGrid at 0x1b85e22d970>"
      ]
     },
     "execution_count": 42,
     "metadata": {},
     "output_type": "execute_result"
    },
    {
     "data": {
      "image/png": "[encoded data removed]",
      "text/plain": [
       "<Figure size 500x500 with 1 Axes>"
      ]
     },
     "metadata": {},
     "output_type": "display_data"
    }
   ],
   "source": [
    "sns.catplot(x=\"smoke\", y=\"age\", kind=\"box\", data=dataset, palette= 'Set2')"
   ]
  },
  {
   "cell_type": "markdown",
   "metadata": {
    "id": "ZM126XAYBbeY"
   },
   "source": [
    "* marital_status vs smoke"
   ]
  },
  {
   "cell_type": "code",
   "execution_count": 43,
   "metadata": {
    "colab": {
     "base_uri": "https://localhost:8080/",
     "height": 553
    },
    "executionInfo": {
     "elapsed": 791,
     "status": "ok",
     "timestamp": 1731902435978,
     "user": {
      "displayName": "Tuấn Quàng Lê Trần",
      "userId": "02554655782233207157"
     },
     "user_tz": -420
    },
    "id": "u6amYFanB11V",
    "outputId": "f2d004ca-a3ab-4ff4-b6cd-7e516eff0798"
   },
   "outputs": [
    {
     "data": {
      "image/png": "[encoded data removed]",
      "text/plain": [
       "<Figure size 572.125x500 with 1 Axes>"
      ]
     },
     "metadata": {},
     "output_type": "display_data"
    }
   ],
   "source": [
    "sns.catplot(x=\"marital_status\", hue=\"smoke\", kind=\"count\", data=dataset)\n",
    "plt.xticks(rotation=45)\n",
    "plt.show()"
   ]
  },
  {
   "cell_type": "markdown",
   "metadata": {
    "id": "u0o0EwiXBhrM"
   },
   "source": [
    "* nationality vs smoke"
   ]
  },
  {
   "cell_type": "code",
   "execution_count": 44,
   "metadata": {
    "colab": {
     "base_uri": "https://localhost:8080/",
     "height": 548
    },
    "executionInfo": {
     "elapsed": 642,
     "status": "ok",
     "timestamp": 1731902438457,
     "user": {
      "displayName": "Tuấn Quàng Lê Trần",
      "userId": "02554655782233207157"
     },
     "user_tz": -420
    },
    "id": "C88XC3AUB3qK",
    "outputId": "bf7baf99-3047-4b8d-a397-eb2ed9a2289c"
   },
   "outputs": [
    {
     "data": {
      "image/png": "[encoded data removed]",
      "text/plain": [
       "<Figure size 572.125x500 with 1 Axes>"
      ]
     },
     "metadata": {},
     "output_type": "display_data"
    }
   ],
   "source": [
    "sns.catplot(x=\"nationality\", hue=\"smoke\", kind=\"count\", data=dataset)\n",
    "plt.xticks(rotation=45)\n",
    "plt.show()"
   ]
  },
  {
   "cell_type": "markdown",
   "metadata": {
    "id": "XPJOrm3YBqI9"
   },
   "source": [
    "* ethnicity vs smoke"
   ]
  },
  {
   "cell_type": "code",
   "execution_count": 45,
   "metadata": {
    "colab": {
     "base_uri": "https://localhost:8080/",
     "height": 548
    },
    "executionInfo": {
     "elapsed": 435,
     "status": "ok",
     "timestamp": 1731902440339,
     "user": {
      "displayName": "Tuấn Quàng Lê Trần",
      "userId": "02554655782233207157"
     },
     "user_tz": -420
    },
    "id": "GoKhlG_9B6v8",
    "outputId": "4d193b55-0db2-4c16-d14f-28d23835a039"
   },
   "outputs": [
    {
     "data": {
      "image/png": "[encoded data removed]",
      "text/plain": [
       "<Figure size 572.125x500 with 1 Axes>"
      ]
     },
     "metadata": {},
     "output_type": "display_data"
    }
   ],
   "source": [
    "sns.catplot(x=\"ethnicity\", hue=\"smoke\", kind=\"count\", data=dataset)\n",
    "plt.xticks(rotation=45)\n",
    "plt.show()"
   ]
  },
  {
   "cell_type": "markdown",
   "metadata": {
    "id": "_Q7hMZ0YCbRH"
   },
   "source": [
    "* highest_qualification vs smoke"
   ]
  },
  {
   "cell_type": "code",
   "execution_count": 46,
   "metadata": {
    "colab": {
     "base_uri": "https://localhost:8080/",
     "height": 596
    },
    "executionInfo": {
     "elapsed": 585,
     "status": "ok",
     "timestamp": 1731902443879,
     "user": {
      "displayName": "Tuấn Quàng Lê Trần",
      "userId": "02554655782233207157"
     },
     "user_tz": -420
    },
    "id": "qbJiENlwC3PD",
    "outputId": "d1b5c7f9-8cbb-43f4-a658-b0c75046f1e2"
   },
   "outputs": [
    {
     "data": {
      "image/png": "[encoded data removed]",
      "text/plain": [
       "<Figure size 572.125x500 with 1 Axes>"
      ]
     },
     "metadata": {},
     "output_type": "display_data"
    }
   ],
   "source": [
    "ax = sns.catplot(x=\"highest_qualification\", hue=\"smoke\", kind=\"count\", data=dataset)\n",
    "ax.set_xticklabels(rotation=45, horizontalalignment='right')\n",
    "\n",
    "plt.show()"
   ]
  },
  {
   "cell_type": "markdown",
   "metadata": {
    "id": "TxPE4-rxCx4I"
   },
   "source": [
    "* gross_income vs smoke"
   ]
  },
  {
   "cell_type": "code",
   "execution_count": 47,
   "metadata": {
    "colab": {
     "base_uri": "https://localhost:8080/",
     "height": 587
    },
    "executionInfo": {
     "elapsed": 546,
     "status": "ok",
     "timestamp": 1731902446123,
     "user": {
      "displayName": "Tuấn Quàng Lê Trần",
      "userId": "02554655782233207157"
     },
     "user_tz": -420
    },
    "id": "G0Hq6KTrC_J3",
    "outputId": "2491b966-0a54-4609-f98f-c15fdeadcb23"
   },
   "outputs": [
    {
     "data": {
      "image/png": "[encoded data removed]",
      "text/plain": [
       "<Figure size 572.125x500 with 1 Axes>"
      ]
     },
     "metadata": {},
     "output_type": "display_data"
    }
   ],
   "source": [
    "ax = sns.catplot(x=\"gross_income\", hue=\"smoke\", kind=\"count\", data=dataset)\n",
    "ax.set_xticklabels(rotation=45, horizontalalignment='right')\n",
    "\n",
    "plt.show()"
   ]
  },
  {
   "cell_type": "markdown",
   "metadata": {
    "id": "wWjP4bYfCoGp"
   },
   "source": [
    "* region vs smoke"
   ]
  },
  {
   "cell_type": "code",
   "execution_count": 48,
   "metadata": {
    "colab": {
     "base_uri": "https://localhost:8080/",
     "height": 615
    },
    "executionInfo": {
     "elapsed": 890,
     "status": "ok",
     "timestamp": 1731902448557,
     "user": {
      "displayName": "Tuấn Quàng Lê Trần",
      "userId": "02554655782233207157"
     },
     "user_tz": -420
    },
    "id": "8tP7mvDIDFVJ",
    "outputId": "e34daede-da43-422c-85a2-490d0d1bc718"
   },
   "outputs": [
    {
     "data": {
      "image/png": "[encoded data removed]",
      "text/plain": [
       "<Figure size 572.125x500 with 1 Axes>"
      ]
     },
     "metadata": {},
     "output_type": "display_data"
    }
   ],
   "source": [
    "ax = sns.catplot(x=\"region\", hue=\"smoke\", kind=\"count\", data=dataset)\n",
    "ax.set_xticklabels(rotation=45, horizontalalignment='right')\n",
    "\n",
    "plt.show()"
   ]
  },
  {
   "cell_type": "markdown",
   "metadata": {
    "id": "wuh521ktDQyw"
   },
   "source": [
    "Nhận xét:\n"
   ]
  },
  {
   "cell_type": "markdown",
   "metadata": {
    "id": "TYkMp5zjrmQ5"
   },
   "source": [
    "### 5. Xây dựng tập dữ liệu train và test"
   ]
  },
  {
   "cell_type": "code",
   "execution_count": 49,
   "metadata": {
    "executionInfo": {
     "elapsed": 439,
     "status": "ok",
     "timestamp": 1731902451431,
     "user": {
      "displayName": "Tuấn Quàng Lê Trần",
      "userId": "02554655782233207157"
     },
     "user_tz": -420
    },
    "id": "g2VTLoehrsSM"
   },
   "outputs": [],
   "source": [
    "data = dataset"
   ]
  },
  {
   "cell_type": "markdown",
   "metadata": {
    "id": "mfDu4MICV5GN"
   },
   "source": [
    "* Loại bỏ các cột không cần thiết"
   ]
  },
  {
   "cell_type": "markdown",
   "metadata": {
    "id": "qd3OPI_caXZt"
   },
   "source": [
    "Vì mô hình sẽ dự đoán người nào hút thuốc vào người nào không hút thuốc, nên 3 cột 'type', 'amt_weekends', 'amt_weekdays' sẽ không có ý nghĩa để dự đoán."
   ]
  },
  {
   "cell_type": "code",
   "execution_count": 54,
   "metadata": {
    "executionInfo": {
     "elapsed": 308,
     "status": "ok",
     "timestamp": 1731902454363,
     "user": {
      "displayName": "Tuấn Quàng Lê Trần",
      "userId": "02554655782233207157"
     },
     "user_tz": -420
    },
    "id": "d4g2D3j1V8Fd"
   },
   "outputs": [],
   "source": [
    "drop_col = ['type', 'amt_weekends', 'amt_weekdays']\n",
    "dataset.drop(drop_col, axis=1, inplace=True, errors='ignore')\n"
   ]
  },
  {
   "cell_type": "code",
   "execution_count": 55,
   "metadata": {
    "colab": {
     "base_uri": "https://localhost:8080/",
     "height": 206
    },
    "executionInfo": {
     "elapsed": 511,
     "status": "ok",
     "timestamp": 1731902456220,
     "user": {
      "displayName": "Tuấn Quàng Lê Trần",
      "userId": "02554655782233207157"
     },
     "user_tz": -420
    },
    "id": "LgGg1rLzrs5l",
    "outputId": "20d183ed-55a8-4e46-b22e-3918728223d9"
   },
   "outputs": [
    {
     "data": {
      "text/html": [
       "<div>\n",
       "<style scoped>\n",
       "    .dataframe tbody tr th:only-of-type {\n",
       "        vertical-align: middle;\n",
       "    }\n",
       "\n",
       "    .dataframe tbody tr th {\n",
       "        vertical-align: top;\n",
       "    }\n",
       "\n",
       "    .dataframe thead th {\n",
       "        text-align: right;\n",
       "    }\n",
       "</style>\n",
       "<table border=\"1\" class=\"dataframe\">\n",
       "  <thead>\n",
       "    <tr style=\"text-align: right;\">\n",
       "      <th></th>\n",
       "      <th>gender</th>\n",
       "      <th>age</th>\n",
       "      <th>marital_status</th>\n",
       "      <th>highest_qualification</th>\n",
       "      <th>nationality</th>\n",
       "      <th>ethnicity</th>\n",
       "      <th>gross_income</th>\n",
       "      <th>region</th>\n",
       "      <th>smoke</th>\n",
       "    </tr>\n",
       "  </thead>\n",
       "  <tbody>\n",
       "    <tr>\n",
       "      <th>0</th>\n",
       "      <td>1</td>\n",
       "      <td>38</td>\n",
       "      <td>0</td>\n",
       "      <td>5</td>\n",
       "      <td>0</td>\n",
       "      <td>6</td>\n",
       "      <td>2</td>\n",
       "      <td>5</td>\n",
       "      <td>0</td>\n",
       "    </tr>\n",
       "    <tr>\n",
       "      <th>1</th>\n",
       "      <td>0</td>\n",
       "      <td>42</td>\n",
       "      <td>3</td>\n",
       "      <td>5</td>\n",
       "      <td>0</td>\n",
       "      <td>6</td>\n",
       "      <td>8</td>\n",
       "      <td>5</td>\n",
       "      <td>1</td>\n",
       "    </tr>\n",
       "    <tr>\n",
       "      <th>2</th>\n",
       "      <td>1</td>\n",
       "      <td>40</td>\n",
       "      <td>1</td>\n",
       "      <td>1</td>\n",
       "      <td>1</td>\n",
       "      <td>6</td>\n",
       "      <td>4</td>\n",
       "      <td>5</td>\n",
       "      <td>0</td>\n",
       "    </tr>\n",
       "    <tr>\n",
       "      <th>3</th>\n",
       "      <td>0</td>\n",
       "      <td>40</td>\n",
       "      <td>1</td>\n",
       "      <td>1</td>\n",
       "      <td>1</td>\n",
       "      <td>6</td>\n",
       "      <td>0</td>\n",
       "      <td>5</td>\n",
       "      <td>0</td>\n",
       "    </tr>\n",
       "    <tr>\n",
       "      <th>4</th>\n",
       "      <td>0</td>\n",
       "      <td>39</td>\n",
       "      <td>1</td>\n",
       "      <td>3</td>\n",
       "      <td>0</td>\n",
       "      <td>6</td>\n",
       "      <td>2</td>\n",
       "      <td>5</td>\n",
       "      <td>0</td>\n",
       "    </tr>\n",
       "  </tbody>\n",
       "</table>\n",
       "</div>"
      ],
      "text/plain": [
       "   gender  age  marital_status  highest_qualification  nationality  ethnicity  \\\n",
       "0       1   38               0                      5            0          6   \n",
       "1       0   42               3                      5            0          6   \n",
       "2       1   40               1                      1            1          6   \n",
       "3       0   40               1                      1            1          6   \n",
       "4       0   39               1                      3            0          6   \n",
       "\n",
       "   gross_income  region  smoke  \n",
       "0             2       5      0  \n",
       "1             8       5      1  \n",
       "2             4       5      0  \n",
       "3             0       5      0  \n",
       "4             2       5      0  "
      ]
     },
     "execution_count": 55,
     "metadata": {},
     "output_type": "execute_result"
    }
   ],
   "source": [
    "from sklearn.preprocessing import LabelEncoder\n",
    "\n",
    "label_encoder = LabelEncoder()\n",
    "\n",
    "data['gender'] = label_encoder.fit_transform(data['gender'])\n",
    "data['marital_status'] = label_encoder.fit_transform(data['marital_status'])\n",
    "data['highest_qualification'] = label_encoder.fit_transform(data['highest_qualification'])\n",
    "data['nationality'] = label_encoder.fit_transform(data['nationality'])\n",
    "data['ethnicity'] = label_encoder.fit_transform(data['ethnicity'])\n",
    "data['gross_income'] = label_encoder.fit_transform(data['gross_income'])\n",
    "data['smoke'] = label_encoder.fit_transform(data['smoke'])\n",
    "data['region'] = label_encoder.fit_transform(data['region'])\n",
    "# Kiểm tra kết quả\n",
    "data.head()"
   ]
  },
  {
   "cell_type": "code",
   "execution_count": 56,
   "metadata": {
    "colab": {
     "base_uri": "https://localhost:8080/"
    },
    "executionInfo": {
     "elapsed": 331,
     "status": "ok",
     "timestamp": 1731902460102,
     "user": {
      "displayName": "Tuấn Quàng Lê Trần",
      "userId": "02554655782233207157"
     },
     "user_tz": -420
    },
    "id": "6YBYaMfzGIYH",
    "outputId": "7359fe1b-8ce0-44e9-b75f-aa529766e96e"
   },
   "outputs": [
    {
     "name": "stdout",
     "output_type": "stream",
     "text": [
      "smoke                    1.000000\n",
      "age                      0.217299\n",
      "marital_status           0.050316\n",
      "gross_income             0.038541\n",
      "highest_qualification    0.032116\n",
      "nationality              0.027691\n",
      "ethnicity                0.019151\n",
      "gender                   0.017405\n",
      "region                   0.000422\n",
      "Name: smoke, dtype: float64\n"
     ]
    }
   ],
   "source": [
    "#kiểm tra độ tương quan các biến\n",
    "print(data.corr()[\"smoke\"].abs().sort_values(ascending=False))"
   ]
  },
  {
   "cell_type": "markdown",
   "metadata": {
    "id": "BGp3u-slbE8H"
   },
   "source": [
    "Loại bỏ cột region vì mối tương quan của nó với smoke quá thấp"
   ]
  },
  {
   "cell_type": "code",
   "execution_count": 57,
   "metadata": {
    "executionInfo": {
     "elapsed": 354,
     "status": "ok",
     "timestamp": 1731902472077,
     "user": {
      "displayName": "Tuấn Quàng Lê Trần",
      "userId": "02554655782233207157"
     },
     "user_tz": -420
    },
    "id": "99K6KlIIHU6z"
   },
   "outputs": [],
   "source": [
    "cols_to_drop=['region']\n",
    "data.drop(cols_to_drop,axis=1,inplace=True)"
   ]
  },
  {
   "cell_type": "code",
   "execution_count": 58,
   "metadata": {
    "colab": {
     "base_uri": "https://localhost:8080/"
    },
    "executionInfo": {
     "elapsed": 11,
     "status": "ok",
     "timestamp": 1731902473584,
     "user": {
      "displayName": "Tuấn Quàng Lê Trần",
      "userId": "02554655782233207157"
     },
     "user_tz": -420
    },
    "id": "uWtORoh2I5GY",
    "outputId": "c35af8e1-9180-45fb-a1c3-fc8ef167c5f0"
   },
   "outputs": [
    {
     "name": "stdout",
     "output_type": "stream",
     "text": [
      "<class 'pandas.core.frame.DataFrame'>\n",
      "Index: 1670 entries, 0 to 1690\n",
      "Data columns (total 8 columns):\n",
      " #   Column                 Non-Null Count  Dtype\n",
      "---  ------                 --------------  -----\n",
      " 0   gender                 1670 non-null   int64\n",
      " 1   age                    1670 non-null   int64\n",
      " 2   marital_status         1670 non-null   int64\n",
      " 3   highest_qualification  1670 non-null   int64\n",
      " 4   nationality            1670 non-null   int64\n",
      " 5   ethnicity              1670 non-null   int64\n",
      " 6   gross_income           1670 non-null   int64\n",
      " 7   smoke                  1670 non-null   int64\n",
      "dtypes: int64(8)\n",
      "memory usage: 182.0 KB\n"
     ]
    }
   ],
   "source": [
    "data.info()"
   ]
  },
  {
   "cell_type": "code",
   "execution_count": 59,
   "metadata": {
    "executionInfo": {
     "elapsed": 362,
     "status": "ok",
     "timestamp": 1731902476600,
     "user": {
      "displayName": "Tuấn Quàng Lê Trần",
      "userId": "02554655782233207157"
     },
     "user_tz": -420
    },
    "id": "DRbLUOm0Itz-"
   },
   "outputs": [],
   "source": [
    "from sklearn.model_selection import train_test_split\n",
    "\n",
    "predictors = data.drop(\"smoke\",axis=1)\n",
    "target = dataset[\"smoke\"]\n",
    "\n",
    "x_train,x_test,y_train,y_test = train_test_split(predictors,target,test_size=0.2,random_state=0)"
   ]
  },
  {
   "cell_type": "code",
   "execution_count": 60,
   "metadata": {
    "colab": {
     "base_uri": "https://localhost:8080/"
    },
    "executionInfo": {
     "elapsed": 466,
     "status": "ok",
     "timestamp": 1731902478966,
     "user": {
      "displayName": "Tuấn Quàng Lê Trần",
      "userId": "02554655782233207157"
     },
     "user_tz": -420
    },
    "id": "uIdhfWptI57s",
    "outputId": "b85c30eb-2740-4b34-8953-7822328521ff"
   },
   "outputs": [
    {
     "data": {
      "text/plain": [
       "(1336, 7)"
      ]
     },
     "execution_count": 60,
     "metadata": {},
     "output_type": "execute_result"
    }
   ],
   "source": [
    "x_train.shape"
   ]
  },
  {
   "cell_type": "code",
   "execution_count": 61,
   "metadata": {
    "colab": {
     "base_uri": "https://localhost:8080/"
    },
    "executionInfo": {
     "elapsed": 514,
     "status": "ok",
     "timestamp": 1731902482029,
     "user": {
      "displayName": "Tuấn Quàng Lê Trần",
      "userId": "02554655782233207157"
     },
     "user_tz": -420
    },
    "id": "8GL0qAM5I9g7",
    "outputId": "0e87cfca-48a9-4aed-eee1-f60dbe14e07a"
   },
   "outputs": [
    {
     "data": {
      "text/plain": [
       "(334, 7)"
      ]
     },
     "execution_count": 61,
     "metadata": {},
     "output_type": "execute_result"
    }
   ],
   "source": [
    "x_test.shape"
   ]
  },
  {
   "cell_type": "code",
   "execution_count": 62,
   "metadata": {
    "colab": {
     "base_uri": "https://localhost:8080/"
    },
    "executionInfo": {
     "elapsed": 354,
     "status": "ok",
     "timestamp": 1731902482825,
     "user": {
      "displayName": "Tuấn Quàng Lê Trần",
      "userId": "02554655782233207157"
     },
     "user_tz": -420
    },
    "id": "6EL21b3tJBkp",
    "outputId": "94786d14-aa81-4112-cff1-70287fd79677"
   },
   "outputs": [
    {
     "data": {
      "text/plain": [
       "(1336,)"
      ]
     },
     "execution_count": 62,
     "metadata": {},
     "output_type": "execute_result"
    }
   ],
   "source": [
    "y_train.shape"
   ]
  },
  {
   "cell_type": "code",
   "execution_count": 63,
   "metadata": {
    "colab": {
     "base_uri": "https://localhost:8080/"
    },
    "executionInfo": {
     "elapsed": 10,
     "status": "ok",
     "timestamp": 1731902483619,
     "user": {
      "displayName": "Tuấn Quàng Lê Trần",
      "userId": "02554655782233207157"
     },
     "user_tz": -420
    },
    "id": "cCi9dEMcJCB6",
    "outputId": "20c5a9e3-dce2-4e85-af75-6a6463f3b18c"
   },
   "outputs": [
    {
     "data": {
      "text/plain": [
       "(334,)"
      ]
     },
     "execution_count": 63,
     "metadata": {},
     "output_type": "execute_result"
    }
   ],
   "source": [
    "y_test.shape"
   ]
  },
  {
   "cell_type": "markdown",
   "metadata": {
    "id": "W8-Yrlvdcmd4"
   },
   "source": [
    "### 6. Xây dựng mô hình"
   ]
  },
  {
   "cell_type": "markdown",
   "metadata": {
    "id": "OAJV8kcfcw1V"
   },
   "source": [
    "#### 6.1. Mô hình hồi quy Logistic"
   ]
  },
  {
   "cell_type": "code",
   "execution_count": 64,
   "metadata": {
    "executionInfo": {
     "elapsed": 311,
     "status": "ok",
     "timestamp": 1731902486977,
     "user": {
      "displayName": "Tuấn Quàng Lê Trần",
      "userId": "02554655782233207157"
     },
     "user_tz": -420
    },
    "id": "LApx95N2JK4q"
   },
   "outputs": [],
   "source": [
    "from sklearn.metrics import accuracy_score"
   ]
  },
  {
   "cell_type": "code",
   "execution_count": 65,
   "metadata": {
    "colab": {
     "base_uri": "https://localhost:8080/"
    },
    "executionInfo": {
     "elapsed": 8,
     "status": "ok",
     "timestamp": 1731902488259,
     "user": {
      "displayName": "Tuấn Quàng Lê Trần",
      "userId": "02554655782233207157"
     },
     "user_tz": -420
    },
    "id": "-nTam9_EJMFq",
    "outputId": "f9c4b524-eb17-45b3-c751-32a3fd4f0458"
   },
   "outputs": [
    {
     "name": "stdout",
     "output_type": "stream",
     "text": [
      "              precision    recall  f1-score   support\n",
      "\n",
      "           0       0.76      0.98      0.85       252\n",
      "           1       0.40      0.05      0.09        82\n",
      "\n",
      "    accuracy                           0.75       334\n",
      "   macro avg       0.58      0.51      0.47       334\n",
      "weighted avg       0.67      0.75      0.67       334\n",
      "\n"
     ]
    }
   ],
   "source": [
    "from sklearn.linear_model import LogisticRegression\n",
    "\n",
    "lr = LogisticRegression()\n",
    "\n",
    "lr.fit(x_train,y_train)\n",
    "\n",
    "y_pred_lr = lr.predict(x_test)\n",
    "\n",
    "accuracy1 = accuracy_score(y_test, y_pred_lr)\n",
    "accuracy_lr=accuracy1\n",
    "print(classification_report(y_test, y_pred_lr))"
   ]
  },
  {
   "cell_type": "code",
   "execution_count": 66,
   "metadata": {
    "colab": {
     "base_uri": "https://localhost:8080/"
    },
    "executionInfo": {
     "elapsed": 758,
     "status": "ok",
     "timestamp": 1731902492150,
     "user": {
      "displayName": "Tuấn Quàng Lê Trần",
      "userId": "02554655782233207157"
     },
     "user_tz": -420
    },
    "id": "njAvruJEiqoJ",
    "outputId": "ba18d3b8-d485-4440-fbc9-7491bebf8d64"
   },
   "outputs": [
    {
     "name": "stdout",
     "output_type": "stream",
     "text": [
      "[0 0 1 0 0 0 0 0 0 0 0 0 1 0 0 0 0 0 0 0 0 1 0 0 0 1 0 0 0 1 0 0 0 0 0 0 0\n",
      " 1 0 0 0 0 0 0 0 1 0 0 0 0 0 0 0 0 0 0 1 0 0 1 1 1 1 0 0 0 0 0 1 1 0 0 0 0\n",
      " 0 0 1 0 0 0 0 0 0 0 0 0 0 0 0 0 0 0 0 0 0 1 0 0 1 1 0 0 1 0 0 0 0 0 0 0 0\n",
      " 1 0 0 0 0 0 0 0 0 1 1 0 1 0 0 0 0 0 0 0 1 1 1 0 0 0 0 0 1 0 1 0 1 0 1 0 0\n",
      " 0 1 1 0 1 0 0 1 1 1 0 0 0 0 1 1 0 1 0 0 0 0 0 0 0 1 0 0 0 0 1 1 0 0 0 0 0\n",
      " 0 0 0 1 0 0 0 0 1 0 0 1 1 0 0 1 0 1 0 0 0 0 0 0 1 0 0 0 0 0 0 1 1 0 0 0 0\n",
      " 1 0 1 0 1 1 0 0 1 1 0 0 0 0 0 0 1 0 0 0 0 1 0 1 0 0 0 0 0 0 1 0 0 0 0 0 1\n",
      " 0 0 0 0 0 0 0 0 0 1 0 0 0 1 0 0 0 0 0 0 0 0 0 0 0 0 1 0 1 1 0 0 1 1 0 0 1\n",
      " 0 0 0 0 0 0 1 0 0 1 0 1 0 1 1 0 0 0 0 0 0 1 0 0 1 1 0 0 0 0 1 1 0 0 0 1 0\n",
      " 1]\n"
     ]
    }
   ],
   "source": [
    "y_array = y_test.to_numpy()  # Trả về mảng NumPy\n",
    "print (y_array)"
   ]
  },
  {
   "cell_type": "code",
   "execution_count": 67,
   "metadata": {
    "colab": {
     "base_uri": "https://localhost:8080/"
    },
    "executionInfo": {
     "elapsed": 6,
     "status": "ok",
     "timestamp": 1731902493398,
     "user": {
      "displayName": "Tuấn Quàng Lê Trần",
      "userId": "02554655782233207157"
     },
     "user_tz": -420
    },
    "id": "E2JxYxrYg2pk",
    "outputId": "159d99e5-033d-4362-9162-7253b6cb1f84"
   },
   "outputs": [
    {
     "name": "stdout",
     "output_type": "stream",
     "text": [
      "[0 0 0 0 0 0 0 0 0 0 0 0 0 0 0 0 0 0 0 0 0 0 0 0 0 0 0 0 0 0 0 0 0 0 0 0 1\n",
      " 0 0 0 0 0 0 0 0 0 0 0 0 0 0 0 0 0 0 0 0 0 0 0 0 0 0 0 0 0 0 0 0 0 0 0 0 0\n",
      " 0 0 0 0 0 0 0 0 0 0 0 0 0 0 0 0 0 0 0 0 0 0 0 0 0 0 0 0 0 0 0 0 0 0 0 0 0\n",
      " 0 0 0 0 0 0 0 0 0 0 0 0 0 0 0 0 0 0 0 0 0 0 0 0 0 0 0 0 1 0 0 1 0 0 0 0 0\n",
      " 0 0 0 0 0 0 0 0 0 0 0 0 0 0 0 0 0 0 0 0 0 0 0 0 0 0 0 0 0 0 0 0 1 0 0 0 0\n",
      " 0 0 0 0 0 0 0 0 0 0 0 0 1 0 0 0 0 0 0 0 0 0 0 0 0 0 1 0 1 0 0 0 0 0 0 0 0\n",
      " 0 0 0 0 0 0 0 0 0 1 0 0 0 0 0 0 0 0 0 0 0 1 0 0 0 0 0 0 0 0 0 0 0 0 0 0 0\n",
      " 0 0 0 0 0 0 0 0 0 0 0 0 0 0 1 0 0 0 0 0 0 0 0 0 0 0 0 0 0 0 0 0 0 0 0 0 0\n",
      " 0 0 0 0 0 0 0 0 0 0 0 0 0 0 0 0 0 0 0 0 0 0 0 0 0 0 0 0 0 0 0 0 0 0 0 0 0\n",
      " 0]\n"
     ]
    }
   ],
   "source": [
    "print (y_pred_lr)"
   ]
  },
  {
   "cell_type": "markdown",
   "metadata": {
    "id": "y4uYob-zc69l"
   },
   "source": [
    "#### 6.2. Mô hình SVM"
   ]
  },
  {
   "cell_type": "code",
   "execution_count": 68,
   "metadata": {
    "colab": {
     "base_uri": "https://localhost:8080/"
    },
    "executionInfo": {
     "elapsed": 337,
     "status": "ok",
     "timestamp": 1731902494776,
     "user": {
      "displayName": "Tuấn Quàng Lê Trần",
      "userId": "02554655782233207157"
     },
     "user_tz": -420
    },
    "id": "D83_CKcBJS-K",
    "outputId": "2171f913-606c-4479-99f7-06ea0765d84b"
   },
   "outputs": [
    {
     "name": "stdout",
     "output_type": "stream",
     "text": [
      "              precision    recall  f1-score   support\n",
      "\n",
      "           0       0.75      1.00      0.86       252\n",
      "           1       0.00      0.00      0.00        82\n",
      "\n",
      "    accuracy                           0.75       334\n",
      "   macro avg       0.38      0.50      0.43       334\n",
      "weighted avg       0.57      0.75      0.65       334\n",
      "\n"
     ]
    }
   ],
   "source": [
    "from sklearn import svm\n",
    "\n",
    "sv = svm.SVC(kernel='linear')\n",
    "\n",
    "sv.fit(x_train, y_train)\n",
    "\n",
    "y_pred_svm = sv.predict(x_test)\n",
    "accuracy2 = accuracy_score(y_test, y_pred_svm)\n",
    "accuracy_svm=accuracy2\n",
    "print(classification_report(y_test, y_pred_svm))"
   ]
  },
  {
   "cell_type": "code",
   "execution_count": 69,
   "metadata": {
    "colab": {
     "base_uri": "https://localhost:8080/"
    },
    "executionInfo": {
     "elapsed": 336,
     "status": "ok",
     "timestamp": 1731902496945,
     "user": {
      "displayName": "Tuấn Quàng Lê Trần",
      "userId": "02554655782233207157"
     },
     "user_tz": -420
    },
    "id": "Zs8Tdk9cgTvN",
    "outputId": "1181e32b-fa38-488b-9262-9b5902f2c82c"
   },
   "outputs": [
    {
     "name": "stdout",
     "output_type": "stream",
     "text": [
      "[0 0 0 0 0 0 0 0 0 0 0 0 0 0 0 0 0 0 0 0 0 0 0 0 0 0 0 0 0 0 0 0 0 0 0 0 0\n",
      " 0 0 0 0 0 0 0 0 0 0 0 0 0 0 0 0 0 0 0 0 0 0 0 0 0 0 0 0 0 0 0 0 0 0 0 0 0\n",
      " 0 0 0 0 0 0 0 0 0 0 0 0 0 0 0 0 0 0 0 0 0 0 0 0 0 0 0 0 0 0 0 0 0 0 0 0 0\n",
      " 0 0 0 0 0 0 0 0 0 0 0 0 0 0 0 0 0 0 0 0 0 0 0 0 0 0 0 0 0 0 0 0 0 0 0 0 0\n",
      " 0 0 0 0 0 0 0 0 0 0 0 0 0 0 0 0 0 0 0 0 0 0 0 0 0 0 0 0 0 0 0 0 0 0 0 0 0\n",
      " 0 0 0 0 0 0 0 0 0 0 0 0 0 0 0 0 0 0 0 0 0 0 0 0 0 0 0 0 0 0 0 0 0 0 0 0 0\n",
      " 0 0 0 0 0 0 0 0 0 0 0 0 0 0 0 0 0 0 0 0 0 0 0 0 0 0 0 0 0 0 0 0 0 0 0 0 0\n",
      " 0 0 0 0 0 0 0 0 0 0 0 0 0 0 0 0 0 0 0 0 0 0 0 0 0 0 0 0 0 0 0 0 0 0 0 0 0\n",
      " 0 0 0 0 0 0 0 0 0 0 0 0 0 0 0 0 0 0 0 0 0 0 0 0 0 0 0 0 0 0 0 0 0 0 0 0 0\n",
      " 0]\n"
     ]
    }
   ],
   "source": [
    "print(y_pred_svm)"
   ]
  },
  {
   "cell_type": "markdown",
   "metadata": {
    "id": "hrr90J_zdDxJ"
   },
   "source": [
    "#### 6.3. Mô hình Cây quyết định"
   ]
  },
  {
   "cell_type": "code",
   "execution_count": 70,
   "metadata": {
    "colab": {
     "base_uri": "https://localhost:8080/"
    },
    "executionInfo": {
     "elapsed": 342,
     "status": "ok",
     "timestamp": 1731902498915,
     "user": {
      "displayName": "Tuấn Quàng Lê Trần",
      "userId": "02554655782233207157"
     },
     "user_tz": -420
    },
    "id": "q4Q9MkN-KGSh",
    "outputId": "d767397d-59c8-4432-bd83-146bf81b9af2"
   },
   "outputs": [
    {
     "name": "stdout",
     "output_type": "stream",
     "text": [
      "              precision    recall  f1-score   support\n",
      "\n",
      "           0       0.79      0.73      0.76       252\n",
      "           1       0.32      0.39      0.35        82\n",
      "\n",
      "    accuracy                           0.65       334\n",
      "   macro avg       0.55      0.56      0.55       334\n",
      "weighted avg       0.67      0.65      0.66       334\n",
      "\n"
     ]
    }
   ],
   "source": [
    "from sklearn.tree import DecisionTreeClassifier\n",
    "DT= DecisionTreeClassifier()\n",
    "DT.fit(x_train,y_train)\n",
    "y_pred_dt = DT.predict(x_test)\n",
    "accuracy3 = accuracy_score(y_test, y_pred_dt)\n",
    "accuracy_dt=accuracy3\n",
    "print(classification_report(y_test, y_pred_dt))"
   ]
  },
  {
   "cell_type": "markdown",
   "metadata": {
    "id": "BhC9G6ZheNxF"
   },
   "source": [
    "#### 6.4. Mô hình RandomForest"
   ]
  },
  {
   "cell_type": "code",
   "execution_count": 71,
   "metadata": {
    "colab": {
     "base_uri": "https://localhost:8080/"
    },
    "executionInfo": {
     "elapsed": 533,
     "status": "ok",
     "timestamp": 1731902502325,
     "user": {
      "displayName": "Tuấn Quàng Lê Trần",
      "userId": "02554655782233207157"
     },
     "user_tz": -420
    },
    "id": "Uw7TDqTLK2ge",
    "outputId": "07615bcb-1458-4106-976f-194788c6f020"
   },
   "outputs": [
    {
     "name": "stdout",
     "output_type": "stream",
     "text": [
      "              precision    recall  f1-score   support\n",
      "\n",
      "           0       0.78      0.88      0.83       252\n",
      "           1       0.38      0.22      0.28        82\n",
      "\n",
      "    accuracy                           0.72       334\n",
      "   macro avg       0.58      0.55      0.55       334\n",
      "weighted avg       0.68      0.72      0.69       334\n",
      "\n"
     ]
    }
   ],
   "source": [
    "from sklearn.ensemble import RandomForestClassifier\n",
    "rf_model = RandomForestClassifier(n_estimators=100, random_state=42)\n",
    "rf_model.fit(x_train, y_train)\n",
    "rf_model.fit(x_train, y_train)\n",
    "y_pred_rf = rf_model.predict(x_test)\n",
    "accuracy4 = accuracy_score(y_test, y_pred_rf)\n",
    "accuracy_rf=accuracy4\n",
    "print(classification_report(y_test, y_pred_rf))"
   ]
  },
  {
   "cell_type": "code",
   "execution_count": 72,
   "metadata": {
    "colab": {
     "base_uri": "https://localhost:8080/"
    },
    "executionInfo": {
     "elapsed": 329,
     "status": "ok",
     "timestamp": 1731902504610,
     "user": {
      "displayName": "Tuấn Quàng Lê Trần",
      "userId": "02554655782233207157"
     },
     "user_tz": -420
    },
    "id": "KAfgSSoTVWjj",
    "outputId": "a3c6a715-fe67-4ef1-d9dc-616d7922f7c1"
   },
   "outputs": [
    {
     "name": "stdout",
     "output_type": "stream",
     "text": [
      "[0 0 1 0 0 0 0 0 0 0 0 0 1 0 0 0 0 0 0 0 0 1 0 0 0 1 0 0 0 1 0 0 0 0 0 0 0\n",
      " 1 0 0 0 0 0 0 0 1 0 0 0 0 0 0 0 0 0 0 1 0 0 1 1 1 1 0 0 0 0 0 1 1 0 0 0 0\n",
      " 0 0 1 0 0 0 0 0 0 0 0 0 0 0 0 0 0 0 0 0 0 1 0 0 1 1 0 0 1 0 0 0 0 0 0 0 0\n",
      " 1 0 0 0 0 0 0 0 0 1 1 0 1 0 0 0 0 0 0 0 1 1 1 0 0 0 0 0 1 0 1 0 1 0 1 0 0\n",
      " 0 1 1 0 1 0 0 1 1 1 0 0 0 0 1 1 0 1 0 0 0 0 0 0 0 1 0 0 0 0 1 1 0 0 0 0 0\n",
      " 0 0 0 1 0 0 0 0 1 0 0 1 1 0 0 1 0 1 0 0 0 0 0 0 1 0 0 0 0 0 0 1 1 0 0 0 0\n",
      " 1 0 1 0 1 1 0 0 1 1 0 0 0 0 0 0 1 0 0 0 0 1 0 1 0 0 0 0 0 0 1 0 0 0 0 0 1\n",
      " 0 0 0 0 0 0 0 0 0 1 0 0 0 1 0 0 0 0 0 0 0 0 0 0 0 0 1 0 1 1 0 0 1 1 0 0 1\n",
      " 0 0 0 0 0 0 1 0 0 1 0 1 0 1 1 0 0 0 0 0 0 1 0 0 1 1 0 0 0 0 1 1 0 0 0 1 0\n",
      " 1]\n"
     ]
    }
   ],
   "source": [
    "y_array = y_test.to_numpy()  # Trả về mảng NumPy\n",
    "print (y_array)"
   ]
  },
  {
   "cell_type": "code",
   "execution_count": 73,
   "metadata": {
    "colab": {
     "base_uri": "https://localhost:8080/"
    },
    "executionInfo": {
     "elapsed": 319,
     "status": "ok",
     "timestamp": 1731902506671,
     "user": {
      "displayName": "Tuấn Quàng Lê Trần",
      "userId": "02554655782233207157"
     },
     "user_tz": -420
    },
    "id": "2WC8eVP5VY_m",
    "outputId": "726b41dc-6008-494c-f27e-890a7c8a7f90"
   },
   "outputs": [
    {
     "name": "stdout",
     "output_type": "stream",
     "text": [
      "[0 0 0 0 0 0 0 1 0 0 0 0 0 0 0 0 0 0 0 0 0 0 0 0 1 1 0 0 0 0 0 0 0 0 0 0 1\n",
      " 0 0 0 0 0 0 0 0 1 0 0 0 0 0 1 0 0 0 1 0 0 1 1 0 0 0 0 1 0 0 0 0 0 0 0 0 0\n",
      " 0 0 1 0 0 0 0 1 0 0 0 0 0 0 0 0 0 0 0 0 1 1 0 0 0 0 0 0 1 0 0 0 0 0 0 0 0\n",
      " 0 0 1 1 0 0 0 1 0 0 1 0 0 0 0 0 0 0 0 0 0 1 0 0 0 0 0 0 0 0 0 0 0 0 0 0 0\n",
      " 1 0 0 0 0 0 0 0 0 0 0 1 0 0 0 1 0 0 0 1 0 0 0 0 0 1 0 0 0 0 1 1 0 0 0 0 0\n",
      " 0 0 0 0 0 0 0 0 1 0 0 0 1 0 0 0 0 0 1 0 0 0 0 0 0 0 1 0 1 1 1 1 0 0 0 0 1\n",
      " 0 0 0 0 0 0 0 0 0 0 0 0 0 1 0 0 1 0 0 0 1 0 0 0 0 0 1 0 0 0 0 0 0 0 0 0 0\n",
      " 0 0 0 1 0 0 0 0 0 0 0 0 0 0 0 0 0 0 0 0 0 0 1 0 0 0 0 0 0 0 0 0 0 0 0 0 0\n",
      " 1 0 0 0 0 0 0 0 0 0 0 0 1 1 0 0 0 0 1 0 0 0 0 0 0 0 0 0 0 0 0 0 0 0 0 1 0\n",
      " 0]\n"
     ]
    }
   ],
   "source": [
    "print (y_pred_rf)"
   ]
  },
  {
   "cell_type": "markdown",
   "metadata": {
    "id": "V6V488feeT1V"
   },
   "source": [
    "#### 6.5. Mô hình KNN"
   ]
  },
  {
   "cell_type": "code",
   "execution_count": 74,
   "metadata": {
    "colab": {
     "base_uri": "https://localhost:8080/"
    },
    "executionInfo": {
     "elapsed": 541,
     "status": "ok",
     "timestamp": 1731902508681,
     "user": {
      "displayName": "Tuấn Quàng Lê Trần",
      "userId": "02554655782233207157"
     },
     "user_tz": -420
    },
    "id": "9E1KpsNKLoFW",
    "outputId": "7ac10342-e0aa-40f8-ffac-558dd750796c"
   },
   "outputs": [
    {
     "name": "stdout",
     "output_type": "stream",
     "text": [
      "              precision    recall  f1-score   support\n",
      "\n",
      "           0       0.79      0.87      0.83       252\n",
      "           1       0.42      0.28      0.34        82\n",
      "\n",
      "    accuracy                           0.73       334\n",
      "   macro avg       0.60      0.58      0.58       334\n",
      "weighted avg       0.70      0.73      0.71       334\n",
      "\n"
     ]
    }
   ],
   "source": [
    "from sklearn.neighbors import KNeighborsClassifier\n",
    "knn_model = KNeighborsClassifier(n_neighbors=5)\n",
    "knn_model.fit(x_train, y_train)\n",
    "y_pred_knn = knn_model.predict(x_test)\n",
    "accuracy5 = accuracy_score(y_test, y_pred_knn)\n",
    "accuracy_knn=accuracy5\n",
    "print(classification_report(y_test, y_pred_knn))"
   ]
  },
  {
   "cell_type": "code",
   "execution_count": 75,
   "metadata": {
    "colab": {
     "base_uri": "https://localhost:8080/"
    },
    "executionInfo": {
     "elapsed": 349,
     "status": "ok",
     "timestamp": 1731902511253,
     "user": {
      "displayName": "Tuấn Quàng Lê Trần",
      "userId": "02554655782233207157"
     },
     "user_tz": -420
    },
    "id": "4hjdU1w6XL8O",
    "outputId": "53f7c1f1-1811-4de7-bfeb-2ddb46e214df"
   },
   "outputs": [
    {
     "name": "stdout",
     "output_type": "stream",
     "text": [
      "[0 0 1 0 0 0 0 0 0 0 0 0 1 0 0 0 0 0 0 0 0 1 0 0 0 1 0 0 0 1 0 0 0 0 0 0 0\n",
      " 1 0 0 0 0 0 0 0 1 0 0 0 0 0 0 0 0 0 0 1 0 0 1 1 1 1 0 0 0 0 0 1 1 0 0 0 0\n",
      " 0 0 1 0 0 0 0 0 0 0 0 0 0 0 0 0 0 0 0 0 0 1 0 0 1 1 0 0 1 0 0 0 0 0 0 0 0\n",
      " 1 0 0 0 0 0 0 0 0 1 1 0 1 0 0 0 0 0 0 0 1 1 1 0 0 0 0 0 1 0 1 0 1 0 1 0 0\n",
      " 0 1 1 0 1 0 0 1 1 1 0 0 0 0 1 1 0 1 0 0 0 0 0 0 0 1 0 0 0 0 1 1 0 0 0 0 0\n",
      " 0 0 0 1 0 0 0 0 1 0 0 1 1 0 0 1 0 1 0 0 0 0 0 0 1 0 0 0 0 0 0 1 1 0 0 0 0\n",
      " 1 0 1 0 1 1 0 0 1 1 0 0 0 0 0 0 1 0 0 0 0 1 0 1 0 0 0 0 0 0 1 0 0 0 0 0 1\n",
      " 0 0 0 0 0 0 0 0 0 1 0 0 0 1 0 0 0 0 0 0 0 0 0 0 0 0 1 0 1 1 0 0 1 1 0 0 1\n",
      " 0 0 0 0 0 0 1 0 0 1 0 1 0 1 1 0 0 0 0 0 0 1 0 0 1 1 0 0 0 0 1 1 0 0 0 1 0\n",
      " 1]\n"
     ]
    }
   ],
   "source": [
    "y_array = y_test.to_numpy()  # Trả về mảng NumPy\n",
    "print (y_array)"
   ]
  },
  {
   "cell_type": "code",
   "execution_count": 76,
   "metadata": {
    "colab": {
     "base_uri": "https://localhost:8080/"
    },
    "executionInfo": {
     "elapsed": 7,
     "status": "ok",
     "timestamp": 1731902512509,
     "user": {
      "displayName": "Tuấn Quàng Lê Trần",
      "userId": "02554655782233207157"
     },
     "user_tz": -420
    },
    "id": "UE82II8aVpUt",
    "outputId": "d79aed73-ad3f-4828-9ee8-4456d06f506f"
   },
   "outputs": [
    {
     "name": "stdout",
     "output_type": "stream",
     "text": [
      "[0 0 0 0 0 0 0 0 0 0 1 1 0 0 0 0 0 0 0 0 0 0 0 0 0 0 0 0 0 0 0 0 1 0 0 0 0\n",
      " 0 0 0 1 0 0 0 0 1 0 0 0 0 0 0 0 0 0 0 0 0 1 0 1 0 0 1 1 0 0 0 1 0 0 0 0 1\n",
      " 0 0 1 0 0 0 0 0 0 0 0 0 0 0 0 0 0 0 0 0 1 1 0 0 0 0 0 0 0 0 0 0 0 0 0 0 0\n",
      " 0 1 0 1 0 0 0 0 0 0 0 0 0 0 0 0 1 0 0 0 0 1 0 0 0 0 0 0 1 0 0 0 0 0 1 0 0\n",
      " 1 0 1 0 1 0 0 0 0 0 0 0 0 0 0 1 1 0 0 1 0 0 0 1 0 0 0 0 0 0 1 1 0 0 0 0 0\n",
      " 0 0 0 0 0 0 0 0 1 0 0 0 1 0 0 0 0 0 0 0 0 0 0 0 0 0 1 0 1 1 0 1 1 0 0 0 1\n",
      " 1 0 0 0 1 0 0 0 0 0 1 0 0 0 0 0 0 0 0 0 0 0 0 0 0 0 0 0 0 0 0 1 0 1 0 0 0\n",
      " 1 1 0 1 0 0 0 0 0 1 0 0 0 0 1 0 0 0 0 0 1 0 1 0 0 0 0 0 0 0 0 0 0 1 0 0 1\n",
      " 0 0 0 0 0 0 0 0 0 0 0 0 1 1 0 0 0 0 1 0 0 0 0 0 0 0 0 0 0 1 0 0 0 0 0 0 0\n",
      " 0]\n"
     ]
    }
   ],
   "source": [
    "print (y_pred_knn)"
   ]
  },
  {
   "cell_type": "code",
   "execution_count": 77,
   "metadata": {
    "colab": {
     "base_uri": "https://localhost:8080/",
     "height": 545
    },
    "executionInfo": {
     "elapsed": 577,
     "status": "ok",
     "timestamp": 1731902516907,
     "user": {
      "displayName": "Tuấn Quàng Lê Trần",
      "userId": "02554655782233207157"
     },
     "user_tz": -420
    },
    "id": "aT0mnjMVLFjm",
    "outputId": "bfc502b6-d66a-43f8-ba4e-ddc3805940ee"
   },
   "outputs": [
    {
     "data": {
      "image/png": "[encoded data removed]",
      "text/plain": [
       "<Figure size 1000x600 with 1 Axes>"
      ]
     },
     "metadata": {},
     "output_type": "display_data"
    }
   ],
   "source": [
    "accuracies = [accuracy_lr, accuracy_dt, accuracy_svm, accuracy_rf, accuracy_knn]\n",
    "models = ['Logistic Regression', 'Decision Tree', 'SVM', 'Random Forest', 'KNN']\n",
    "\n",
    "plt.figure(figsize=(10, 6))\n",
    "plt.bar(models, accuracies, color=['blue', 'orange', 'green', 'red', 'purple'])\n",
    "plt.ylim(0, 1)\n",
    "plt.ylabel('Accuracy')\n",
    "plt.title('Model Comparison: Accuracy of Different Classifiers')\n",
    "plt.axhline(y=max(accuracies), color='red', linestyle='--', label='Best Model')\n",
    "\n",
    "for i, v in enumerate(accuracies):\n",
    "    plt.text(i, v + 0.01, f\"{v:.2f}\", ha='center')\n",
    "\n",
    "plt.legend()\n",
    "plt.show()"
   ]
  },
  {
   "cell_type": "markdown",
   "metadata": {
    "id": "L3sI1SwnfRh7"
   },
   "source": [
    "Chọn mô hình KNeighborsClassifier"
   ]
  },
  {
   "cell_type": "code",
   "execution_count": 78,
   "metadata": {
    "colab": {
     "base_uri": "https://localhost:8080/",
     "height": 571
    },
    "executionInfo": {
     "elapsed": 478,
     "status": "ok",
     "timestamp": 1731902524138,
     "user": {
      "displayName": "Tuấn Quàng Lê Trần",
      "userId": "02554655782233207157"
     },
     "user_tz": -420
    },
    "id": "Mh1UIl7WMSGj",
    "outputId": "0997ad24-3faf-401b-9141-b6ef0850f111"
   },
   "outputs": [
    {
     "data": {
      "image/png": "[encoded data removed]",
      "text/plain": [
       "<Figure size 1000x600 with 2 Axes>"
      ]
     },
     "metadata": {},
     "output_type": "display_data"
    }
   ],
   "source": [
    "cm = confusion_matrix(y_test, y_pred_knn)\n",
    "plt.figure(figsize=(10,6))\n",
    "plt.title('Confusion Matrix for New Testing Data', fontsize=16)\n",
    "sns.heatmap(cm, annot=True, fmt='g', cmap='coolwarm')\n",
    "plt.xlabel('Predicted Value', fontsize=14)\n",
    "plt.ylabel('Actual Value', fontsize=14)\n",
    "plt.show()"
   ]
  },
  {
   "cell_type": "code",
   "execution_count": 80,
   "metadata": {
    "executionInfo": {
     "elapsed": 325,
     "status": "ok",
     "timestamp": 1731902529882,
     "user": {
      "displayName": "Tuấn Quàng Lê Trần",
      "userId": "02554655782233207157"
     },
     "user_tz": -420
    },
    "id": "tN8zd8OcEKJ0"
   },
   "outputs": [],
   "source": [
    "from sklearn.neighbors import KNeighborsClassifier\n",
    "\n",
    "# Khởi tạo mô hình KNN với số lượng hàng xóm k là 5\n",
    "knn_model = KNeighborsClassifier(n_neighbors=5)\n",
    "\n",
    "# Huấn luyện mô hình trên dữ liệu huấn luyện\n",
    "knn_model.fit(x_train, y_train)\n",
    "\n",
    "# Tính toán xác suất dự đoán trên tập kiểm tra\n",
    "y_probs_knn = knn_model.predict_proba(x_test)[:, 1]  # Xác suất thuộc lớp 1 (hút thuốc)"
   ]
  },
  {
   "cell_type": "code",
   "execution_count": 81,
   "metadata": {
    "colab": {
     "base_uri": "https://localhost:8080/",
     "height": 564
    },
    "executionInfo": {
     "elapsed": 972,
     "status": "ok",
     "timestamp": 1731902590199,
     "user": {
      "displayName": "Tuấn Quàng Lê Trần",
      "userId": "02554655782233207157"
     },
     "user_tz": -420
    },
    "id": "GmJvr1_KMlGw",
    "outputId": "7935ae44-1785-4b5a-ac82-0fef809a4869"
   },
   "outputs": [
    {
     "data": {
      "image/png": "[encoded data removed]",
      "text/plain": [
       "<Figure size 800x600 with 1 Axes>"
      ]
     },
     "metadata": {},
     "output_type": "display_data"
    }
   ],
   "source": [
    "# Calculate ROC curve and AUC\n",
    "from sklearn.metrics import roc_curve, roc_auc_score\n",
    "\n",
    "fpr, tpr, thresholds = roc_curve(y_test, y_probs_knn)\n",
    "auc_score = roc_auc_score(y_test, y_probs_knn)\n",
    "\n",
    "# Plot the ROC Curve\n",
    "plt.figure(figsize=(8, 6))\n",
    "plt.plot(fpr, tpr, label=f'ROC Curve (AUC = {auc_score:.2f})', color='green')\n",
    "plt.plot([0, 1], [0, 1], 'k--', label='Random Guessing', color='red')\n",
    "plt.xlabel('False Positive Rate (FPR)')\n",
    "plt.ylabel('True Positive Rate (TPR) / Recall')\n",
    "plt.title('ROC Curve for Smoking Dataset')\n",
    "plt.legend()\n",
    "plt.show()"
   ]
  },
  {
   "cell_type": "markdown",
   "metadata": {
    "id": "5hzwmfWwy1rA"
   },
   "source": [
    "### 7. Dự đoán mô hình với dữ liệu mới"
   ]
  },
  {
   "cell_type": "code",
   "execution_count": 82,
   "metadata": {
    "executionInfo": {
     "elapsed": 365,
     "status": "ok",
     "timestamp": 1731902657979,
     "user": {
      "displayName": "Tuấn Quàng Lê Trần",
      "userId": "02554655782233207157"
     },
     "user_tz": -420
    },
    "id": "AYEVv1cCzAnY"
   },
   "outputs": [],
   "source": [
    "def predict_smoking(gender, age, marital_status, highest_qualification, nationality, ethnicity, gross_income):\n",
    "  x =np.zeros(len(x_train.columns))\n",
    "  x[0] = gender\n",
    "  x[1] = age\n",
    "  x[2] = marital_status\n",
    "  x[3] = highest_qualification\n",
    "  x[4] = nationality\n",
    "  x[5] = ethnicity\n",
    "  x[6] = gross_income\n",
    "\n",
    "  return knn_model.predict([x])[0]"
   ]
  },
  {
   "cell_type": "code",
   "execution_count": 83,
   "metadata": {
    "colab": {
     "base_uri": "https://localhost:8080/"
    },
    "executionInfo": {
     "elapsed": 376,
     "status": "ok",
     "timestamp": 1731902659888,
     "user": {
      "displayName": "Tuấn Quàng Lê Trần",
      "userId": "02554655782233207157"
     },
     "user_tz": -420
    },
    "id": "Z7n_VSg62FMW",
    "outputId": "eacefad5-705e-4edb-92b8-d92c60c17a87"
   },
   "outputs": [
    {
     "name": "stdout",
     "output_type": "stream",
     "text": [
      "0\n",
      "Người này không hút thuốc.\n"
     ]
    }
   ],
   "source": [
    "result = predict_smoking(1,\t23,\t2,\t1,\t1,\t3,\t4)\n",
    "print(result)\n",
    "if result == 0:\n",
    "        print(\"Người này không hút thuốc.\")\n",
    "elif result == 1:\n",
    "        print(\"Người này có hút thuốc.\")\n"
   ]
  }
 ],
 "metadata": {
  "colab": {
   "provenance": []
  },
  "kernelspec": {
   "display_name": "Python 3",
   "name": "python3"
  },
  "language_info": {
   "codemirror_mode": {
    "name": "ipython",
    "version": 3
   },
   "file_extension": ".py",
   "mimetype": "text/x-python",
   "name": "python",
   "nbconvert_exporter": "python",
   "pygments_lexer": "ipython3",
   "version": "3.12.1"
  }
 },
 "nbformat": 4,
 "nbformat_minor": 0
}
